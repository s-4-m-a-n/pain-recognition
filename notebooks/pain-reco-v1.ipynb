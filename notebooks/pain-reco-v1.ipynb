{
 "cells": [
  {
   "cell_type": "code",
   "execution_count": 1,
   "metadata": {
    "_cell_guid": "b1076dfc-b9ad-4769-8c92-a6c4dae69d19",
    "_uuid": "8f2839f25d086af736a60e9eeb907d3b93b6e0e5",
    "execution": {
     "iopub.execute_input": "2022-12-12T10:01:25.806698Z",
     "iopub.status.busy": "2022-12-12T10:01:25.806010Z",
     "iopub.status.idle": "2022-12-12T10:01:25.838401Z",
     "shell.execute_reply": "2022-12-12T10:01:25.837581Z",
     "shell.execute_reply.started": "2022-12-12T10:01:25.806622Z"
    }
   },
   "outputs": [],
   "source": [
    "# This Python 3 environment comes with many helpful analytics libraries installed\n",
    "# It is defined by the kaggle/python Docker image: https://github.com/kaggle/docker-python\n",
    "# For example, here's several helpful packages to load\n",
    "\n",
    "import numpy as np # linear algebra\n",
    "import pandas as pd # data processing, CSV file I/O (e.g. pd.read_csv)\n",
    "\n",
    "# Input data files are available in the read-only \"../input/\" directory\n",
    "# For example, running this (by clicking run or pressing Shift+Enter) will list all files under the input directory\n",
    "\n",
    "import os\n",
    "\n",
    "\n",
    "# You can write up to 20GB to the current directory (/kaggle/working/) that gets preserved as output when you create a version using \"Save & Run All\" \n",
    "# You can also write temporary files to /kaggle/temp/, but they won't be saved outside of the current session"
   ]
  },
  {
   "cell_type": "code",
   "execution_count": 2,
   "metadata": {
    "execution": {
     "iopub.execute_input": "2022-12-12T10:02:03.682188Z",
     "iopub.status.busy": "2022-12-12T10:02:03.681675Z",
     "iopub.status.idle": "2022-12-12T10:02:03.688107Z",
     "shell.execute_reply": "2022-12-12T10:02:03.687232Z",
     "shell.execute_reply.started": "2022-12-12T10:02:03.682141Z"
    }
   },
   "outputs": [],
   "source": [
    "import matplotlib.pyplot as plt"
   ]
  },
  {
   "cell_type": "code",
   "execution_count": 83,
   "metadata": {
    "execution": {
     "iopub.execute_input": "2022-12-12T08:32:50.856004Z",
     "iopub.status.busy": "2022-12-12T08:32:50.854957Z",
     "iopub.status.idle": "2022-12-12T08:32:50.865115Z",
     "shell.execute_reply": "2022-12-12T08:32:50.864070Z",
     "shell.execute_reply.started": "2022-12-12T08:32:50.855960Z"
    }
   },
   "outputs": [],
   "source": [
    "def get_label_img(IMAGE_DATASET_PATH, LABEL_DATASET_PATH, index1, index2, index3):\n",
    "    ''' return image with corresponding label'''\n",
    "    # retrieving level 2\n",
    "    n = sorted(os.listdir(LABEL_DATASET_PATH))[index1]\n",
    "    level_1 = os.path.join(LABEL_DATASET_PATH, n)\n",
    "    m = sorted(os.listdir(level_1))[index2]\n",
    "    level_2 = os.path.join(level_1, m)\n",
    "    o = sorted(os.listdir(level_2))[index3] \n",
    "    level_3 = os.path.join(level_2, o)\n",
    "    \n",
    "    with open(level_3) as f:\n",
    "        label = f.readline().strip()\n",
    "    \n",
    "    # retrieving level 3\n",
    "    n_i = sorted(os.listdir(IMAGE_DATASET_PATH))[index1]\n",
    "    level_1_i = os.path.join(IMAGE_DATASET_PATH, n_i)\n",
    "    m_i = sorted(os.listdir(level_1_i))[index2]\n",
    "    level_2_i = os.path.join(level_1_i, m_i)\n",
    "    o_i = sorted(os.listdir(level_2_i))[index3] \n",
    "    level_3_i = os.path.join(level_2_i, o_i)\n",
    "    \n",
    "    #reading image\n",
    "    img = plt.imread(level_3_i)\n",
    "    return img, label\n",
    "    "
   ]
  },
  {
   "cell_type": "code",
   "execution_count": 84,
   "metadata": {
    "execution": {
     "iopub.execute_input": "2022-12-12T08:32:52.458511Z",
     "iopub.status.busy": "2022-12-12T08:32:52.458153Z",
     "iopub.status.idle": "2022-12-12T08:32:52.795588Z",
     "shell.execute_reply": "2022-12-12T08:32:52.794433Z",
     "shell.execute_reply.started": "2022-12-12T08:32:52.458482Z"
    }
   },
   "outputs": [
    {
     "data": {
      "text/plain": [
       "(240, 320, 3)"
      ]
     },
     "execution_count": 84,
     "metadata": {},
     "output_type": "execute_result"
    }
   ],
   "source": [
    "LABEL_DATASET_PATH = \"/kaggle/input/emotionpain/Frame_Labels/Frame_Labels/PSPI\"\n",
    "IMAGE_DATASET_PATH = \"/kaggle/input/emotionpain/Images/Images\"\n",
    "image, label = get_label_img(IMAGE_DATASET_PATH, LABEL_DATASET_PATH , 0, 0, 0)\n",
    "image.shape"
   ]
  },
  {
   "cell_type": "markdown",
   "metadata": {},
   "source": [
    "### display image"
   ]
  },
  {
   "cell_type": "code",
   "execution_count": null,
   "metadata": {
    "execution": {
     "iopub.execute_input": "2022-12-08T05:14:42.643944Z",
     "iopub.status.busy": "2022-12-08T05:14:42.643462Z",
     "iopub.status.idle": "2022-12-08T05:14:42.650584Z",
     "shell.execute_reply": "2022-12-08T05:14:42.649341Z",
     "shell.execute_reply.started": "2022-12-08T05:14:42.643903Z"
    }
   },
   "outputs": [],
   "source": [
    "def show_img_label(index1, index2, index3):\n",
    "    LABEL_DATASET_PATH = \"/kaggle/input/emotionpain/Frame_Labels/Frame_Labels/PSPI\"\n",
    "    IMAGE_DATASET_PATH = \"/kaggle/input/emotionpain/Images/Images\"\n",
    "    image, label = get_label_img(IMAGE_DATASET_PATH, LABEL_DATASET_PATH , index1, index2, index3)\n",
    "    plt.imshow(image)\n",
    "    plt.title(\"label: \"+ label)\n",
    "    plt.show()"
   ]
  },
  {
   "cell_type": "code",
   "execution_count": null,
   "metadata": {
    "execution": {
     "iopub.execute_input": "2022-12-08T05:14:43.410420Z",
     "iopub.status.busy": "2022-12-08T05:14:43.409628Z",
     "iopub.status.idle": "2022-12-08T05:14:43.819867Z",
     "shell.execute_reply": "2022-12-08T05:14:43.818685Z",
     "shell.execute_reply.started": "2022-12-08T05:14:43.410361Z"
    }
   },
   "outputs": [],
   "source": [
    "show_img_label(1, 0, 52)"
   ]
  },
  {
   "cell_type": "code",
   "execution_count": null,
   "metadata": {
    "execution": {
     "iopub.execute_input": "2022-12-08T05:14:43.823108Z",
     "iopub.status.busy": "2022-12-08T05:14:43.822212Z",
     "iopub.status.idle": "2022-12-08T05:14:43.835630Z",
     "shell.execute_reply": "2022-12-08T05:14:43.834347Z",
     "shell.execute_reply.started": "2022-12-08T05:14:43.823059Z"
    }
   },
   "outputs": [],
   "source": [
    "def multi_image_plot(image_list, dim = (3,3), figsize=(10, 10), title=\"\", sharey=False, sharex=True, tight_layout=False, cmap='gray'):\n",
    "    fig, axes = plt.subplots(dim[0], dim[1], figsize=figsize, sharey=sharey, sharex=sharex)\n",
    "    fig.suptitle(title, fontsize=16)\n",
    "    \n",
    "    if tight_layout:\n",
    "        fig.tight_layout()\n",
    "    cursor = 0\n",
    "    for i in range(0,dim[0]):\n",
    "        for j in range(0,dim[1]):\n",
    "            if cursor >= len(image_list):\n",
    "                break\n",
    "            axes[i][j].imshow(image_list[cursor][0], cmap=cmap)\n",
    "            axes[i][j].axis('off')\n",
    "            axes[i][j].set_title(f\"label: {image_list[cursor][1]}\")\n",
    "\n",
    "            cursor += 1\n",
    "    plt.show()"
   ]
  },
  {
   "cell_type": "code",
   "execution_count": null,
   "metadata": {
    "execution": {
     "iopub.execute_input": "2022-12-08T05:14:43.838397Z",
     "iopub.status.busy": "2022-12-08T05:14:43.837064Z",
     "iopub.status.idle": "2022-12-08T05:14:43.849403Z",
     "shell.execute_reply": "2022-12-08T05:14:43.847895Z",
     "shell.execute_reply.started": "2022-12-08T05:14:43.838335Z"
    }
   },
   "outputs": [],
   "source": [
    "def show_img_grid(index_3, index_1=1, index_2=0):\n",
    "    LABEL_DATASET_PATH = \"/kaggle/input/emotionpain/Frame_Labels/Frame_Labels/PSPI\"\n",
    "    IMAGE_DATASET_PATH = \"/kaggle/input/emotionpain/Images/Images\"\n",
    "    image_bucket = []\n",
    "    for i in range(index_3, index_3+9):\n",
    "        img, label = get_label_img(IMAGE_DATASET_PATH,\n",
    "                                   LABEL_DATASET_PATH ,\n",
    "                                   index_1, index_2, i)\n",
    "        image_bucket.append((img, label))\n",
    "    multi_image_plot(image_bucket)"
   ]
  },
  {
   "cell_type": "code",
   "execution_count": null,
   "metadata": {
    "execution": {
     "iopub.execute_input": "2022-12-08T05:14:43.908931Z",
     "iopub.status.busy": "2022-12-08T05:14:43.907570Z",
     "iopub.status.idle": "2022-12-08T05:14:45.009512Z",
     "shell.execute_reply": "2022-12-08T05:14:45.008423Z",
     "shell.execute_reply.started": "2022-12-08T05:14:43.908859Z"
    }
   },
   "outputs": [],
   "source": [
    "show_img_grid(50, 1, 0)"
   ]
  },
  {
   "cell_type": "code",
   "execution_count": null,
   "metadata": {
    "execution": {
     "iopub.execute_input": "2022-12-08T05:14:45.012722Z",
     "iopub.status.busy": "2022-12-08T05:14:45.011812Z",
     "iopub.status.idle": "2022-12-08T05:14:46.101881Z",
     "shell.execute_reply": "2022-12-08T05:14:46.100483Z",
     "shell.execute_reply.started": "2022-12-08T05:14:45.012655Z"
    }
   },
   "outputs": [],
   "source": [
    "show_img_grid(90, 3, 3)"
   ]
  },
  {
   "cell_type": "code",
   "execution_count": 29,
   "metadata": {
    "execution": {
     "iopub.execute_input": "2022-12-12T06:20:54.434408Z",
     "iopub.status.busy": "2022-12-12T06:20:54.433716Z",
     "iopub.status.idle": "2022-12-12T06:20:54.442106Z",
     "shell.execute_reply": "2022-12-12T06:20:54.440935Z",
     "shell.execute_reply.started": "2022-12-12T06:20:54.434372Z"
    }
   },
   "outputs": [],
   "source": [
    "def get_large_label_indices(lower_bound = 3):\n",
    "    LABEL_DATASET_PATH = \"/kaggle/input/emotionpain/Frame_Labels/Frame_Labels/PSPI\"\n",
    "    IMAGE_DATASET_PATH = \"/kaggle/input/emotionpain/Images/Images\"\n",
    "    indices_bucket = []\n",
    "    for l1, level_1 in tqdm(enumerate(sorted(os.listdir(LABEL_DATASET_PATH)))):\n",
    "        level_1_full_path = os.path.join(LABEL_DATASET_PATH, level_1)\n",
    "        for l2, level_2 in enumerate(sorted(os.listdir(level_1_full_path))):\n",
    "            level_2_full_path = os.path.join(level_1_full_path, level_2)\n",
    "            for l3, level_3 in enumerate(sorted(os.listdir(level_2_full_path))):\n",
    "                level_3_full_path = os.path.join(level_2_full_path, level_3)\n",
    "                with open(level_3_full_path) as f:\n",
    "                    label = float(f.readline().strip())\n",
    "                    if  label > lower_bound:\n",
    "                         indices_bucket.append(((l1, l2, l3), label))\n",
    "    \n",
    "    return indices_bucket\n",
    "                        \n",
    "                    "
   ]
  },
  {
   "cell_type": "code",
   "execution_count": 30,
   "metadata": {
    "execution": {
     "iopub.execute_input": "2022-12-12T06:20:55.715765Z",
     "iopub.status.busy": "2022-12-12T06:20:55.715378Z",
     "iopub.status.idle": "2022-12-12T06:22:31.542812Z",
     "shell.execute_reply": "2022-12-12T06:22:31.541791Z",
     "shell.execute_reply.started": "2022-12-12T06:20:55.715717Z"
    }
   },
   "outputs": [
    {
     "name": "stderr",
     "output_type": "stream",
     "text": [
      "25it [01:35,  3.83s/it]\n"
     ]
    }
   ],
   "source": [
    "indices_bucket = get_large_label_indices()"
   ]
  },
  {
   "cell_type": "code",
   "execution_count": 31,
   "metadata": {
    "execution": {
     "iopub.execute_input": "2022-12-12T06:22:50.360326Z",
     "iopub.status.busy": "2022-12-12T06:22:50.359629Z",
     "iopub.status.idle": "2022-12-12T06:22:50.374779Z",
     "shell.execute_reply": "2022-12-12T06:22:50.373889Z",
     "shell.execute_reply.started": "2022-12-12T06:22:50.360288Z"
    }
   },
   "outputs": [
    {
     "data": {
      "text/plain": [
       "(array([ 4.,  5.,  6.,  7.,  8.,  9., 10., 11., 12., 13., 14., 15.]),\n",
       " array([802, 242, 270,  53,  79,  32,  67,  76,  48,  22,   1,   5]))"
      ]
     },
     "execution_count": 31,
     "metadata": {},
     "output_type": "execute_result"
    }
   ],
   "source": [
    "np.unique([x for _, x in indices_bucket], return_counts= True)"
   ]
  },
  {
   "cell_type": "code",
   "execution_count": null,
   "metadata": {
    "execution": {
     "iopub.execute_input": "2022-12-08T05:17:20.801113Z",
     "iopub.status.busy": "2022-12-08T05:17:20.799584Z",
     "iopub.status.idle": "2022-12-08T05:17:20.805994Z",
     "shell.execute_reply": "2022-12-08T05:17:20.805120Z",
     "shell.execute_reply.started": "2022-12-08T05:17:20.801065Z"
    }
   },
   "outputs": [],
   "source": [
    "# 0 - 2, 3-5, 5- above\n",
    "# indices_bucket[1500:1510]"
   ]
  },
  {
   "cell_type": "code",
   "execution_count": null,
   "metadata": {
    "execution": {
     "iopub.execute_input": "2022-12-08T05:17:24.287207Z",
     "iopub.status.busy": "2022-12-08T05:17:24.286755Z",
     "iopub.status.idle": "2022-12-08T05:17:24.293781Z",
     "shell.execute_reply": "2022-12-08T05:17:24.292178Z",
     "shell.execute_reply.started": "2022-12-08T05:17:24.287171Z"
    }
   },
   "outputs": [],
   "source": [
    "# show_img_grid(85, 0, 5)"
   ]
  },
  {
   "cell_type": "code",
   "execution_count": null,
   "metadata": {
    "execution": {
     "iopub.execute_input": "2022-12-08T05:17:26.860775Z",
     "iopub.status.busy": "2022-12-08T05:17:26.860319Z",
     "iopub.status.idle": "2022-12-08T05:17:26.867385Z",
     "shell.execute_reply": "2022-12-08T05:17:26.865881Z",
     "shell.execute_reply.started": "2022-12-08T05:17:26.860739Z"
    }
   },
   "outputs": [],
   "source": [
    "# show_img_grid(70, 0, 5)"
   ]
  },
  {
   "cell_type": "code",
   "execution_count": null,
   "metadata": {
    "execution": {
     "iopub.execute_input": "2022-12-08T05:17:29.884936Z",
     "iopub.status.busy": "2022-12-08T05:17:29.884521Z",
     "iopub.status.idle": "2022-12-08T05:17:29.891252Z",
     "shell.execute_reply": "2022-12-08T05:17:29.889776Z",
     "shell.execute_reply.started": "2022-12-08T05:17:29.884901Z"
    }
   },
   "outputs": [],
   "source": [
    "# show_img_grid(345, 24, 6)"
   ]
  },
  {
   "cell_type": "code",
   "execution_count": null,
   "metadata": {
    "execution": {
     "iopub.execute_input": "2022-12-08T05:17:33.183227Z",
     "iopub.status.busy": "2022-12-08T05:17:33.182791Z",
     "iopub.status.idle": "2022-12-08T05:17:33.188834Z",
     "shell.execute_reply": "2022-12-08T05:17:33.187831Z",
     "shell.execute_reply.started": "2022-12-08T05:17:33.183191Z"
    }
   },
   "outputs": [],
   "source": [
    "# show_img_grid(163, 23, 1)"
   ]
  },
  {
   "cell_type": "code",
   "execution_count": 3,
   "metadata": {
    "execution": {
     "iopub.execute_input": "2022-12-12T10:02:13.675509Z",
     "iopub.status.busy": "2022-12-12T10:02:13.675150Z",
     "iopub.status.idle": "2022-12-12T10:02:13.890622Z",
     "shell.execute_reply": "2022-12-12T10:02:13.889578Z",
     "shell.execute_reply.started": "2022-12-12T10:02:13.675479Z"
    }
   },
   "outputs": [],
   "source": [
    "import cv2\n",
    "import numpy as np\n",
    "import glob\n",
    "def gen_video(index_1, index_2, index_3_range, name):\n",
    "    LABEL_DATASET_PATH = \"/kaggle/input/emotionpain/Frame_Labels/Frame_Labels/PSPI\"\n",
    "    IMAGE_DATASET_PATH = \"/kaggle/input/emotionpain/Images/Images\"\n",
    "    frameSize = (500, 500)\n",
    "    out = cv2.VideoWriter(name, cv2.VideoWriter_fourcc('M','J','P','G'),\n",
    "                          10, frameSize)\n",
    "\n",
    "    n_i = sorted(os.listdir(IMAGE_DATASET_PATH))[index_1]\n",
    "    level_1_i = os.path.join(IMAGE_DATASET_PATH, n_i)\n",
    "    m_i = sorted(os.listdir(level_1_i))[index_2]\n",
    "    level_2_i = os.path.join(level_1_i, m_i)\n",
    "#     o_i = sorted(os.listdir(level_2_i))\n",
    "    for img_path in sorted(glob.glob(f\"{level_2_i}/*\"))[index_3_range[0]:index_3_range[1]]:\n",
    "        img = cv2.imread(img_path)\n",
    "        resized = cv2.resize(img, (500,500), interpolation = cv2.INTER_AREA)\n",
    "        out.write(resized)\n",
    "    out.release()"
   ]
  },
  {
   "cell_type": "code",
   "execution_count": null,
   "metadata": {
    "execution": {
     "iopub.execute_input": "2022-12-08T05:17:37.611402Z",
     "iopub.status.busy": "2022-12-08T05:17:37.610849Z",
     "iopub.status.idle": "2022-12-08T05:17:37.617258Z",
     "shell.execute_reply": "2022-12-08T05:17:37.615711Z",
     "shell.execute_reply.started": "2022-12-08T05:17:37.611361Z"
    }
   },
   "outputs": [],
   "source": [
    "# gen_video(0, 5, (0, 300), 'output_video3.avi')"
   ]
  },
  {
   "cell_type": "markdown",
   "metadata": {},
   "source": [
    "# Preparing Training Dataset"
   ]
  },
  {
   "cell_type": "markdown",
   "metadata": {},
   "source": [
    "- crop faces, labels"
   ]
  },
  {
   "cell_type": "code",
   "execution_count": 4,
   "metadata": {
    "execution": {
     "iopub.execute_input": "2022-12-12T10:02:17.245922Z",
     "iopub.status.busy": "2022-12-12T10:02:17.245445Z",
     "iopub.status.idle": "2022-12-12T10:02:23.178621Z",
     "shell.execute_reply": "2022-12-12T10:02:23.177640Z",
     "shell.execute_reply.started": "2022-12-12T10:02:17.245880Z"
    }
   },
   "outputs": [],
   "source": [
    "from random import shuffle\n",
    "from tqdm import tqdm\n",
    "import cv2\n",
    "from pickle import dump, load\n",
    "from keras.layers import Conv2D, MaxPooling2D\n",
    "from keras.layers import Activation, Dropout, Flatten, Dense,BatchNormalization\n",
    "import pickle as pk\n",
    "from tensorflow.keras import applications\n",
    "import os\n",
    "import numpy as np"
   ]
  },
  {
   "cell_type": "code",
   "execution_count": 39,
   "metadata": {
    "execution": {
     "iopub.execute_input": "2022-12-11T03:56:19.415021Z",
     "iopub.status.busy": "2022-12-11T03:56:19.414612Z",
     "iopub.status.idle": "2022-12-11T03:56:19.433785Z",
     "shell.execute_reply": "2022-12-11T03:56:19.432631Z",
     "shell.execute_reply.started": "2022-12-11T03:56:19.414973Z"
    }
   },
   "outputs": [],
   "source": [
    "# def generate_dataset(Label_Dir, TRAIN_DIR, IMG_SIZE):\n",
    "#     harrcascade_face_xml = \"/kaggle/input/haarcascades/haarcascade_frontalface_default.xml\"\n",
    "#     face_cascade = cv2.CascadeClassifier(harrcascade_face_xml)\n",
    "#     training_data = []\n",
    "#     label_data=[]\n",
    "\n",
    "#     c0 = c1 = res =0\n",
    "#     #reading label only \n",
    "#     for folder in tqdm(sorted(os.listdir(Label_Dir))):\n",
    "#         c0=0\n",
    "#         for inner_folder in sorted(os.listdir((Label_Dir+'/'+folder))):\n",
    "#             path = os.path.join(Label_Dir,folder+'/'+ inner_folder)\n",
    "#             for file_name in sorted(os.listdir(path)):\n",
    "                \n",
    "#                 file=os.path.join(path+'/'+file_name)\n",
    "#                 with open(file) as f:\n",
    "#                     label = float(f.readline().strip())\n",
    "#                     if (label < 2 and c0<340):\n",
    "#                         label_data.append((file_name, 0))\n",
    "#                         res+=1\n",
    "#                         c0+=1\n",
    "#                     if(label >= 2):\n",
    "#                         label_data.append((file_name, 1))\n",
    "#                         c1+=1\n",
    "#                     f.close()\n",
    "    \n",
    "#     label_data.append(('eof', -1))\n",
    "#     print(str(res) + ' ' + str(c1))\n",
    "#     #reading images and it's labels\n",
    "#     c = c0 = c1 = res = 0\n",
    "#     print(len(label_data))\n",
    "    \n",
    "#     for folder in sorted(os.listdir(TRAIN_DIR)):\n",
    "#         c0=0\n",
    "#         for inner_folder in sorted(os.listdir((TRAIN_DIR+'/'+folder))):\n",
    "#             path = os.path.join(TRAIN_DIR,folder+'/'+ inner_folder)\n",
    "            \n",
    "#             for img_name in tqdm(sorted(os.listdir(path))):\n",
    "\n",
    "#                 img=os.path.join(path+'/'+img_name)\n",
    "                \n",
    "#                 _label = label_data[c][0].split('.')[0].strip().lower()\n",
    "#                 _img = img_name.split('.')[0]+\"_facs\".strip().lower()\n",
    "                \n",
    "#                 if _label != _img: #checker\n",
    "#                     x = {\"image\": _img, \"label\": _label, \"index\": c}\n",
    "#                     print(x)\n",
    "#                     c += 1\n",
    "#                     continue\n",
    "                    \n",
    "#                 img_data = cv2.imread(img,cv2.IMREAD_COLOR)#cv2.IMREAD_COLOR\n",
    "#                 img_data_gray = cv2.cvtColor(img_data,cv2.COLOR_RGB2GRAY)\n",
    "#                 faces = face_cascade.detectMultiScale(img_data_gray, 1.1, 4)\n",
    "                \n",
    "#                 if not len(faces):\n",
    "#                     c += 1\n",
    "#                     print(\"no face detected..\")\n",
    "#                     continue\n",
    "                    \n",
    "#                 x, y, w, h = faces[0]\n",
    "#                 face_cropped = img_data[y: y+h, x: x+w]\n",
    "#                 img_data = cv2.resize(face_cropped, (IMG_SIZE, IMG_SIZE))\n",
    "\n",
    "#                 if (label_data[c][1]==-1):break\n",
    "#                 if (label_data[c][1] < 2 and c0<340):\n",
    "#                     training_data.append([np.array(img_data), label_data[c][1]])\n",
    "#                     c0+=1\n",
    "#                     res+=1\n",
    "#                     c+=1\n",
    "#                 if (label_data[c][1] >= 2):\n",
    "#                     training_data.append([np.array(img_data), label_data[c][1]])\n",
    "#                     c+=1\n",
    "#                     c1+=1\n",
    "#                 if c % 100 == 0:\n",
    "#                     print(\"saving dataset...\")\n",
    "#                     dump(training_data, open('/kaggle/working/training_data_rgb_checkpoint.pkl', 'wb'))\n",
    "\n",
    "#             #print(str(res) + ' ' + str(c1))      \n",
    "\n",
    "#     print(str(res) + ' ' + str(c1))           \n",
    "\n",
    "#     shuffle(training_data) \n",
    "#     dump(training_data, open('/kaggle/working/training_data_rgb.pkl', 'wb'))\n",
    "#     return training_data"
   ]
  },
  {
   "cell_type": "code",
   "execution_count": 5,
   "metadata": {
    "execution": {
     "iopub.execute_input": "2022-12-12T04:39:55.267626Z",
     "iopub.status.busy": "2022-12-12T04:39:55.267267Z",
     "iopub.status.idle": "2022-12-12T04:39:55.284063Z",
     "shell.execute_reply": "2022-12-12T04:39:55.282814Z",
     "shell.execute_reply.started": "2022-12-12T04:39:55.267594Z"
    }
   },
   "outputs": [],
   "source": [
    "def generate_dataset(Label_Dir, TRAIN_DIR, IMG_SIZE, n_skip=3):\n",
    "    harrcascade_face_xml = \"/kaggle/input/haarcascades/haarcascade_frontalface_default.xml\"\n",
    "    face_cascade = cv2.CascadeClassifier(harrcascade_face_xml)\n",
    "    training_data = []\n",
    "    label_data=[]\n",
    "\n",
    "    #reading label only \n",
    "    for folder in tqdm(sorted(os.listdir(Label_Dir))):\n",
    "        for inner_folder in sorted(os.listdir((Label_Dir+'/'+folder))):\n",
    "            path = os.path.join(Label_Dir,folder+'/'+ inner_folder)\n",
    "            for file_name in sorted(os.listdir(path)):\n",
    "                \n",
    "                file=os.path.join(path+'/'+file_name)\n",
    "                with open(file) as f:\n",
    "                    label = float(f.readline().strip())\n",
    "                    if label < 2:\n",
    "                        label_data.append((file_name, 0))\n",
    "                    if label >= 2:\n",
    "                        label_data.append((file_name, 1))\n",
    "                    f.close()\n",
    "    \n",
    "    label_data.append(('eof', -1))\n",
    "    #reading images and it's labels\n",
    "    c = 0\n",
    "    print(len(label_data))\n",
    "    \n",
    "    for folder in sorted(os.listdir(TRAIN_DIR)):\n",
    "        for inner_folder in sorted(os.listdir((TRAIN_DIR+'/'+folder))):\n",
    "            path = os.path.join(TRAIN_DIR,folder+'/'+ inner_folder)\n",
    "            \n",
    "            for img_name in tqdm(sorted(os.listdir(path))):\n",
    "                \n",
    "                if c%n_skip != 0:\n",
    "                    c += 1\n",
    "                    continue\n",
    "                \n",
    "                img=os.path.join(path+'/'+img_name)\n",
    "                \n",
    "                _label = label_data[c][0].split('.')[0].strip().lower()\n",
    "                _img = img_name.split('.')[0]+\"_facs\".strip().lower()\n",
    "                \n",
    "                if _label != _img: #checker\n",
    "                    x = {\"image\": _img, \"label\": _label, \"index\": c}\n",
    "                    print(x)\n",
    "                    c += 1\n",
    "                    continue\n",
    "                    \n",
    "                img_data = cv2.imread(img,cv2.IMREAD_COLOR)#cv2.IMREAD_COLOR\n",
    "                img_data_gray = cv2.cvtColor(img_data,cv2.COLOR_RGB2GRAY)\n",
    "                faces = face_cascade.detectMultiScale(img_data_gray, 1.1, 4)\n",
    "                \n",
    "                if not len(faces):\n",
    "                    c += 1\n",
    "                    print(\"no face detected..\")\n",
    "                    continue\n",
    "                    \n",
    "                x, y, w, h = faces[0]\n",
    "                face_cropped = img_data[y: y+h, x: x+w]\n",
    "                img_data = cv2.resize(face_cropped, (IMG_SIZE, IMG_SIZE))\n",
    "\n",
    "                if (label_data[c][1]==-1):break\n",
    "                \n",
    "                elif (label_data[c][1] < 2):\n",
    "                    training_data.append([np.array(img_data), label_data[c][1]])\n",
    "                    c+=1\n",
    "                else:\n",
    "                    training_data.append([np.array(img_data), label_data[c][1]])\n",
    "                    c+=1\n",
    "\n",
    "                if c % 100 == 0:\n",
    "                    print(\"saving dataset...\")\n",
    "                    dump(training_data, open('/kaggle/working/training_data_rgb_checkpoint.pkl', 'wb'))\n",
    "            #print(str(res) + ' ' + str(c1))      \n",
    "    shuffle(training_data) \n",
    "    dump(training_data, open('/kaggle/working/training_data_rgb.pkl', 'wb'))\n",
    "    return training_data"
   ]
  },
  {
   "cell_type": "code",
   "execution_count": 26,
   "metadata": {
    "_kg_hide-input": true,
    "execution": {
     "iopub.execute_input": "2022-12-12T06:19:38.021703Z",
     "iopub.status.busy": "2022-12-12T06:19:38.021332Z",
     "iopub.status.idle": "2022-12-12T06:19:38.030888Z",
     "shell.execute_reply": "2022-12-12T06:19:38.029492Z",
     "shell.execute_reply.started": "2022-12-12T06:19:38.021670Z"
    }
   },
   "outputs": [
    {
     "ename": "SyntaxError",
     "evalue": "invalid syntax (2701505189.py, line 1)",
     "output_type": "error",
     "traceback": [
      "\u001b[0;36m  File \u001b[0;32m\"/tmp/ipykernel_23/2701505189.py\"\u001b[0;36m, line \u001b[0;32m1\u001b[0m\n\u001b[0;31m    -\u001b[0m\n\u001b[0m     ^\u001b[0m\n\u001b[0;31mSyntaxError\u001b[0m\u001b[0;31m:\u001b[0m invalid syntax\n"
     ]
    }
   ],
   "source": [
    "\n",
    "LABEL_DATASET_PATH = \"/kaggle/input/emotionpain/Frame_Labels/Frame_Labels/PSPI\"\n",
    "IMAGE_DATASET_PATH = \"/kaggle/input/emotionpain/Images/Images\"\n",
    "training_data = generate_dataset(LABEL_DATASET_PATH, IMAGE_DATASET_PATH  , 128)\n"
   ]
  },
  {
   "cell_type": "code",
   "execution_count": null,
   "metadata": {},
   "outputs": [],
   "source": []
  },
  {
   "cell_type": "code",
   "execution_count": 25,
   "metadata": {
    "execution": {
     "iopub.execute_input": "2022-12-12T05:22:22.412366Z",
     "iopub.status.busy": "2022-12-12T05:22:22.411950Z",
     "iopub.status.idle": "2022-12-12T05:22:22.418977Z",
     "shell.execute_reply": "2022-12-12T05:22:22.417713Z",
     "shell.execute_reply.started": "2022-12-12T05:22:22.412332Z"
    }
   },
   "outputs": [],
   "source": [
    "len(training_data)\n",
    "del training_data"
   ]
  },
  {
   "cell_type": "markdown",
   "metadata": {},
   "source": [
    "# Testing dlib face detector"
   ]
  },
  {
   "cell_type": "code",
   "execution_count": 5,
   "metadata": {
    "execution": {
     "iopub.execute_input": "2022-12-12T10:02:27.407252Z",
     "iopub.status.busy": "2022-12-12T10:02:27.406631Z",
     "iopub.status.idle": "2022-12-12T10:02:27.615798Z",
     "shell.execute_reply": "2022-12-12T10:02:27.614669Z",
     "shell.execute_reply.started": "2022-12-12T10:02:27.407217Z"
    }
   },
   "outputs": [],
   "source": [
    "import dlib"
   ]
  },
  {
   "cell_type": "code",
   "execution_count": 2,
   "metadata": {
    "execution": {
     "iopub.execute_input": "2022-12-12T07:47:22.396198Z",
     "iopub.status.busy": "2022-12-12T07:47:22.395814Z",
     "iopub.status.idle": "2022-12-12T07:47:23.768713Z",
     "shell.execute_reply": "2022-12-12T07:47:23.767380Z",
     "shell.execute_reply.started": "2022-12-12T07:47:22.396167Z"
    }
   },
   "outputs": [
    {
     "name": "stdout",
     "output_type": "stream",
     "text": [
      "--2022-12-12 07:47:23--  http://dlib.net/files/mmod_human_face_detector.dat.bz2\n",
      "Resolving dlib.net (dlib.net)... 107.180.26.78\n",
      "Connecting to dlib.net (dlib.net)|107.180.26.78|:80... connected.\n",
      "HTTP request sent, awaiting response... 200 OK\n",
      "Length: 694709 (678K)\n",
      "Saving to: ‘mmod_human_face_detector.dat.bz2’\n",
      "\n",
      "mmod_human_face_det 100%[===================>] 678.43K  --.-KB/s    in 0.1s    \n",
      "\n",
      "2022-12-12 07:47:23 (4.43 MB/s) - ‘mmod_human_face_detector.dat.bz2’ saved [694709/694709]\n",
      "\n"
     ]
    }
   ],
   "source": [
    "# !wget \"http://dlib.net/files/mmod_human_face_detector.dat.bz2\""
   ]
  },
  {
   "cell_type": "code",
   "execution_count": 11,
   "metadata": {
    "execution": {
     "iopub.execute_input": "2022-12-12T08:03:55.490980Z",
     "iopub.status.busy": "2022-12-12T08:03:55.490620Z",
     "iopub.status.idle": "2022-12-12T08:03:56.705814Z",
     "shell.execute_reply": "2022-12-12T08:03:56.704132Z",
     "shell.execute_reply.started": "2022-12-12T08:03:55.490949Z"
    }
   },
   "outputs": [],
   "source": [
    "detector = dlib.cnn_face_detection_model_v1(\"/kaggle/input/models/mmod_human_face_detector.dat\")"
   ]
  },
  {
   "cell_type": "code",
   "execution_count": 92,
   "metadata": {
    "execution": {
     "iopub.execute_input": "2022-12-12T08:40:55.224124Z",
     "iopub.status.busy": "2022-12-12T08:40:55.223670Z",
     "iopub.status.idle": "2022-12-12T08:40:56.722216Z",
     "shell.execute_reply": "2022-12-12T08:40:56.721002Z",
     "shell.execute_reply.started": "2022-12-12T08:40:55.224074Z"
    }
   },
   "outputs": [
    {
     "name": "stdout",
     "output_type": "stream",
     "text": [
      "--2022-12-12 08:40:56--  https://www.shutterstock.com/image-photo/surreal-image-african-elephant-wearing-260nw-1365289022.jpg\n",
      "Resolving www.shutterstock.com (www.shutterstock.com)... 13.249.120.45, 13.249.120.92, 13.249.120.33, ...\n",
      "Connecting to www.shutterstock.com (www.shutterstock.com)|13.249.120.45|:443... connected.\n",
      "HTTP request sent, awaiting response... 200 OK\n",
      "Length: 22966 (22K) [image/jpeg]\n",
      "Saving to: ‘surreal-image-african-elephant-wearing-260nw-1365289022.jpg’\n",
      "\n",
      "surreal-image-afric 100%[===================>]  22.43K  --.-KB/s    in 0.002s  \n",
      "\n",
      "2022-12-12 08:40:56 (12.7 MB/s) - ‘surreal-image-african-elephant-wearing-260nw-1365289022.jpg’ saved [22966/22966]\n",
      "\n"
     ]
    }
   ],
   "source": [
    "!wget \"https://www.shutterstock.com/image-photo/surreal-image-african-elephant-wearing-260nw-1365289022.jpg\""
   ]
  },
  {
   "cell_type": "code",
   "execution_count": 93,
   "metadata": {
    "execution": {
     "iopub.execute_input": "2022-12-12T08:41:14.817230Z",
     "iopub.status.busy": "2022-12-12T08:41:14.816805Z",
     "iopub.status.idle": "2022-12-12T08:41:15.094872Z",
     "shell.execute_reply": "2022-12-12T08:41:15.093977Z",
     "shell.execute_reply.started": "2022-12-12T08:41:14.817195Z"
    }
   },
   "outputs": [
    {
     "data": {
      "text/plain": [
       "<matplotlib.image.AxesImage at 0x7f02e6a3ffd0>"
      ]
     },
     "execution_count": 93,
     "metadata": {},
     "output_type": "execute_result"
    },
    {
     "data": {
      "image/png": "[encoded data removed]",
      "text/plain": [
       "<Figure size 432x288 with 1 Axes>"
      ]
     },
     "metadata": {
      "needs_background": "light"
     },
     "output_type": "display_data"
    }
   ],
   "source": [
    "img_data = cv2.imread(\"/kaggle/working/surreal-image-african-elephant-wearing-260nw-1365289022.jpg\")#cv2.IMREAD_COLOR\n",
    "# rgb_img = cv2.cvtColor(img_data, cv2.COLOR_BGR2RGB)\n",
    "rgb_img = img_data\n",
    "plt.imshow(rgb_img)"
   ]
  },
  {
   "cell_type": "code",
   "execution_count": 94,
   "metadata": {
    "execution": {
     "iopub.execute_input": "2022-12-12T08:41:21.133994Z",
     "iopub.status.busy": "2022-12-12T08:41:21.133633Z",
     "iopub.status.idle": "2022-12-12T08:41:21.193267Z",
     "shell.execute_reply": "2022-12-12T08:41:21.192056Z",
     "shell.execute_reply.started": "2022-12-12T08:41:21.133963Z"
    }
   },
   "outputs": [
    {
     "ename": "IndexError",
     "evalue": "",
     "output_type": "error",
     "traceback": [
      "\u001b[0;31m---------------------------------------------------------------------------\u001b[0m",
      "\u001b[0;31mIndexError\u001b[0m                                Traceback (most recent call last)",
      "\u001b[0;32m/tmp/ipykernel_24/2497090491.py\u001b[0m in \u001b[0;36m<module>\u001b[0;34m\u001b[0m\n\u001b[0;32m----> 1\u001b[0;31m \u001b[0mface\u001b[0m \u001b[0;34m=\u001b[0m \u001b[0mdetector\u001b[0m\u001b[0;34m(\u001b[0m\u001b[0mrgb_img\u001b[0m\u001b[0;34m,\u001b[0m \u001b[0;36m0\u001b[0m\u001b[0;34m)\u001b[0m\u001b[0;34m[\u001b[0m\u001b[0;36m0\u001b[0m\u001b[0;34m]\u001b[0m\u001b[0;34m\u001b[0m\u001b[0;34m\u001b[0m\u001b[0m\n\u001b[0m",
      "\u001b[0;31mIndexError\u001b[0m: "
     ]
    }
   ],
   "source": [
    "face = detector(rgb_img, 0)[0]"
   ]
  },
  {
   "cell_type": "code",
   "execution_count": 77,
   "metadata": {
    "execution": {
     "iopub.execute_input": "2022-12-12T08:29:08.313380Z",
     "iopub.status.busy": "2022-12-12T08:29:08.312806Z",
     "iopub.status.idle": "2022-12-12T08:29:08.320688Z",
     "shell.execute_reply": "2022-12-12T08:29:08.319557Z",
     "shell.execute_reply.started": "2022-12-12T08:29:08.313347Z"
    }
   },
   "outputs": [
    {
     "data": {
      "text/plain": [
       "(210, 407, 140, 337)"
      ]
     },
     "execution_count": 77,
     "metadata": {},
     "output_type": "execute_result"
    }
   ],
   "source": [
    "\n",
    "face.rect.left(), face.rect.right(), face.rect.top(), face.rect.bottom()"
   ]
  },
  {
   "cell_type": "code",
   "execution_count": 78,
   "metadata": {
    "execution": {
     "iopub.execute_input": "2022-12-12T08:29:09.135721Z",
     "iopub.status.busy": "2022-12-12T08:29:09.135058Z",
     "iopub.status.idle": "2022-12-12T08:29:09.143389Z",
     "shell.execute_reply": "2022-12-12T08:29:09.142111Z",
     "shell.execute_reply.started": "2022-12-12T08:29:09.135688Z"
    }
   },
   "outputs": [
    {
     "data": {
      "text/plain": [
       "(487, 626, 3)"
      ]
     },
     "execution_count": 78,
     "metadata": {},
     "output_type": "execute_result"
    }
   ],
   "source": [
    "img.shape"
   ]
  },
  {
   "cell_type": "code",
   "execution_count": 79,
   "metadata": {
    "execution": {
     "iopub.execute_input": "2022-12-12T08:29:09.637283Z",
     "iopub.status.busy": "2022-12-12T08:29:09.636715Z",
     "iopub.status.idle": "2022-12-12T08:29:09.920181Z",
     "shell.execute_reply": "2022-12-12T08:29:09.919115Z",
     "shell.execute_reply.started": "2022-12-12T08:29:09.637249Z"
    }
   },
   "outputs": [
    {
     "data": {
      "text/plain": [
       "<matplotlib.image.AxesImage at 0x7f03ee033290>"
      ]
     },
     "execution_count": 79,
     "metadata": {},
     "output_type": "execute_result"
    },
    {
     "data": {
      "image/png": "[encoded data removed]",
      "text/plain": [
       "<Figure size 432x288 with 1 Axes>"
      ]
     },
     "metadata": {
      "needs_background": "light"
     },
     "output_type": "display_data"
    }
   ],
   "source": [
    "img = cv2.rectangle(rgb_img.copy(), (face.rect.left(), face.rect.top()), (face.rect.right(), face.rect.bottom()), (255, 0, 0), 2)\n",
    "plt.imshow(img)"
   ]
  },
  {
   "cell_type": "code",
   "execution_count": null,
   "metadata": {},
   "outputs": [],
   "source": []
  },
  {
   "cell_type": "markdown",
   "metadata": {},
   "source": [
    "# Prepare dataset\n",
    "- add image into different folders"
   ]
  },
  {
   "cell_type": "code",
   "execution_count": 6,
   "metadata": {
    "execution": {
     "iopub.execute_input": "2022-12-12T10:02:34.289108Z",
     "iopub.status.busy": "2022-12-12T10:02:34.288722Z",
     "iopub.status.idle": "2022-12-12T10:05:45.900516Z",
     "shell.execute_reply": "2022-12-12T10:05:45.899527Z",
     "shell.execute_reply.started": "2022-12-12T10:02:34.289076Z"
    }
   },
   "outputs": [
    {
     "name": "stderr",
     "output_type": "stream",
     "text": [
      "100%|██████████| 25/25 [03:11<00:00,  7.66s/it]\n"
     ]
    }
   ],
   "source": [
    "# emotionpain dataset\n",
    "LABEL_DATASET_PATH = \"/kaggle/input/emotionpain/Frame_Labels/Frame_Labels/PSPI\"\n",
    "IMAGE_DATASET_PATH = \"/kaggle/input/emotionpain/Images/Images\"\n",
    "label_data = []\n",
    "\n",
    "for folder in tqdm(sorted(os.listdir(LABEL_DATASET_PATH))):\n",
    "        for inner_folder in sorted(os.listdir((LABEL_DATASET_PATH+'/'+folder))):\n",
    "            path = os.path.join(LABEL_DATASET_PATH,folder+'/'+ inner_folder)\n",
    "            for file_name in sorted(os.listdir(path)):\n",
    "                \n",
    "                file=os.path.join(path+'/'+file_name)\n",
    "                with open(file) as f:\n",
    "                    label = float(f.readline().strip())\n",
    "                    if label <= 2:\n",
    "                        label_data.append((file_name, 0))\n",
    "                    elif label > 2 and label <= 5:\n",
    "                        label_data.append((file_name, 1))\n",
    "                    if label > 5:\n",
    "                        label_data.append((file_name, 2))\n",
    "                    f.close()\n",
    "    \n",
    "label_data.append(('eof', -1))"
   ]
  },
  {
   "cell_type": "code",
   "execution_count": 17,
   "metadata": {
    "execution": {
     "iopub.execute_input": "2022-12-12T09:47:25.876925Z",
     "iopub.status.busy": "2022-12-12T09:47:25.876576Z",
     "iopub.status.idle": "2022-12-12T09:47:25.882410Z",
     "shell.execute_reply": "2022-12-12T09:47:25.881074Z",
     "shell.execute_reply.started": "2022-12-12T09:47:25.876894Z"
    }
   },
   "outputs": [],
   "source": []
  },
  {
   "cell_type": "code",
   "execution_count": 2,
   "metadata": {
    "execution": {
     "iopub.execute_input": "2022-12-12T14:09:53.715199Z",
     "iopub.status.busy": "2022-12-12T14:09:53.714541Z",
     "iopub.status.idle": "2022-12-12T14:09:53.727987Z",
     "shell.execute_reply": "2022-12-12T14:09:53.726560Z",
     "shell.execute_reply.started": "2022-12-12T14:09:53.715163Z"
    }
   },
   "outputs": [
    {
     "ename": "SyntaxError",
     "evalue": "invalid syntax (3372161644.py, line 1)",
     "output_type": "error",
     "traceback": [
      "\u001b[0;36m  File \u001b[0;32m\"/tmp/ipykernel_24/3372161644.py\"\u001b[0;36m, line \u001b[0;32m1\u001b[0m\n\u001b[0;31m    -\u001b[0m\n\u001b[0m     ^\u001b[0m\n\u001b[0;31mSyntaxError\u001b[0m\u001b[0;31m:\u001b[0m invalid syntax\n"
     ]
    }
   ],
   "source": [
    "\n",
    "n_skip = 2\n",
    "ROOT_DIR = \"dataset/\"\n",
    "c = 0\n",
    "# harrcascade_face_xml = \"/kaggle/input/haarcascades/haarcascade_frontalface_default.xml\"\n",
    "# face_cascade = cv2.CascadeClassifier(harrcascade_face_xml)\n",
    "face_detector = dlib.cnn_face_detection_model_v1(\"/kaggle/input/models/mmod_human_face_detector.dat\")\n",
    "\n",
    "IMG_SIZE = 128\n",
    "\n",
    "if not os.path.exists(ROOT_DIR):\n",
    "    os.makedirs(ROOT_DIR)\n",
    "    \n",
    "for folder in sorted(os.listdir(IMAGE_DATASET_PATH)):\n",
    "        for inner_folder in sorted(os.listdir((IMAGE_DATASET_PATH+'/'+folder))):\n",
    "            path = os.path.join(IMAGE_DATASET_PATH,folder+'/'+ inner_folder)\n",
    "            \n",
    "            for img_name in tqdm(sorted(os.listdir(path))):\n",
    "                \n",
    "                if c%n_skip != 0 and n_skip != 0:\n",
    "                    c += 1\n",
    "                    continue\n",
    "                \n",
    "                img=os.path.join(path+'/'+img_name)\n",
    "                \n",
    "                _label = label_data[c][0].split('.')[0].strip().lower()\n",
    "                _img = img_name.split('.')[0]+\"_facs\".strip().lower()\n",
    "                \n",
    "                if _label != _img: #checker\n",
    "                    x = {\"image\": _img, \"label\": _label, \"index\": c}\n",
    "                    print(x)\n",
    "                    c += 1\n",
    "                    continue\n",
    "                    \n",
    "                img_data = cv2.imread(img,cv2.IMREAD_COLOR)#cv2.IMREAD_COLOR\n",
    "#                 rgb_img = cv2.cvtColor(img_data, cv2.COLOR_BGR2RGB)\n",
    "                faces = face_detector(img_data, 0)\n",
    "                \n",
    "                if not len(faces):\n",
    "                    c += 1\n",
    "                    print(\"no face detected..\")\n",
    "                    continue\n",
    "                    \n",
    "                face = faces[0]\n",
    "                x = face.rect.left()\n",
    "                y = face.rect.top()\n",
    "                x1 = face.rect.right()\n",
    "                y1 = face.rect.bottom()\n",
    "                \n",
    "                try:\n",
    "                    face_cropped = img_data[y: y1, x: x1]\n",
    "                    img_data = cv2.resize(face_cropped, (IMG_SIZE, IMG_SIZE))\n",
    "                \n",
    "                except:\n",
    "                    c += 1\n",
    "                    continue\n",
    "                \n",
    "                if (label_data[c][1]==-1):\n",
    "                    break\n",
    "                # creating a directory\n",
    "                abs_path = os.path.join(ROOT_DIR, str(label_data[c][1]))\n",
    "                if not os.path.exists(abs_path):\n",
    "                    os.makedirs(abs_path)\n",
    "                # save image into their corresponding label(folder)\n",
    "                cv2.imwrite(os.path.join(abs_path, \"EP_\"+str(c)+\".jpg\"), img_data)\n",
    "                c+=1"
   ]
  },
  {
   "cell_type": "code",
   "execution_count": 9,
   "metadata": {
    "execution": {
     "iopub.execute_input": "2022-12-12T10:14:28.042344Z",
     "iopub.status.busy": "2022-12-12T10:14:28.041939Z",
     "iopub.status.idle": "2022-12-12T10:14:28.051311Z",
     "shell.execute_reply": "2022-12-12T10:14:28.049672Z",
     "shell.execute_reply.started": "2022-12-12T10:14:28.042307Z"
    }
   },
   "outputs": [
    {
     "ename": "SyntaxError",
     "evalue": "invalid syntax (2448143666.py, line 2)",
     "output_type": "error",
     "traceback": [
      "\u001b[0;36m  File \u001b[0;32m\"/tmp/ipykernel_24/2448143666.py\"\u001b[0;36m, line \u001b[0;32m2\u001b[0m\n\u001b[0;31m    -\u001b[0m\n\u001b[0m     ^\u001b[0m\n\u001b[0;31mSyntaxError\u001b[0m\u001b[0;31m:\u001b[0m invalid syntax\n"
     ]
    }
   ],
   "source": [
    "# download prepared dataset\n",
    "\n",
    "!zip -r dataset_128_rgb_v1.zip /kaggle/working/dataset -q"
   ]
  },
  {
   "cell_type": "markdown",
   "metadata": {},
   "source": [
    "# Preparing other dataset source and merging"
   ]
  },
  {
   "cell_type": "code",
   "execution_count": 10,
   "metadata": {
    "execution": {
     "iopub.execute_input": "2022-12-12T10:14:40.549994Z",
     "iopub.status.busy": "2022-12-12T10:14:40.549635Z",
     "iopub.status.idle": "2022-12-12T10:14:40.555222Z",
     "shell.execute_reply": "2022-12-12T10:14:40.554055Z",
     "shell.execute_reply.started": "2022-12-12T10:14:40.549962Z"
    }
   },
   "outputs": [],
   "source": [
    "ROOT_DIR = 'dataset/'\n",
    "if not os.path.exists(ROOT_DIR):\n",
    "    os.makedirs(ROOT_DIR)"
   ]
  },
  {
   "cell_type": "code",
   "execution_count": 11,
   "metadata": {
    "execution": {
     "iopub.execute_input": "2022-12-12T10:14:42.038752Z",
     "iopub.status.busy": "2022-12-12T10:14:42.038085Z",
     "iopub.status.idle": "2022-12-12T10:15:10.517468Z",
     "shell.execute_reply": "2022-12-12T10:15:10.516435Z",
     "shell.execute_reply.started": "2022-12-12T10:14:42.038717Z"
    }
   },
   "outputs": [
    {
     "name": "stderr",
     "output_type": "stream",
     "text": [
      "100%|██████████| 7215/7215 [00:28<00:00, 254.10it/s]\n"
     ]
    }
   ],
   "source": [
    "IMG_DIR_HAPPY = \"/kaggle/input/facial-expression-dataset/train/train/happy\"\n",
    "DESTINATION_HAPPY = \"/kaggle/working/dataset/0\"\n",
    "IMG_SIZE = 128\n",
    "\n",
    "if not os.path.exists(DESTINATION_HAPPY):\n",
    "    os.makedirs(DESTINATION_HAPPY)\n",
    "\n",
    "c = 0\n",
    "for img_name in tqdm(sorted(os.listdir(IMG_DIR_HAPPY))):\n",
    "    abs_path = os.path.join(IMG_DIR_HAPPY, img_name)\n",
    "    img = cv2.imread(abs_path)\n",
    "    # resizing image to 200\n",
    "    try:\n",
    "        img_data = cv2.resize(img, (IMG_SIZE, IMG_SIZE))\n",
    "    except:\n",
    "        print(\"error while resizing...\")\n",
    "        continue\n",
    "\n",
    "    # saving data into dataset folder\n",
    "    cv2.imwrite(os.path.join(DESTINATION_HAPPY, \"FED_h_\"+str(c)+\".jpg\"), img_data)\n",
    "    \n",
    "    c += 1"
   ]
  },
  {
   "cell_type": "code",
   "execution_count": 12,
   "metadata": {
    "execution": {
     "iopub.execute_input": "2022-12-12T10:15:10.520331Z",
     "iopub.status.busy": "2022-12-12T10:15:10.519331Z",
     "iopub.status.idle": "2022-12-12T10:15:29.904691Z",
     "shell.execute_reply": "2022-12-12T10:15:29.903702Z",
     "shell.execute_reply.started": "2022-12-12T10:15:10.520290Z"
    }
   },
   "outputs": [
    {
     "name": "stderr",
     "output_type": "stream",
     "text": [
      "100%|██████████| 4965/4965 [00:19<00:00, 257.17it/s]\n"
     ]
    }
   ],
   "source": [
    "IMG_DIR_NEUTRAL = \"/kaggle/input/facial-expression-dataset/train/train/neutral\"\n",
    "DESTINATION_NEUTRAL = \"/kaggle/working/dataset/0\"\n",
    "\n",
    "if not os.path.exists(DESTINATION_NEUTRAL):\n",
    "    os.makedirs(DESTINATION_NEUTRAL)\n",
    "\n",
    "c = 0\n",
    "for img_name in tqdm(sorted(os.listdir(IMG_DIR_NEUTRAL))):\n",
    "    abs_path = os.path.join(IMG_DIR_NEUTRAL, img_name)\n",
    "    img = cv2.imread(abs_path)\n",
    "    # resizing image to 200\n",
    "    try:\n",
    "        img_data = cv2.resize(img, (IMG_SIZE, IMG_SIZE))\n",
    "    except:\n",
    "        print(\"error while resizing...\")\n",
    "        continue\n",
    "    # saving data into dataset folder\n",
    "    cv2.imwrite(os.path.join(DESTINATION_NEUTRAL, \"FED_n_\"+str(c)+\".jpg\"), img_data)\n",
    "    c += 1"
   ]
  },
  {
   "cell_type": "code",
   "execution_count": 13,
   "metadata": {
    "execution": {
     "iopub.execute_input": "2022-12-12T10:15:29.906887Z",
     "iopub.status.busy": "2022-12-12T10:15:29.906251Z",
     "iopub.status.idle": "2022-12-12T10:15:43.702722Z",
     "shell.execute_reply": "2022-12-12T10:15:43.701682Z",
     "shell.execute_reply.started": "2022-12-12T10:15:29.906850Z"
    }
   },
   "outputs": [
    {
     "name": "stderr",
     "output_type": "stream",
     "text": [
      "100%|██████████| 3171/3171 [00:13<00:00, 231.03it/s]\n"
     ]
    }
   ],
   "source": [
    "IMG_DIR_SURPRISED = \"/kaggle/input/facial-expression-dataset/train/train/surprise\"\n",
    "DESTINATION_SURPRISED = \"/kaggle/working/dataset/0\"\n",
    "\n",
    "if not os.path.exists(DESTINATION_SURPRISED):\n",
    "    os.makedirs(DESTINATION_SURPRISED)\n",
    "\n",
    "c = 0\n",
    "for img_name in tqdm(sorted(os.listdir(IMG_DIR_SURPRISED))):\n",
    "    abs_path = os.path.join(IMG_DIR_SURPRISED, img_name)\n",
    "    img = cv2.imread(abs_path)\n",
    "    # resizing image to 200\n",
    "    try:\n",
    "        img_data = cv2.resize(img, (IMG_SIZE, IMG_SIZE))\n",
    "    except:\n",
    "        print(\"error while resizing...\")\n",
    "        continue\n",
    "    # saving data into dataset folder\n",
    "    cv2.imwrite(os.path.join(DESTINATION_SURPRISED, \"FED_s_\"+str(c)+\".jpg\"), img_data)\n",
    "    c += 1"
   ]
  },
  {
   "cell_type": "code",
   "execution_count": 14,
   "metadata": {
    "execution": {
     "iopub.execute_input": "2022-12-12T10:15:43.705606Z",
     "iopub.status.busy": "2022-12-12T10:15:43.705260Z",
     "iopub.status.idle": "2022-12-12T10:15:53.990095Z",
     "shell.execute_reply": "2022-12-12T10:15:53.988863Z",
     "shell.execute_reply.started": "2022-12-12T10:15:43.705569Z"
    }
   },
   "outputs": [],
   "source": [
    "!zip -r dataset_128_v2.zip /kaggle/working/dataset -q"
   ]
  },
  {
   "cell_type": "markdown",
   "metadata": {},
   "source": [
    "# Dataset preparation: video to dataset"
   ]
  },
  {
   "cell_type": "code",
   "execution_count": null,
   "metadata": {},
   "outputs": [],
   "source": [
    "from tensorflow import keras\n",
    "import cv2\n",
    "import numpy as np\n",
    "import dlib"
   ]
  },
  {
   "cell_type": "code",
   "execution_count": null,
   "metadata": {},
   "outputs": [],
   "source": []
  },
  {
   "cell_type": "code",
   "execution_count": null,
   "metadata": {},
   "outputs": [],
   "source": []
  },
  {
   "cell_type": "markdown",
   "metadata": {},
   "source": [
    "# visualizing training dataset"
   ]
  },
  {
   "cell_type": "code",
   "execution_count": 48,
   "metadata": {
    "execution": {
     "iopub.execute_input": "2022-12-11T05:17:43.713576Z",
     "iopub.status.busy": "2022-12-11T05:17:43.713181Z",
     "iopub.status.idle": "2022-12-11T05:17:51.051348Z",
     "shell.execute_reply": "2022-12-11T05:17:51.050368Z",
     "shell.execute_reply.started": "2022-12-11T05:17:43.713543Z"
    }
   },
   "outputs": [],
   "source": [
    "# loading saved training data\n",
    "dataset_path = \"/kaggle/input/pain-dataset/training_data_rgb.pkl\"\n",
    "if (os.path.exists(dataset_path)):\n",
    "        training_data = load(open(dataset_path, 'rb'))"
   ]
  },
  {
   "cell_type": "code",
   "execution_count": 11,
   "metadata": {
    "execution": {
     "iopub.execute_input": "2022-12-12T05:01:56.541788Z",
     "iopub.status.busy": "2022-12-12T05:01:56.540811Z",
     "iopub.status.idle": "2022-12-12T05:01:56.884779Z",
     "shell.execute_reply": "2022-12-12T05:01:56.883819Z",
     "shell.execute_reply.started": "2022-12-12T05:01:56.541718Z"
    }
   },
   "outputs": [
    {
     "data": {
      "image/png": "[encoded data removed]",
      "text/plain": [
       "<Figure size 432x288 with 1 Axes>"
      ]
     },
     "metadata": {
      "needs_background": "light"
     },
     "output_type": "display_data"
    }
   ],
   "source": [
    "img, label = training_data[70]\n",
    "img = cv2.cvtColor(img, cv2.COLOR_BGR2RGB)\n",
    "plt.imshow(img)\n",
    "plt.title(label)\n",
    "plt.show()"
   ]
  },
  {
   "cell_type": "code",
   "execution_count": 12,
   "metadata": {
    "execution": {
     "iopub.execute_input": "2022-12-12T05:02:01.084544Z",
     "iopub.status.busy": "2022-12-12T05:02:01.084187Z",
     "iopub.status.idle": "2022-12-12T05:02:01.306064Z",
     "shell.execute_reply": "2022-12-12T05:02:01.305175Z",
     "shell.execute_reply.started": "2022-12-12T05:02:01.084512Z"
    }
   },
   "outputs": [
    {
     "data": {
      "image/png": "[encoded data removed]",
      "text/plain": [
       "<Figure size 432x288 with 1 Axes>"
      ]
     },
     "metadata": {
      "needs_background": "light"
     },
     "output_type": "display_data"
    }
   ],
   "source": [
    "img, label = training_data[3000]\n",
    "img = cv2.cvtColor(img, cv2.COLOR_BGR2RGB)\n",
    "plt.imshow(img)\n",
    "plt.title(label)\n",
    "plt.show()"
   ]
  },
  {
   "cell_type": "code",
   "execution_count": null,
   "metadata": {
    "execution": {
     "iopub.execute_input": "2022-12-08T07:35:11.199967Z",
     "iopub.status.busy": "2022-12-08T07:35:11.199462Z",
     "iopub.status.idle": "2022-12-08T07:35:11.207595Z",
     "shell.execute_reply": "2022-12-08T07:35:11.206629Z",
     "shell.execute_reply.started": "2022-12-08T07:35:11.199930Z"
    }
   },
   "outputs": [],
   "source": [
    "img.shape"
   ]
  },
  {
   "cell_type": "markdown",
   "metadata": {},
   "source": [
    "# Model building"
   ]
  },
  {
   "cell_type": "code",
   "execution_count": 13,
   "metadata": {
    "execution": {
     "iopub.execute_input": "2022-12-12T05:02:27.779976Z",
     "iopub.status.busy": "2022-12-12T05:02:27.779574Z",
     "iopub.status.idle": "2022-12-12T05:02:27.786048Z",
     "shell.execute_reply": "2022-12-12T05:02:27.784819Z",
     "shell.execute_reply.started": "2022-12-12T05:02:27.779941Z"
    }
   },
   "outputs": [],
   "source": [
    "from keras.models import Sequential, Model\n",
    "from keras.layers import Dense, Dropout, Flatten,Conv2D,MaxPooling2D\n",
    "from tensorflow.keras import applications\n",
    "from tensorflow import keras"
   ]
  },
  {
   "cell_type": "code",
   "execution_count": 14,
   "metadata": {
    "execution": {
     "iopub.execute_input": "2022-12-12T05:02:31.019047Z",
     "iopub.status.busy": "2022-12-12T05:02:31.018569Z",
     "iopub.status.idle": "2022-12-12T05:02:31.035565Z",
     "shell.execute_reply": "2022-12-12T05:02:31.034616Z",
     "shell.execute_reply.started": "2022-12-12T05:02:31.019004Z"
    }
   },
   "outputs": [],
   "source": [
    "def Model_vgg(ImgSize, fine_tune=0):\n",
    "    pretrained_model = applications.vgg16.VGG16(weights='imagenet', include_top=False,input_shape=ImgSize)\n",
    "    model = Sequential()\n",
    "    \n",
    "    for layer in pretrained_model.layers:\n",
    "        model.add(layer)\n",
    "    \n",
    "    # freezing vgg16 layers\n",
    "    if fine_tune > 0:\n",
    "        for layer in model.layers[:-fine_tune]:\n",
    "            layer.trainable = False\n",
    "    else:\n",
    "        for layer in model.layers:\n",
    "            layer.trainable = False\n",
    "    \n",
    "    # building dense layer\n",
    "    model.add(Flatten())\n",
    "    model.add(Dense(1000,activation='relu'))\n",
    "    model.add(Dropout(0.3))\n",
    "    model.add(Dense(500, activation='relu'))\n",
    "    model.add(Dropout(0.4))\n",
    "    model.add(Dense(228, activation='relu'))\n",
    "    model.add(Dropout(0.3))\n",
    "    model.add(Dense(100, activation='relu'))\n",
    "    model.add(Dropout(0.3))\n",
    "    model.add(Dense(50, activation='relu'))\n",
    "    model.add(Dropout(0.3))\n",
    "    model.add(Dense(10, activation='relu'))\n",
    "    model.add(Dropout(0.2))\n",
    "    model.add(Dense(2,activation='softmax'))\n",
    "    \n",
    "    model.compile(optimizer='Adam',loss='sparse_categorical_crossentropy',metrics=['accuracy'])\n",
    "    \n",
    "    return model"
   ]
  },
  {
   "cell_type": "code",
   "execution_count": 15,
   "metadata": {
    "execution": {
     "iopub.execute_input": "2022-12-12T05:02:35.418827Z",
     "iopub.status.busy": "2022-12-12T05:02:35.418432Z",
     "iopub.status.idle": "2022-12-12T05:02:42.284286Z",
     "shell.execute_reply": "2022-12-12T05:02:42.283298Z",
     "shell.execute_reply.started": "2022-12-12T05:02:35.418792Z"
    }
   },
   "outputs": [
    {
     "name": "stderr",
     "output_type": "stream",
     "text": [
      "2022-12-12 05:02:35.610212: I tensorflow/stream_executor/cuda/cuda_gpu_executor.cc:937] successful NUMA node read from SysFS had negative value (-1), but there must be at least one NUMA node, so returning NUMA node zero\n",
      "2022-12-12 05:02:35.611169: I tensorflow/stream_executor/cuda/cuda_gpu_executor.cc:937] successful NUMA node read from SysFS had negative value (-1), but there must be at least one NUMA node, so returning NUMA node zero\n",
      "2022-12-12 05:02:36.044084: I tensorflow/stream_executor/cuda/cuda_gpu_executor.cc:937] successful NUMA node read from SysFS had negative value (-1), but there must be at least one NUMA node, so returning NUMA node zero\n",
      "2022-12-12 05:02:36.045003: I tensorflow/stream_executor/cuda/cuda_gpu_executor.cc:937] successful NUMA node read from SysFS had negative value (-1), but there must be at least one NUMA node, so returning NUMA node zero\n",
      "2022-12-12 05:02:36.045736: I tensorflow/stream_executor/cuda/cuda_gpu_executor.cc:937] successful NUMA node read from SysFS had negative value (-1), but there must be at least one NUMA node, so returning NUMA node zero\n",
      "2022-12-12 05:02:36.046456: I tensorflow/stream_executor/cuda/cuda_gpu_executor.cc:937] successful NUMA node read from SysFS had negative value (-1), but there must be at least one NUMA node, so returning NUMA node zero\n",
      "2022-12-12 05:02:36.060242: I tensorflow/core/platform/cpu_feature_guard.cc:142] This TensorFlow binary is optimized with oneAPI Deep Neural Network Library (oneDNN) to use the following CPU instructions in performance-critical operations:  AVX2 AVX512F FMA\n",
      "To enable them in other operations, rebuild TensorFlow with the appropriate compiler flags.\n",
      "2022-12-12 05:02:36.296361: I tensorflow/stream_executor/cuda/cuda_gpu_executor.cc:937] successful NUMA node read from SysFS had negative value (-1), but there must be at least one NUMA node, so returning NUMA node zero\n",
      "2022-12-12 05:02:36.297216: I tensorflow/stream_executor/cuda/cuda_gpu_executor.cc:937] successful NUMA node read from SysFS had negative value (-1), but there must be at least one NUMA node, so returning NUMA node zero\n",
      "2022-12-12 05:02:36.297978: I tensorflow/stream_executor/cuda/cuda_gpu_executor.cc:937] successful NUMA node read from SysFS had negative value (-1), but there must be at least one NUMA node, so returning NUMA node zero\n",
      "2022-12-12 05:02:36.298664: I tensorflow/stream_executor/cuda/cuda_gpu_executor.cc:937] successful NUMA node read from SysFS had negative value (-1), but there must be at least one NUMA node, so returning NUMA node zero\n",
      "2022-12-12 05:02:36.299383: I tensorflow/stream_executor/cuda/cuda_gpu_executor.cc:937] successful NUMA node read from SysFS had negative value (-1), but there must be at least one NUMA node, so returning NUMA node zero\n",
      "2022-12-12 05:02:36.300074: I tensorflow/stream_executor/cuda/cuda_gpu_executor.cc:937] successful NUMA node read from SysFS had negative value (-1), but there must be at least one NUMA node, so returning NUMA node zero\n",
      "2022-12-12 05:02:40.783806: I tensorflow/stream_executor/cuda/cuda_gpu_executor.cc:937] successful NUMA node read from SysFS had negative value (-1), but there must be at least one NUMA node, so returning NUMA node zero\n",
      "2022-12-12 05:02:40.784834: I tensorflow/stream_executor/cuda/cuda_gpu_executor.cc:937] successful NUMA node read from SysFS had negative value (-1), but there must be at least one NUMA node, so returning NUMA node zero\n",
      "2022-12-12 05:02:40.785567: I tensorflow/stream_executor/cuda/cuda_gpu_executor.cc:937] successful NUMA node read from SysFS had negative value (-1), but there must be at least one NUMA node, so returning NUMA node zero\n",
      "2022-12-12 05:02:40.786296: I tensorflow/stream_executor/cuda/cuda_gpu_executor.cc:937] successful NUMA node read from SysFS had negative value (-1), but there must be at least one NUMA node, so returning NUMA node zero\n",
      "2022-12-12 05:02:40.787038: I tensorflow/stream_executor/cuda/cuda_gpu_executor.cc:937] successful NUMA node read from SysFS had negative value (-1), but there must be at least one NUMA node, so returning NUMA node zero\n",
      "2022-12-12 05:02:40.789926: I tensorflow/core/common_runtime/gpu/gpu_device.cc:1510] Created device /job:localhost/replica:0/task:0/device:GPU:0 with 13692 MB memory:  -> device: 0, name: Tesla T4, pci bus id: 0000:00:04.0, compute capability: 7.5\n",
      "2022-12-12 05:02:40.804018: I tensorflow/stream_executor/cuda/cuda_gpu_executor.cc:937] successful NUMA node read from SysFS had negative value (-1), but there must be at least one NUMA node, so returning NUMA node zero\n",
      "2022-12-12 05:02:40.804720: I tensorflow/core/common_runtime/gpu/gpu_device.cc:1510] Created device /job:localhost/replica:0/task:0/device:GPU:1 with 13789 MB memory:  -> device: 1, name: Tesla T4, pci bus id: 0000:00:05.0, compute capability: 7.5\n"
     ]
    },
    {
     "name": "stdout",
     "output_type": "stream",
     "text": [
      "Downloading data from https://storage.googleapis.com/tensorflow/keras-applications/vgg16/vgg16_weights_tf_dim_ordering_tf_kernels_notop.h5\n",
      "58892288/58889256 [==============================] - 0s 0us/step\n",
      "58900480/58889256 [==============================] - 0s 0us/step\n",
      "Model: \"sequential\"\n",
      "_________________________________________________________________\n",
      "Layer (type)                 Output Shape              Param #   \n",
      "=================================================================\n",
      "block1_conv1 (Conv2D)        (None, 128, 128, 64)      1792      \n",
      "_________________________________________________________________\n",
      "block1_conv2 (Conv2D)        (None, 128, 128, 64)      36928     \n",
      "_________________________________________________________________\n",
      "block1_pool (MaxPooling2D)   (None, 64, 64, 64)        0         \n",
      "_________________________________________________________________\n",
      "block2_conv1 (Conv2D)        (None, 64, 64, 128)       73856     \n",
      "_________________________________________________________________\n",
      "block2_conv2 (Conv2D)        (None, 64, 64, 128)       147584    \n",
      "_________________________________________________________________\n",
      "block2_pool (MaxPooling2D)   (None, 32, 32, 128)       0         \n",
      "_________________________________________________________________\n",
      "block3_conv1 (Conv2D)        (None, 32, 32, 256)       295168    \n",
      "_________________________________________________________________\n",
      "block3_conv2 (Conv2D)        (None, 32, 32, 256)       590080    \n",
      "_________________________________________________________________\n",
      "block3_conv3 (Conv2D)        (None, 32, 32, 256)       590080    \n",
      "_________________________________________________________________\n",
      "block3_pool (MaxPooling2D)   (None, 16, 16, 256)       0         \n",
      "_________________________________________________________________\n",
      "block4_conv1 (Conv2D)        (None, 16, 16, 512)       1180160   \n",
      "_________________________________________________________________\n",
      "block4_conv2 (Conv2D)        (None, 16, 16, 512)       2359808   \n",
      "_________________________________________________________________\n",
      "block4_conv3 (Conv2D)        (None, 16, 16, 512)       2359808   \n",
      "_________________________________________________________________\n",
      "block4_pool (MaxPooling2D)   (None, 8, 8, 512)         0         \n",
      "_________________________________________________________________\n",
      "block5_conv1 (Conv2D)        (None, 8, 8, 512)         2359808   \n",
      "_________________________________________________________________\n",
      "block5_conv2 (Conv2D)        (None, 8, 8, 512)         2359808   \n",
      "_________________________________________________________________\n",
      "block5_conv3 (Conv2D)        (None, 8, 8, 512)         2359808   \n",
      "_________________________________________________________________\n",
      "block5_pool (MaxPooling2D)   (None, 4, 4, 512)         0         \n",
      "_________________________________________________________________\n",
      "flatten (Flatten)            (None, 8192)              0         \n",
      "_________________________________________________________________\n",
      "dense (Dense)                (None, 1000)              8193000   \n",
      "_________________________________________________________________\n",
      "dropout (Dropout)            (None, 1000)              0         \n",
      "_________________________________________________________________\n",
      "dense_1 (Dense)              (None, 500)               500500    \n",
      "_________________________________________________________________\n",
      "dropout_1 (Dropout)          (None, 500)               0         \n",
      "_________________________________________________________________\n",
      "dense_2 (Dense)              (None, 228)               114228    \n",
      "_________________________________________________________________\n",
      "dropout_2 (Dropout)          (None, 228)               0         \n",
      "_________________________________________________________________\n",
      "dense_3 (Dense)              (None, 100)               22900     \n",
      "_________________________________________________________________\n",
      "dropout_3 (Dropout)          (None, 100)               0         \n",
      "_________________________________________________________________\n",
      "dense_4 (Dense)              (None, 50)                5050      \n",
      "_________________________________________________________________\n",
      "dropout_4 (Dropout)          (None, 50)                0         \n",
      "_________________________________________________________________\n",
      "dense_5 (Dense)              (None, 10)                510       \n",
      "_________________________________________________________________\n",
      "dropout_5 (Dropout)          (None, 10)                0         \n",
      "_________________________________________________________________\n",
      "dense_6 (Dense)              (None, 2)                 22        \n",
      "=================================================================\n",
      "Total params: 23,550,898\n",
      "Trainable params: 8,836,210\n",
      "Non-trainable params: 14,714,688\n",
      "_________________________________________________________________\n"
     ]
    }
   ],
   "source": [
    "model = Model_vgg((128, 128, 3), fine_tune=1)\n",
    "model.summary()"
   ]
  },
  {
   "cell_type": "markdown",
   "metadata": {},
   "source": [
    "# Preparing train test dataset"
   ]
  },
  {
   "cell_type": "code",
   "execution_count": 16,
   "metadata": {
    "execution": {
     "iopub.execute_input": "2022-12-12T05:02:42.286478Z",
     "iopub.status.busy": "2022-12-12T05:02:42.286123Z",
     "iopub.status.idle": "2022-12-12T05:02:43.133113Z",
     "shell.execute_reply": "2022-12-12T05:02:43.131920Z",
     "shell.execute_reply.started": "2022-12-12T05:02:42.286443Z"
    }
   },
   "outputs": [],
   "source": [
    "from sklearn.model_selection import train_test_split"
   ]
  },
  {
   "cell_type": "code",
   "execution_count": 17,
   "metadata": {
    "execution": {
     "iopub.execute_input": "2022-12-12T05:02:43.135192Z",
     "iopub.status.busy": "2022-12-12T05:02:43.134797Z",
     "iopub.status.idle": "2022-12-12T05:02:43.145840Z",
     "shell.execute_reply": "2022-12-12T05:02:43.144777Z",
     "shell.execute_reply.started": "2022-12-12T05:02:43.135149Z"
    }
   },
   "outputs": [],
   "source": [
    "RANDOM_STATE = 23\n",
    "\n",
    "def train_test_split_(dataset_path, test_size=None):\n",
    "    #loading saved dataset\n",
    "    if (os.path.exists(dataset_path)):\n",
    "        training_data = load(open(dataset_path, 'rb'))\n",
    "    \n",
    "    x = np.array([img for img, label in training_data])\n",
    "    y = np.array([label for img, label in training_data])\n",
    "    \n",
    "    if test_size:\n",
    "        x_train, x_test, y_train, y_test = train_test_split(x,y, test_size=test_size, random_state=RANDOM_STATE)\n",
    "    else:\n",
    "        x_train, y_train = x, y\n",
    "        x_test, y_test = None, None\n",
    "\n",
    "    return (x_train, y_train), (x_test, y_test)\n",
    "    \n",
    "    \n",
    "    \n",
    "    "
   ]
  },
  {
   "cell_type": "code",
   "execution_count": 18,
   "metadata": {
    "execution": {
     "iopub.execute_input": "2022-12-12T05:02:53.645638Z",
     "iopub.status.busy": "2022-12-12T05:02:53.645094Z",
     "iopub.status.idle": "2022-12-12T05:03:04.696721Z",
     "shell.execute_reply": "2022-12-12T05:03:04.695719Z",
     "shell.execute_reply.started": "2022-12-12T05:02:53.645594Z"
    }
   },
   "outputs": [
    {
     "data": {
      "text/plain": [
       "((13472, 128, 128, 3), (13472,))"
      ]
     },
     "execution_count": 18,
     "metadata": {},
     "output_type": "execute_result"
    }
   ],
   "source": [
    "(x_train, y_train), (x_test, y_test) = train_test_split_(\"/kaggle/input/pain-dataset/training_data_rgb.pkl\", test_size=0.2)\n",
    "x_train.shape, y_train.shape"
   ]
  },
  {
   "cell_type": "code",
   "execution_count": 19,
   "metadata": {
    "execution": {
     "iopub.execute_input": "2022-12-12T05:03:12.117467Z",
     "iopub.status.busy": "2022-12-12T05:03:12.116742Z",
     "iopub.status.idle": "2022-12-12T05:03:12.126942Z",
     "shell.execute_reply": "2022-12-12T05:03:12.125793Z",
     "shell.execute_reply.started": "2022-12-12T05:03:12.117430Z"
    }
   },
   "outputs": [
    {
     "data": {
      "text/plain": [
       "(array([0, 1]), array([6798, 6674]))"
      ]
     },
     "execution_count": 19,
     "metadata": {},
     "output_type": "execute_result"
    }
   ],
   "source": [
    "np.unique(y_train, return_counts=True)"
   ]
  },
  {
   "cell_type": "markdown",
   "metadata": {},
   "source": [
    "# model training"
   ]
  },
  {
   "cell_type": "code",
   "execution_count": null,
   "metadata": {
    "execution": {
     "iopub.execute_input": "2022-12-08T10:43:56.798049Z",
     "iopub.status.busy": "2022-12-08T10:43:56.796915Z",
     "iopub.status.idle": "2022-12-08T10:43:56.803849Z",
     "shell.execute_reply": "2022-12-08T10:43:56.802572Z",
     "shell.execute_reply.started": "2022-12-08T10:43:56.797983Z"
    }
   },
   "outputs": [],
   "source": [
    "from tensorflow.keras.preprocessing.image import ImageDataGenerator"
   ]
  },
  {
   "cell_type": "code",
   "execution_count": 20,
   "metadata": {
    "execution": {
     "iopub.execute_input": "2022-12-12T05:03:23.282729Z",
     "iopub.status.busy": "2022-12-12T05:03:23.282369Z",
     "iopub.status.idle": "2022-12-12T05:03:23.289291Z",
     "shell.execute_reply": "2022-12-12T05:03:23.287833Z",
     "shell.execute_reply.started": "2022-12-12T05:03:23.282696Z"
    }
   },
   "outputs": [],
   "source": [
    "def plot_history(hist):\n",
    "    fig = plt.figure()\n",
    "    plt.plot(hist.history['accuracy'], color='teal', label='accuracy')\n",
    "    plt.plot(hist.history['val_accuracy'], color='orange', label='val_accuracy')\n",
    "    fig.suptitle('Accuracy', fontsize=20)\n",
    "    plt.legend(loc='upper left')\n",
    "    plt.show()"
   ]
  },
  {
   "cell_type": "code",
   "execution_count": null,
   "metadata": {
    "execution": {
     "iopub.execute_input": "2022-12-08T09:52:27.175428Z",
     "iopub.status.busy": "2022-12-08T09:52:27.175082Z",
     "iopub.status.idle": "2022-12-08T09:52:37.434914Z",
     "shell.execute_reply": "2022-12-08T09:52:37.433757Z",
     "shell.execute_reply.started": "2022-12-08T09:52:27.175394Z"
    }
   },
   "outputs": [],
   "source": [
    "# data_generator = ImageDataGenerator(\n",
    "#     horizontal_flip=True,\n",
    "#     vertical_flip=True,\n",
    "#     rotation_range=(0, 0.5),\n",
    "#     rescale=0.2,\n",
    "#     brightness_range= (0, 0.3)\n",
    "# )\n",
    "\n",
    "# data_generator.fit(x_train)\n",
    "\n",
    "# train_gen = data_generator.flow(x_train, y_train, batch_size=32, seed=RANDOM_STATE)"
   ]
  },
  {
   "cell_type": "code",
   "execution_count": 21,
   "metadata": {
    "execution": {
     "iopub.execute_input": "2022-12-12T05:03:32.848548Z",
     "iopub.status.busy": "2022-12-12T05:03:32.847401Z",
     "iopub.status.idle": "2022-12-12T05:08:26.049935Z",
     "shell.execute_reply": "2022-12-12T05:08:26.048978Z",
     "shell.execute_reply.started": "2022-12-12T05:03:32.848499Z"
    }
   },
   "outputs": [
    {
     "name": "stderr",
     "output_type": "stream",
     "text": [
      "2022-12-12 05:03:32.854365: W tensorflow/core/framework/cpu_allocator_impl.cc:80] Allocation of 463503360 exceeds 10% of free system memory.\n",
      "2022-12-12 05:03:33.168035: W tensorflow/core/framework/cpu_allocator_impl.cc:80] Allocation of 463503360 exceeds 10% of free system memory.\n",
      "2022-12-12 05:03:33.584199: I tensorflow/compiler/mlir/mlir_graph_optimization_pass.cc:185] None of the MLIR Optimization Passes are enabled (registered 2)\n"
     ]
    },
    {
     "name": "stdout",
     "output_type": "stream",
     "text": [
      "Epoch 1/15\n"
     ]
    },
    {
     "name": "stderr",
     "output_type": "stream",
     "text": [
      "2022-12-12 05:03:36.430080: I tensorflow/stream_executor/cuda/cuda_dnn.cc:369] Loaded cuDNN version 8005\n"
     ]
    },
    {
     "name": "stdout",
     "output_type": "stream",
     "text": [
      "295/295 [==============================] - ETA: 0s - loss: 1.4221 - accuracy: 0.5141"
     ]
    },
    {
     "name": "stderr",
     "output_type": "stream",
     "text": [
      "2022-12-12 05:04:03.729273: W tensorflow/core/framework/cpu_allocator_impl.cc:80] Allocation of 198672384 exceeds 10% of free system memory.\n",
      "2022-12-12 05:04:03.834192: W tensorflow/core/framework/cpu_allocator_impl.cc:80] Allocation of 198672384 exceeds 10% of free system memory.\n"
     ]
    },
    {
     "name": "stdout",
     "output_type": "stream",
     "text": [
      "295/295 [==============================] - 37s 77ms/step - loss: 1.4221 - accuracy: 0.5141 - val_loss: 0.6939 - val_accuracy: 0.4965\n",
      "Epoch 2/15\n",
      "295/295 [==============================] - 19s 63ms/step - loss: 0.7174 - accuracy: 0.5216 - val_loss: 0.6747 - val_accuracy: 0.6098\n",
      "Epoch 3/15\n",
      "295/295 [==============================] - 18s 61ms/step - loss: 0.6841 - accuracy: 0.5690 - val_loss: 0.6370 - val_accuracy: 0.6922\n",
      "Epoch 4/15\n",
      "295/295 [==============================] - 18s 61ms/step - loss: 0.6222 - accuracy: 0.6637 - val_loss: 0.5340 - val_accuracy: 0.7566\n",
      "Epoch 5/15\n",
      "295/295 [==============================] - 18s 62ms/step - loss: 0.5392 - accuracy: 0.7488 - val_loss: 0.4507 - val_accuracy: 0.7729\n",
      "Epoch 6/15\n",
      "295/295 [==============================] - 18s 63ms/step - loss: 0.4880 - accuracy: 0.7642 - val_loss: 0.4214 - val_accuracy: 0.8003\n",
      "Epoch 7/15\n",
      "295/295 [==============================] - 18s 62ms/step - loss: 0.4483 - accuracy: 0.7812 - val_loss: 0.4002 - val_accuracy: 0.7942\n",
      "Epoch 8/15\n",
      "295/295 [==============================] - 18s 62ms/step - loss: 0.4316 - accuracy: 0.7905 - val_loss: 0.3975 - val_accuracy: 0.7919\n",
      "Epoch 9/15\n",
      "295/295 [==============================] - 18s 62ms/step - loss: 0.4236 - accuracy: 0.7934 - val_loss: 0.3927 - val_accuracy: 0.7999\n",
      "Epoch 10/15\n",
      "295/295 [==============================] - 18s 62ms/step - loss: 0.4014 - accuracy: 0.8023 - val_loss: 0.4098 - val_accuracy: 0.7796\n",
      "Epoch 11/15\n",
      "295/295 [==============================] - 18s 62ms/step - loss: 0.3987 - accuracy: 0.8056 - val_loss: 0.3706 - val_accuracy: 0.7937\n",
      "Epoch 12/15\n",
      "295/295 [==============================] - 18s 62ms/step - loss: 0.3813 - accuracy: 0.8063 - val_loss: 0.3708 - val_accuracy: 0.7900\n",
      "Epoch 13/15\n",
      "295/295 [==============================] - 18s 62ms/step - loss: 0.3724 - accuracy: 0.8152 - val_loss: 0.3834 - val_accuracy: 0.8093\n",
      "Epoch 14/15\n",
      "295/295 [==============================] - 18s 62ms/step - loss: 0.3704 - accuracy: 0.8180 - val_loss: 0.3579 - val_accuracy: 0.8097\n",
      "Epoch 15/15\n",
      "295/295 [==============================] - 18s 62ms/step - loss: 0.3614 - accuracy: 0.8192 - val_loss: 0.3579 - val_accuracy: 0.8140\n"
     ]
    }
   ],
   "source": [
    "hist = model.fit(x_train, y_train, epochs=15, verbose=1, validation_split=0.3)"
   ]
  },
  {
   "cell_type": "code",
   "execution_count": 22,
   "metadata": {
    "execution": {
     "iopub.execute_input": "2022-12-12T05:14:07.670904Z",
     "iopub.status.busy": "2022-12-12T05:14:07.670500Z",
     "iopub.status.idle": "2022-12-12T05:14:07.883588Z",
     "shell.execute_reply": "2022-12-12T05:14:07.882645Z",
     "shell.execute_reply.started": "2022-12-12T05:14:07.670868Z"
    }
   },
   "outputs": [
    {
     "data": {
      "image/png": "[encoded data removed]",
      "text/plain": [
       "<Figure size 432x288 with 1 Axes>"
      ]
     },
     "metadata": {
      "needs_background": "light"
     },
     "output_type": "display_data"
    }
   ],
   "source": [
    "plot_history(hist)"
   ]
  },
  {
   "cell_type": "code",
   "execution_count": null,
   "metadata": {
    "execution": {
     "iopub.execute_input": "2022-12-08T09:02:30.131780Z",
     "iopub.status.busy": "2022-12-08T09:02:30.131400Z",
     "iopub.status.idle": "2022-12-08T09:08:07.210288Z",
     "shell.execute_reply": "2022-12-08T09:08:07.209138Z",
     "shell.execute_reply.started": "2022-12-08T09:02:30.131749Z"
    }
   },
   "outputs": [],
   "source": [
    "hist = model.fit(x_train, y_train, epochs=15, verbose=1, validation_split=0.3)"
   ]
  },
  {
   "cell_type": "code",
   "execution_count": null,
   "metadata": {
    "execution": {
     "iopub.execute_input": "2022-12-08T09:08:07.212834Z",
     "iopub.status.busy": "2022-12-08T09:08:07.212232Z",
     "iopub.status.idle": "2022-12-08T09:08:07.487328Z",
     "shell.execute_reply": "2022-12-08T09:08:07.486415Z",
     "shell.execute_reply.started": "2022-12-08T09:08:07.212790Z"
    }
   },
   "outputs": [],
   "source": [
    "plot_history(hist)"
   ]
  },
  {
   "cell_type": "code",
   "execution_count": null,
   "metadata": {
    "execution": {
     "iopub.status.busy": "2022-12-08T09:02:26.176495Z",
     "iopub.status.idle": "2022-12-08T09:02:26.176986Z",
     "shell.execute_reply": "2022-12-08T09:02:26.176745Z",
     "shell.execute_reply.started": "2022-12-08T09:02:26.176722Z"
    }
   },
   "outputs": [],
   "source": [
    "hist = model.fit(x_train, y_train, epochs=15, verbose=1, validation_split=0.3)"
   ]
  },
  {
   "cell_type": "code",
   "execution_count": null,
   "metadata": {
    "execution": {
     "iopub.execute_input": "2022-12-08T08:17:27.495250Z",
     "iopub.status.busy": "2022-12-08T08:17:27.494240Z",
     "iopub.status.idle": "2022-12-08T08:17:27.766746Z",
     "shell.execute_reply": "2022-12-08T08:17:27.765836Z",
     "shell.execute_reply.started": "2022-12-08T08:17:27.495210Z"
    }
   },
   "outputs": [],
   "source": [
    "plot_history(hist)"
   ]
  },
  {
   "cell_type": "code",
   "execution_count": null,
   "metadata": {
    "execution": {
     "iopub.execute_input": "2022-12-08T08:18:05.462058Z",
     "iopub.status.busy": "2022-12-08T08:18:05.461614Z",
     "iopub.status.idle": "2022-12-08T08:18:05.470557Z",
     "shell.execute_reply": "2022-12-08T08:18:05.469607Z",
     "shell.execute_reply.started": "2022-12-08T08:18:05.462021Z"
    }
   },
   "outputs": [],
   "source": [
    "# y_test value count\n",
    "np.unique(y_train, return_counts=True)"
   ]
  },
  {
   "cell_type": "code",
   "execution_count": null,
   "metadata": {
    "execution": {
     "iopub.execute_input": "2022-12-08T08:18:31.792972Z",
     "iopub.status.busy": "2022-12-08T08:18:31.792560Z",
     "iopub.status.idle": "2022-12-08T08:20:26.101476Z",
     "shell.execute_reply": "2022-12-08T08:20:26.100369Z",
     "shell.execute_reply.started": "2022-12-08T08:18:31.792925Z"
    }
   },
   "outputs": [],
   "source": [
    "hist = model.fit(x_train, y_train, epochs=5, verbose=1, validation_split=0.3)"
   ]
  },
  {
   "cell_type": "code",
   "execution_count": null,
   "metadata": {
    "execution": {
     "iopub.execute_input": "2022-12-08T08:20:26.104063Z",
     "iopub.status.busy": "2022-12-08T08:20:26.103649Z",
     "iopub.status.idle": "2022-12-08T08:20:26.356705Z",
     "shell.execute_reply": "2022-12-08T08:20:26.355781Z",
     "shell.execute_reply.started": "2022-12-08T08:20:26.104008Z"
    }
   },
   "outputs": [],
   "source": [
    "plot_history(hist)"
   ]
  },
  {
   "cell_type": "code",
   "execution_count": null,
   "metadata": {
    "execution": {
     "iopub.execute_input": "2022-12-08T08:20:48.620788Z",
     "iopub.status.busy": "2022-12-08T08:20:48.620432Z",
     "iopub.status.idle": "2022-12-08T08:20:48.884338Z",
     "shell.execute_reply": "2022-12-08T08:20:48.883353Z",
     "shell.execute_reply.started": "2022-12-08T08:20:48.620752Z"
    }
   },
   "outputs": [],
   "source": [
    "model.save(\"/kaggle/working/model_acc_80.h5\")"
   ]
  },
  {
   "cell_type": "markdown",
   "metadata": {},
   "source": [
    "# Model Prediction"
   ]
  },
  {
   "cell_type": "code",
   "execution_count": null,
   "metadata": {
    "execution": {
     "iopub.execute_input": "2022-12-08T10:59:48.766074Z",
     "iopub.status.busy": "2022-12-08T10:59:48.765601Z",
     "iopub.status.idle": "2022-12-08T10:59:48.774808Z",
     "shell.execute_reply": "2022-12-08T10:59:48.773522Z",
     "shell.execute_reply.started": "2022-12-08T10:59:48.766037Z"
    }
   },
   "outputs": [],
   "source": [
    "def predict(image, model_path= \"/kaggle/working/model_acc_80.h5\"):\n",
    "    IMG_SHAPE = 128\n",
    "    model = keras.models.load_model(model_path)\n",
    "    \n",
    "    # detect face in the image\n",
    "    harrcascade_face_xml = \"/kaggle/input/haarcascades/haarcascade_frontalface_default.xml\"\n",
    "    face_cascade = cv2.CascadeClassifier(harrcascade_face_xml)\n",
    "    \n",
    "    img_data_gray = cv2.cvtColor(image,cv2.COLOR_RGB2GRAY)\n",
    "    faces = face_cascade.detectMultiScale(img_data_gray, 1.1, 4)\n",
    "    \n",
    "    if not len(faces):\n",
    "        print(\"no face detected\")\n",
    "        return\n",
    "                    \n",
    "    x, y, w, h = faces[0]\n",
    "    face_cropped = image[y: y+h, x: x+w]\n",
    "    img_data = cv2.resize(face_cropped, (IMG_SHAPE, IMG_SHAPE))\n",
    "    return np.argmax(model.predict(img_data.reshape(-1, IMG_SHAPE, IMG_SHAPE, 3)), axis=1)\n",
    "    "
   ]
  },
  {
   "cell_type": "code",
   "execution_count": null,
   "metadata": {
    "execution": {
     "iopub.execute_input": "2022-12-08T08:36:39.496625Z",
     "iopub.status.busy": "2022-12-08T08:36:39.495847Z",
     "iopub.status.idle": "2022-12-08T08:36:39.501057Z",
     "shell.execute_reply": "2022-12-08T08:36:39.499969Z",
     "shell.execute_reply.started": "2022-12-08T08:36:39.496577Z"
    }
   },
   "outputs": [],
   "source": [
    "# !wget \"https://www.noldus.com/static/images/core-blog/mobile/measuring-painful-faces-1583143928.jpg\""
   ]
  },
  {
   "cell_type": "code",
   "execution_count": null,
   "metadata": {
    "execution": {
     "iopub.execute_input": "2022-12-08T10:59:55.646666Z",
     "iopub.status.busy": "2022-12-08T10:59:55.646272Z",
     "iopub.status.idle": "2022-12-08T10:59:57.901009Z",
     "shell.execute_reply": "2022-12-08T10:59:57.899872Z",
     "shell.execute_reply.started": "2022-12-08T10:59:55.646633Z"
    }
   },
   "outputs": [],
   "source": [
    "image = cv2.imread(\"/kaggle/working/measuring-painful-faces-1583143928.jpg\")\n",
    "predict(image)"
   ]
  },
  {
   "cell_type": "code",
   "execution_count": null,
   "metadata": {
    "execution": {
     "iopub.execute_input": "2022-12-08T10:59:58.296233Z",
     "iopub.status.busy": "2022-12-08T10:59:58.294790Z",
     "iopub.status.idle": "2022-12-08T10:59:58.324162Z",
     "shell.execute_reply": "2022-12-08T10:59:58.322404Z",
     "shell.execute_reply.started": "2022-12-08T10:59:58.296183Z"
    }
   },
   "outputs": [],
   "source": [
    "img, label = training_data[3000]\n",
    "predict(img), label"
   ]
  },
  {
   "cell_type": "markdown",
   "metadata": {},
   "source": [
    "# Using Xception pretrained model"
   ]
  },
  {
   "cell_type": "code",
   "execution_count": null,
   "metadata": {
    "execution": {
     "iopub.execute_input": "2022-12-08T10:41:40.087719Z",
     "iopub.status.busy": "2022-12-08T10:41:40.086515Z",
     "iopub.status.idle": "2022-12-08T10:41:40.095301Z",
     "shell.execute_reply": "2022-12-08T10:41:40.094222Z",
     "shell.execute_reply.started": "2022-12-08T10:41:40.087673Z"
    }
   },
   "outputs": [],
   "source": [
    "from tensorflow.keras.applications import xception"
   ]
  },
  {
   "cell_type": "code",
   "execution_count": null,
   "metadata": {
    "execution": {
     "iopub.execute_input": "2022-12-08T10:41:44.694691Z",
     "iopub.status.busy": "2022-12-08T10:41:44.694286Z",
     "iopub.status.idle": "2022-12-08T10:41:44.705188Z",
     "shell.execute_reply": "2022-12-08T10:41:44.704114Z",
     "shell.execute_reply.started": "2022-12-08T10:41:44.694656Z"
    }
   },
   "outputs": [],
   "source": [
    "def Model_customized():\n",
    "    conv_layer = xception.Xception(include_top=False, input_shape=(128, 128, 3))\n",
    "    model = Sequential()\n",
    "\n",
    "    model.add(conv_layer)\n",
    "    \n",
    "    # freezing vgg16 layers\n",
    "    for layer in model.layers[:-2]:\n",
    "        layer.trainable = False\n",
    "    \n",
    "    # building dense layer\n",
    "    model.add(Flatten())\n",
    "    model.add(Dense(1000,activation='relu'))\n",
    "    model.add(Dropout(0.3))\n",
    "    model.add(Dense(500, activation='relu'))\n",
    "    model.add(Dropout(0.4))\n",
    "    model.add(Dense(228, activation='relu'))\n",
    "    model.add(Dropout(0.3))\n",
    "    model.add(Dense(100, activation='relu'))\n",
    "    model.add(Dropout(0.3))\n",
    "    model.add(Dense(50, activation='relu'))\n",
    "    model.add(Dropout(0.3))\n",
    "    model.add(Dense(10, activation='relu'))\n",
    "    model.add(Dropout(0.2))\n",
    "    model.add(Dense(2,activation='softmax'))\n",
    "    \n",
    "    model.compile(optimizer='Adam',loss='sparse_categorical_crossentropy',metrics=['accuracy'])\n",
    "    \n",
    "    return model"
   ]
  },
  {
   "cell_type": "code",
   "execution_count": null,
   "metadata": {
    "execution": {
     "iopub.execute_input": "2022-12-08T10:41:47.564728Z",
     "iopub.status.busy": "2022-12-08T10:41:47.563903Z",
     "iopub.status.idle": "2022-12-08T10:41:49.393297Z",
     "shell.execute_reply": "2022-12-08T10:41:49.392113Z",
     "shell.execute_reply.started": "2022-12-08T10:41:47.564686Z"
    }
   },
   "outputs": [],
   "source": [
    "model = Model_customized()"
   ]
  },
  {
   "cell_type": "code",
   "execution_count": null,
   "metadata": {
    "execution": {
     "iopub.execute_input": "2022-12-08T09:31:57.228418Z",
     "iopub.status.busy": "2022-12-08T09:31:57.228021Z",
     "iopub.status.idle": "2022-12-08T09:31:57.245597Z",
     "shell.execute_reply": "2022-12-08T09:31:57.244509Z",
     "shell.execute_reply.started": "2022-12-08T09:31:57.228385Z"
    }
   },
   "outputs": [],
   "source": [
    "model.summary()"
   ]
  },
  {
   "cell_type": "code",
   "execution_count": null,
   "metadata": {
    "execution": {
     "iopub.execute_input": "2022-12-08T09:31:58.425068Z",
     "iopub.status.busy": "2022-12-08T09:31:58.424379Z",
     "iopub.status.idle": "2022-12-08T09:52:25.473011Z",
     "shell.execute_reply": "2022-12-08T09:52:25.471877Z",
     "shell.execute_reply.started": "2022-12-08T09:31:58.425030Z"
    }
   },
   "outputs": [],
   "source": [
    "hist = model.fit(x_train, y_train, epochs=15, verbose=1, validation_split=0.3)"
   ]
  },
  {
   "cell_type": "code",
   "execution_count": null,
   "metadata": {
    "execution": {
     "iopub.execute_input": "2022-12-08T09:55:16.523151Z",
     "iopub.status.busy": "2022-12-08T09:55:16.522648Z",
     "iopub.status.idle": "2022-12-08T09:55:16.759988Z",
     "shell.execute_reply": "2022-12-08T09:55:16.758848Z",
     "shell.execute_reply.started": "2022-12-08T09:55:16.523112Z"
    }
   },
   "outputs": [],
   "source": [
    "plot_history(hist)"
   ]
  },
  {
   "cell_type": "code",
   "execution_count": null,
   "metadata": {
    "execution": {
     "iopub.execute_input": "2022-12-08T09:55:22.119410Z",
     "iopub.status.busy": "2022-12-08T09:55:22.119030Z",
     "iopub.status.idle": "2022-12-08T10:10:13.619041Z",
     "shell.execute_reply": "2022-12-08T10:10:13.616256Z",
     "shell.execute_reply.started": "2022-12-08T09:55:22.119375Z"
    }
   },
   "outputs": [],
   "source": [
    "hist = model.fit(x_train, y_train, epochs=15, verbose=1, validation_split=0.3)"
   ]
  },
  {
   "cell_type": "code",
   "execution_count": null,
   "metadata": {},
   "outputs": [],
   "source": [
    "plot_history(hist)"
   ]
  },
  {
   "cell_type": "markdown",
   "metadata": {},
   "source": [
    "# Data Augmentation to improve the accuracy"
   ]
  },
  {
   "cell_type": "code",
   "execution_count": null,
   "metadata": {
    "execution": {
     "iopub.execute_input": "2022-12-08T10:44:07.493853Z",
     "iopub.status.busy": "2022-12-08T10:44:07.492762Z",
     "iopub.status.idle": "2022-12-08T10:44:10.561087Z",
     "shell.execute_reply": "2022-12-08T10:44:10.559961Z",
     "shell.execute_reply.started": "2022-12-08T10:44:07.493813Z"
    }
   },
   "outputs": [],
   "source": [
    "data_generator = ImageDataGenerator(\n",
    "    horizontal_flip=True\n",
    ")\n",
    "\n",
    "batch_size = 64\n",
    "data_generator.fit(x_train)\n",
    "\n",
    "train_gen = data_generator.flow(x_train, y_train, batch_size=batch_size, seed=RANDOM_STATE)\n",
    "del x_train\n",
    "del y_train\n",
    "del training_data"
   ]
  },
  {
   "cell_type": "code",
   "execution_count": null,
   "metadata": {
    "execution": {
     "iopub.execute_input": "2022-12-08T10:44:14.074044Z",
     "iopub.status.busy": "2022-12-08T10:44:14.073366Z",
     "iopub.status.idle": "2022-12-08T10:58:02.440307Z",
     "shell.execute_reply": "2022-12-08T10:58:02.435616Z",
     "shell.execute_reply.started": "2022-12-08T10:44:14.074000Z"
    }
   },
   "outputs": [],
   "source": [
    "hist = model.fit_generator(train_gen, \n",
    "                    epochs=15,  # one forward/backward pass of training data\n",
    "                    steps_per_epoch=x_train.shape[0]//batch_size,  # number of images comprising of one epoch\n",
    "                    validation_data=(x_test, y_test), # Or validation_data=valid_generator\n",
    "                    validation_steps=x_test.shape[0]//batch_size)"
   ]
  },
  {
   "cell_type": "code",
   "execution_count": null,
   "metadata": {
    "execution": {
     "iopub.execute_input": "2022-12-08T10:36:12.506049Z",
     "iopub.status.busy": "2022-12-08T10:36:12.504738Z",
     "iopub.status.idle": "2022-12-08T10:36:12.989312Z",
     "shell.execute_reply": "2022-12-08T10:36:12.987746Z",
     "shell.execute_reply.started": "2022-12-08T10:36:12.505991Z"
    }
   },
   "outputs": [],
   "source": [
    "plot_history(hist)"
   ]
  },
  {
   "cell_type": "code",
   "execution_count": null,
   "metadata": {
    "execution": {
     "iopub.status.busy": "2022-12-08T10:34:59.480225Z",
     "iopub.status.idle": "2022-12-08T10:34:59.481117Z",
     "shell.execute_reply": "2022-12-08T10:34:59.480848Z",
     "shell.execute_reply.started": "2022-12-08T10:34:59.480811Z"
    }
   },
   "outputs": [],
   "source": [
    "hist = model.fit_generator(train_gen, \n",
    "                    epochs=15,  # one forward/backward pass of training data\n",
    "                    steps_per_epoch=x_train.shape[0]//batch_size,  # number of images comprising of one epoch\n",
    "                    validation_data=(x_test, y_test), # Or validation_data=valid_generator\n",
    "                    validation_steps=x_test.shape[0]//batch_size)"
   ]
  },
  {
   "cell_type": "code",
   "execution_count": null,
   "metadata": {},
   "outputs": [],
   "source": []
  }
 ],
 "metadata": {
  "kernelspec": {
   "display_name": "Python 3 (ipykernel)",
   "language": "python",
   "name": "python3"
  },
  "language_info": {
   "codemirror_mode": {
    "name": "ipython",
    "version": 3
   },
   "file_extension": ".py",
   "mimetype": "text/x-python",
   "name": "python",
   "nbconvert_exporter": "python",
   "pygments_lexer": "ipython3",
   "version": "3.7.12"
  }
 },
 "nbformat": 4,
 "nbformat_minor": 4
}
