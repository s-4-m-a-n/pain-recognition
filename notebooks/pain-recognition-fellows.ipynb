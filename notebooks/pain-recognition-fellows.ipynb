{
 "cells": [
  {
   "cell_type": "raw",
   "metadata": {
    "_cell_guid": "b1076dfc-b9ad-4769-8c92-a6c4dae69d19",
    "_uuid": "8f2839f25d086af736a60e9eeb907d3b93b6e0e5"
   },
   "source": [
    "# This Python 3 environment comes with many helpful analytics libraries installed\n",
    "# It is defined by the kaggle/python Docker image: https://github.com/kaggle/docker-python\n",
    "# For example, here's several helpful packages to load\n",
    "\n",
    "import numpy as np # linear algebra\n",
    "import pandas as pd # data processing, CSV file I/O (e.g. pd.read_csv)\n",
    "\n",
    "# Input data files are available in the read-only \"../input/\" directory\n",
    "# For example, running this (by clicking run or pressing Shift+Enter) will list all files under the input directory\n",
    "\n",
    "import os\n",
    "\n",
    "# You can write up to 20GB to the current directory (/kaggle/working/) that gets preserved as output when you create a version using \"Save & Run All\" \n",
    "# You can also write temporary files to /kaggle/temp/, but they won't be saved outside of the current session"
   ]
  },
  {
   "cell_type": "code",
   "execution_count": 1,
   "metadata": {
    "execution": {
     "iopub.execute_input": "2022-12-21T00:53:45.868129Z",
     "iopub.status.busy": "2022-12-21T00:53:45.867683Z",
     "iopub.status.idle": "2022-12-21T00:53:46.074561Z",
     "shell.execute_reply": "2022-12-21T00:53:46.073592Z",
     "shell.execute_reply.started": "2022-12-21T00:53:45.867994Z"
    }
   },
   "outputs": [],
   "source": [
    "import os\n",
    "import numpy as np\n",
    "import pandas as pd\n",
    "import matplotlib.pyplot as plt\n",
    "from random import shuffle\n",
    "from tqdm import tqdm\n",
    "import cv2"
   ]
  },
  {
   "cell_type": "markdown",
   "metadata": {},
   "source": [
    "# DATA GENERATOR"
   ]
  },
  {
   "cell_type": "code",
   "execution_count": 2,
   "metadata": {
    "execution": {
     "iopub.execute_input": "2022-12-21T00:53:46.078112Z",
     "iopub.status.busy": "2022-12-21T00:53:46.077459Z",
     "iopub.status.idle": "2022-12-21T00:53:46.083336Z",
     "shell.execute_reply": "2022-12-21T00:53:46.082283Z",
     "shell.execute_reply.started": "2022-12-21T00:53:46.078052Z"
    }
   },
   "outputs": [],
   "source": [
    "TRAIN_DIR = \"/kaggle/input/pain-face-fellows/pain face fellows v3/dataset/training\"\n",
    "VAL_DIR = \"/kaggle/input/pain-face-fellows/pain face fellows v3/dataset/validation\""
   ]
  },
  {
   "cell_type": "code",
   "execution_count": 3,
   "metadata": {
    "execution": {
     "iopub.execute_input": "2022-12-21T00:53:46.085747Z",
     "iopub.status.busy": "2022-12-21T00:53:46.084767Z",
     "iopub.status.idle": "2022-12-21T00:53:53.978850Z",
     "shell.execute_reply": "2022-12-21T00:53:53.977823Z",
     "shell.execute_reply.started": "2022-12-21T00:53:46.085708Z"
    }
   },
   "outputs": [],
   "source": [
    "from sklearn.model_selection import train_test_split\n",
    "from tensorflow.keras.preprocessing.image import ImageDataGenerator"
   ]
  },
  {
   "cell_type": "code",
   "execution_count": 4,
   "metadata": {
    "execution": {
     "iopub.execute_input": "2022-12-21T00:53:53.982754Z",
     "iopub.status.busy": "2022-12-21T00:53:53.981586Z",
     "iopub.status.idle": "2022-12-21T00:53:54.233596Z",
     "shell.execute_reply": "2022-12-21T00:53:54.232593Z",
     "shell.execute_reply.started": "2022-12-21T00:53:53.982710Z"
    }
   },
   "outputs": [
    {
     "name": "stdout",
     "output_type": "stream",
     "text": [
      "Found 146 images belonging to 2 classes.\n",
      "Found 41 images belonging to 2 classes.\n"
     ]
    },
    {
     "data": {
      "text/plain": [
       "(146, 41)"
      ]
     },
     "execution_count": 4,
     "metadata": {},
     "output_type": "execute_result"
    }
   ],
   "source": [
    "data_generator = ImageDataGenerator(\n",
    "    horizontal_flip=True,\n",
    "    rescale=1.2,\n",
    "    rotation_range= 10, #-10 degree - 10 degree\n",
    "    width_shift_range = 0.2,\n",
    "    height_shift_range = 0.2,\n",
    "    brightness_range=[0.4,1.5],\n",
    "    zoom_range=0.2\n",
    "    \n",
    ")\n",
    "batch_size = 64\n",
    "\n",
    "train_generator = data_generator.flow_from_directory(\n",
    "    directory= TRAIN_DIR,\n",
    "    target_size=(128, 128),\n",
    "    color_mode=\"rgb\",\n",
    "    batch_size=batch_size,\n",
    "    class_mode=\"sparse\",\n",
    "    shuffle=True,\n",
    "    seed=42\n",
    ")\n",
    "\n",
    "\n",
    "\n",
    "validation_generator= data_generator.flow_from_directory(\n",
    "    directory= VAL_DIR,\n",
    "    target_size=(128, 128),\n",
    "    color_mode=\"rgb\",\n",
    "    batch_size=batch_size,\n",
    "    class_mode=\"sparse\",\n",
    "    shuffle=False,\n",
    "    seed=42\n",
    ")\n",
    "\n",
    "train_generator.samples, validation_generator.samples"
   ]
  },
  {
   "cell_type": "markdown",
   "metadata": {},
   "source": [
    "# CLASS WEIGHT"
   ]
  },
  {
   "cell_type": "code",
   "execution_count": 5,
   "metadata": {
    "execution": {
     "iopub.execute_input": "2022-12-21T00:53:54.235949Z",
     "iopub.status.busy": "2022-12-21T00:53:54.235275Z",
     "iopub.status.idle": "2022-12-21T00:53:54.245438Z",
     "shell.execute_reply": "2022-12-21T00:53:54.244349Z",
     "shell.execute_reply.started": "2022-12-21T00:53:54.235909Z"
    }
   },
   "outputs": [],
   "source": [
    "from sklearn.utils import class_weight\n",
    "\n",
    "class_weights = dict(zip(np.unique(train_generator.classes),class_weight.compute_class_weight(\n",
    "                        class_weight = 'balanced',\n",
    "                        classes = np.unique(train_generator.classes), \n",
    "                        y = train_generator.classes)))"
   ]
  },
  {
   "cell_type": "markdown",
   "metadata": {},
   "source": [
    "# Helper Functions"
   ]
  },
  {
   "cell_type": "code",
   "execution_count": 6,
   "metadata": {
    "execution": {
     "iopub.execute_input": "2022-12-21T00:53:54.249047Z",
     "iopub.status.busy": "2022-12-21T00:53:54.248751Z",
     "iopub.status.idle": "2022-12-21T00:53:54.255447Z",
     "shell.execute_reply": "2022-12-21T00:53:54.254271Z",
     "shell.execute_reply.started": "2022-12-21T00:53:54.249014Z"
    }
   },
   "outputs": [],
   "source": [
    "def plot_history(hist):\n",
    "    fig = plt.figure()\n",
    "    plt.plot(hist.history['accuracy'], color='teal', label='accuracy')\n",
    "    plt.plot(hist.history['val_accuracy'], color='orange', label='val_accuracy')\n",
    "    fig.suptitle('Accuracy', fontsize=20)\n",
    "    plt.legend(loc='upper left')\n",
    "    plt.show()"
   ]
  },
  {
   "cell_type": "markdown",
   "metadata": {},
   "source": [
    "# Building Model"
   ]
  },
  {
   "cell_type": "code",
   "execution_count": 7,
   "metadata": {
    "execution": {
     "iopub.execute_input": "2022-12-21T00:53:54.257658Z",
     "iopub.status.busy": "2022-12-21T00:53:54.256801Z",
     "iopub.status.idle": "2022-12-21T00:53:54.266508Z",
     "shell.execute_reply": "2022-12-21T00:53:54.265125Z",
     "shell.execute_reply.started": "2022-12-21T00:53:54.257616Z"
    }
   },
   "outputs": [],
   "source": [
    "from keras.models import Sequential, Model\n",
    "from keras.layers import Dense, Dropout, Flatten,Conv2D,MaxPooling2D, BatchNormalization\n",
    "from tensorflow.keras import applications\n",
    "from tensorflow import keras\n",
    "import tensorflow as tf\n",
    "from tensorflow.keras.applications import xception"
   ]
  },
  {
   "cell_type": "code",
   "execution_count": 8,
   "metadata": {
    "execution": {
     "iopub.execute_input": "2022-12-21T00:53:54.267981Z",
     "iopub.status.busy": "2022-12-21T00:53:54.267688Z",
     "iopub.status.idle": "2022-12-21T00:53:54.283198Z",
     "shell.execute_reply": "2022-12-21T00:53:54.282262Z",
     "shell.execute_reply.started": "2022-12-21T00:53:54.267944Z"
    }
   },
   "outputs": [],
   "source": [
    "def Model_vgg(img_shape, fine_tune=0):\n",
    "    pretrained_model = applications.vgg16.VGG16(weights='imagenet', include_top=False,input_shape=img_shape)\n",
    "    model = Sequential()\n",
    "    \n",
    "    for layer in pretrained_model.layers:\n",
    "        model.add(layer)\n",
    "    \n",
    "    # freezing vgg16 layers\n",
    "    if fine_tune > 0:\n",
    "        for layer in model.layers[:-fine_tune]:\n",
    "            layer.trainable = False\n",
    "    elif fine_tune == 'all':\n",
    "        pass\n",
    "    else:\n",
    "        for layer in model.layers:\n",
    "            layer.trainable = False\n",
    "    # building dense layer\n",
    "    model.add(Flatten())\n",
    "    model.add(BatchNormalization())\n",
    "    model.add(Dense(500,activation='relu'))\n",
    "    model.add(Dropout(0.8))\n",
    "#     model.add(Dense(500, activation='relu'))\n",
    "#     model.add(Dropout(0.6))\n",
    "#     model.add(Dense(50, activation='relu'))\n",
    "#     model.add(Dropout(0.3))\n",
    "    model.add(Dense(10, activation='relu'))\n",
    "    model.add(Dropout(0.5))\n",
    "    model.add(Dense(2,activation='softmax'))\n",
    "    \n",
    "    opt = keras.optimizers.Adam(learning_rate=0.0001)\n",
    "    \n",
    "    model.compile(optimizer=opt,\n",
    "                  loss=\"sparse_categorical_crossentropy\",\n",
    "                  metrics=[\"accuracy\"])\n",
    "    \n",
    "    return model"
   ]
  },
  {
   "cell_type": "markdown",
   "metadata": {},
   "source": [
    "# Setting Callback"
   ]
  },
  {
   "cell_type": "code",
   "execution_count": 9,
   "metadata": {
    "execution": {
     "iopub.execute_input": "2022-12-21T00:53:54.285345Z",
     "iopub.status.busy": "2022-12-21T00:53:54.284789Z",
     "iopub.status.idle": "2022-12-21T00:53:54.543613Z",
     "shell.execute_reply": "2022-12-21T00:53:54.542532Z",
     "shell.execute_reply.started": "2022-12-21T00:53:54.285305Z"
    }
   },
   "outputs": [
    {
     "name": "stderr",
     "output_type": "stream",
     "text": [
      "2022-12-21 00:53:54.294111: I tensorflow/core/profiler/lib/profiler_session.cc:131] Profiler session initializing.\n",
      "2022-12-21 00:53:54.294149: I tensorflow/core/profiler/lib/profiler_session.cc:146] Profiler session started.\n",
      "2022-12-21 00:53:54.399120: I tensorflow/core/profiler/internal/gpu/cupti_tracer.cc:1614] Profiler found 2 GPUs\n",
      "2022-12-21 00:53:54.437490: I tensorflow/core/profiler/lib/profiler_session.cc:164] Profiler session tear down.\n",
      "2022-12-21 00:53:54.437653: I tensorflow/core/profiler/internal/gpu/cupti_tracer.cc:1748] CUPTI activity buffer flushed\n"
     ]
    }
   ],
   "source": [
    "# creating logs\n",
    "from tensorflow.keras.callbacks import TensorBoard, ModelCheckpoint\n",
    "\n",
    "\n",
    "LOG_NAME = \"logs/vgg16_1\"\n",
    "# !mkdir \"logs/\"\n",
    "tensorboard = TensorBoard(log_dir=LOG_NAME)\n",
    "\n",
    "# checkpoints\n",
    "CHECKPOINT_NAME = \"checkpoints/checkpoint_e{epoch:02d}_acc_{accuracy:.02f}_Va{val_accuracy:.02f}.h5\"\n",
    "checkpoint = ModelCheckpoint(CHECKPOINT_NAME, monitor='val_accuracy',\n",
    "                             verbose=1, save_best_only=True,\n",
    "                            mode='max')"
   ]
  },
  {
   "cell_type": "markdown",
   "metadata": {},
   "source": [
    "# Model Training"
   ]
  },
  {
   "cell_type": "code",
   "execution_count": 11,
   "metadata": {
    "execution": {
     "iopub.execute_input": "2022-12-21T00:54:48.742936Z",
     "iopub.status.busy": "2022-12-21T00:54:48.742565Z",
     "iopub.status.idle": "2022-12-21T00:54:53.218740Z",
     "shell.execute_reply": "2022-12-21T00:54:53.217694Z",
     "shell.execute_reply.started": "2022-12-21T00:54:48.742903Z"
    }
   },
   "outputs": [
    {
     "name": "stderr",
     "output_type": "stream",
     "text": [
      "2022-12-21 00:54:48.791530: I tensorflow/stream_executor/cuda/cuda_gpu_executor.cc:937] successful NUMA node read from SysFS had negative value (-1), but there must be at least one NUMA node, so returning NUMA node zero\n",
      "2022-12-21 00:54:48.797090: I tensorflow/stream_executor/cuda/cuda_gpu_executor.cc:937] successful NUMA node read from SysFS had negative value (-1), but there must be at least one NUMA node, so returning NUMA node zero\n",
      "2022-12-21 00:54:48.943932: I tensorflow/stream_executor/cuda/cuda_gpu_executor.cc:937] successful NUMA node read from SysFS had negative value (-1), but there must be at least one NUMA node, so returning NUMA node zero\n",
      "2022-12-21 00:54:48.944973: I tensorflow/stream_executor/cuda/cuda_gpu_executor.cc:937] successful NUMA node read from SysFS had negative value (-1), but there must be at least one NUMA node, so returning NUMA node zero\n",
      "2022-12-21 00:54:48.945872: I tensorflow/stream_executor/cuda/cuda_gpu_executor.cc:937] successful NUMA node read from SysFS had negative value (-1), but there must be at least one NUMA node, so returning NUMA node zero\n",
      "2022-12-21 00:54:48.946724: I tensorflow/stream_executor/cuda/cuda_gpu_executor.cc:937] successful NUMA node read from SysFS had negative value (-1), but there must be at least one NUMA node, so returning NUMA node zero\n",
      "2022-12-21 00:54:48.948199: I tensorflow/core/platform/cpu_feature_guard.cc:142] This TensorFlow binary is optimized with oneAPI Deep Neural Network Library (oneDNN) to use the following CPU instructions in performance-critical operations:  AVX2 AVX512F FMA\n",
      "To enable them in other operations, rebuild TensorFlow with the appropriate compiler flags.\n",
      "2022-12-21 00:54:49.207394: I tensorflow/stream_executor/cuda/cuda_gpu_executor.cc:937] successful NUMA node read from SysFS had negative value (-1), but there must be at least one NUMA node, so returning NUMA node zero\n",
      "2022-12-21 00:54:49.208355: I tensorflow/stream_executor/cuda/cuda_gpu_executor.cc:937] successful NUMA node read from SysFS had negative value (-1), but there must be at least one NUMA node, so returning NUMA node zero\n",
      "2022-12-21 00:54:49.209161: I tensorflow/stream_executor/cuda/cuda_gpu_executor.cc:937] successful NUMA node read from SysFS had negative value (-1), but there must be at least one NUMA node, so returning NUMA node zero\n",
      "2022-12-21 00:54:49.209913: I tensorflow/stream_executor/cuda/cuda_gpu_executor.cc:937] successful NUMA node read from SysFS had negative value (-1), but there must be at least one NUMA node, so returning NUMA node zero\n",
      "2022-12-21 00:54:49.210710: I tensorflow/stream_executor/cuda/cuda_gpu_executor.cc:937] successful NUMA node read from SysFS had negative value (-1), but there must be at least one NUMA node, so returning NUMA node zero\n",
      "2022-12-21 00:54:49.211617: I tensorflow/stream_executor/cuda/cuda_gpu_executor.cc:937] successful NUMA node read from SysFS had negative value (-1), but there must be at least one NUMA node, so returning NUMA node zero\n",
      "2022-12-21 00:54:52.119583: I tensorflow/stream_executor/cuda/cuda_gpu_executor.cc:937] successful NUMA node read from SysFS had negative value (-1), but there must be at least one NUMA node, so returning NUMA node zero\n",
      "2022-12-21 00:54:52.120495: I tensorflow/stream_executor/cuda/cuda_gpu_executor.cc:937] successful NUMA node read from SysFS had negative value (-1), but there must be at least one NUMA node, so returning NUMA node zero\n",
      "2022-12-21 00:54:52.121315: I tensorflow/stream_executor/cuda/cuda_gpu_executor.cc:937] successful NUMA node read from SysFS had negative value (-1), but there must be at least one NUMA node, so returning NUMA node zero\n",
      "2022-12-21 00:54:52.122087: I tensorflow/stream_executor/cuda/cuda_gpu_executor.cc:937] successful NUMA node read from SysFS had negative value (-1), but there must be at least one NUMA node, so returning NUMA node zero\n",
      "2022-12-21 00:54:52.122839: I tensorflow/stream_executor/cuda/cuda_gpu_executor.cc:937] successful NUMA node read from SysFS had negative value (-1), but there must be at least one NUMA node, so returning NUMA node zero\n",
      "2022-12-21 00:54:52.123511: I tensorflow/core/common_runtime/gpu/gpu_device.cc:1510] Created device /job:localhost/replica:0/task:0/device:GPU:0 with 13789 MB memory:  -> device: 0, name: Tesla T4, pci bus id: 0000:00:04.0, compute capability: 7.5\n",
      "2022-12-21 00:54:52.126824: I tensorflow/stream_executor/cuda/cuda_gpu_executor.cc:937] successful NUMA node read from SysFS had negative value (-1), but there must be at least one NUMA node, so returning NUMA node zero\n",
      "2022-12-21 00:54:52.127493: I tensorflow/core/common_runtime/gpu/gpu_device.cc:1510] Created device /job:localhost/replica:0/task:0/device:GPU:1 with 13789 MB memory:  -> device: 1, name: Tesla T4, pci bus id: 0000:00:05.0, compute capability: 7.5\n"
     ]
    },
    {
     "name": "stdout",
     "output_type": "stream",
     "text": [
      "Downloading data from https://storage.googleapis.com/tensorflow/keras-applications/vgg16/vgg16_weights_tf_dim_ordering_tf_kernels_notop.h5\n",
      "58892288/58889256 [==============================] - 0s 0us/step\n",
      "58900480/58889256 [==============================] - 0s 0us/step\n"
     ]
    }
   ],
   "source": [
    "model = Model_vgg((128, 128, 3))"
   ]
  },
  {
   "cell_type": "code",
   "execution_count": 12,
   "metadata": {
    "execution": {
     "iopub.execute_input": "2022-12-21T00:54:55.531756Z",
     "iopub.status.busy": "2022-12-21T00:54:55.531357Z",
     "iopub.status.idle": "2022-12-21T00:55:20.141933Z",
     "shell.execute_reply": "2022-12-21T00:55:20.140975Z",
     "shell.execute_reply.started": "2022-12-21T00:54:55.531720Z"
    }
   },
   "outputs": [
    {
     "name": "stderr",
     "output_type": "stream",
     "text": [
      "2022-12-21 00:54:56.499839: I tensorflow/compiler/mlir/mlir_graph_optimization_pass.cc:185] None of the MLIR Optimization Passes are enabled (registered 2)\n"
     ]
    },
    {
     "name": "stdout",
     "output_type": "stream",
     "text": [
      "Epoch 1/2\n"
     ]
    },
    {
     "name": "stderr",
     "output_type": "stream",
     "text": [
      "2022-12-21 00:54:59.546413: I tensorflow/stream_executor/cuda/cuda_dnn.cc:369] Loaded cuDNN version 8005\n"
     ]
    },
    {
     "name": "stdout",
     "output_type": "stream",
     "text": [
      "1/3 [=========>....................] - ETA: 22s - loss: 2.6463 - accuracy: 0.6111"
     ]
    },
    {
     "name": "stderr",
     "output_type": "stream",
     "text": [
      "2022-12-21 00:55:07.747336: I tensorflow/core/profiler/lib/profiler_session.cc:131] Profiler session initializing.\n",
      "2022-12-21 00:55:07.747373: I tensorflow/core/profiler/lib/profiler_session.cc:146] Profiler session started.\n"
     ]
    },
    {
     "name": "stdout",
     "output_type": "stream",
     "text": [
      "2/3 [===================>..........] - ETA: 5s - loss: 2.2269 - accuracy: 0.5976 "
     ]
    },
    {
     "name": "stderr",
     "output_type": "stream",
     "text": [
      "2022-12-21 00:55:12.749793: I tensorflow/core/profiler/lib/profiler_session.cc:66] Profiler session collecting data.\n",
      "2022-12-21 00:55:12.752204: I tensorflow/core/profiler/internal/gpu/cupti_tracer.cc:1748] CUPTI activity buffer flushed\n",
      "2022-12-21 00:55:12.910487: I tensorflow/core/profiler/internal/gpu/cupti_collector.cc:673]  GpuTracer has collected 2871 callback api events and 2390 activity events. \n",
      "2022-12-21 00:55:12.940844: I tensorflow/core/profiler/lib/profiler_session.cc:164] Profiler session tear down.\n"
     ]
    },
    {
     "name": "stdout",
     "output_type": "stream",
     "text": [
      "3/3 [==============================] - ETA: 0s - loss: 2.0245 - accuracy: 0.5685"
     ]
    },
    {
     "name": "stderr",
     "output_type": "stream",
     "text": [
      "2022-12-21 00:55:12.999870: I tensorflow/core/profiler/rpc/client/save_profile.cc:136] Creating directory: logs/vgg16_1/train/plugins/profile/2022_12_21_00_55_12\n",
      "\n",
      "2022-12-21 00:55:13.031670: I tensorflow/core/profiler/rpc/client/save_profile.cc:142] Dumped gzipped tool data for trace.json.gz to logs/vgg16_1/train/plugins/profile/2022_12_21_00_55_12/405d7b505796.trace.json.gz\n",
      "2022-12-21 00:55:13.070889: I tensorflow/core/profiler/rpc/client/save_profile.cc:136] Creating directory: logs/vgg16_1/train/plugins/profile/2022_12_21_00_55_12\n",
      "\n",
      "2022-12-21 00:55:13.074427: I tensorflow/core/profiler/rpc/client/save_profile.cc:142] Dumped gzipped tool data for memory_profile.json.gz to logs/vgg16_1/train/plugins/profile/2022_12_21_00_55_12/405d7b505796.memory_profile.json.gz\n",
      "2022-12-21 00:55:13.075552: I tensorflow/core/profiler/rpc/client/capture_profile.cc:251] Creating directory: logs/vgg16_1/train/plugins/profile/2022_12_21_00_55_12\n",
      "Dumped tool data for xplane.pb to logs/vgg16_1/train/plugins/profile/2022_12_21_00_55_12/405d7b505796.xplane.pb\n",
      "Dumped tool data for overview_page.pb to logs/vgg16_1/train/plugins/profile/2022_12_21_00_55_12/405d7b505796.overview_page.pb\n",
      "Dumped tool data for input_pipeline.pb to logs/vgg16_1/train/plugins/profile/2022_12_21_00_55_12/405d7b505796.input_pipeline.pb\n",
      "Dumped tool data for tensorflow_stats.pb to logs/vgg16_1/train/plugins/profile/2022_12_21_00_55_12/405d7b505796.tensorflow_stats.pb\n",
      "Dumped tool data for kernel_stats.pb to logs/vgg16_1/train/plugins/profile/2022_12_21_00_55_12/405d7b505796.kernel_stats.pb\n",
      "\n"
     ]
    },
    {
     "name": "stdout",
     "output_type": "stream",
     "text": [
      "3/3 [==============================] - 21s 5s/step - loss: 2.0245 - accuracy: 0.5685 - val_loss: 14.4435 - val_accuracy: 0.4390\n",
      "\n",
      "Epoch 00001: val_accuracy improved from -inf to 0.43902, saving model to checkpoints/checkpoint_e01_acc_0.57_Va0.44.h5\n",
      "Epoch 2/2\n",
      "3/3 [==============================] - 2s 572ms/step - loss: 2.2765 - accuracy: 0.5685 - val_loss: 15.1274 - val_accuracy: 0.4390\n",
      "\n",
      "Epoch 00002: val_accuracy did not improve from 0.43902\n",
      "<keras.callbacks.History object at 0x7f1e8f2bf190>\n"
     ]
    },
    {
     "data": {
      "image/png": "[encoded data removed]",
      "text/plain": [
       "<Figure size 432x288 with 1 Axes>"
      ]
     },
     "metadata": {
      "needs_background": "light"
     },
     "output_type": "display_data"
    }
   ],
   "source": [
    "hist = model.fit(train_generator,\n",
    "                steps_per_epoch = train_generator.samples // batch_size + 1,\n",
    "                validation_data = validation_generator,\n",
    "                validation_steps = validation_generator.samples // batch_size + 1,\n",
    "                verbose = 1,\n",
    "                epochs = 2,\n",
    "                callbacks=[tensorboard, checkpoint],\n",
    "                class_weight=class_weights)\n",
    "\n",
    "plot_history(hist)"
   ]
  },
  {
   "cell_type": "code",
   "execution_count": 15,
   "metadata": {
    "execution": {
     "iopub.execute_input": "2022-12-21T00:57:31.287987Z",
     "iopub.status.busy": "2022-12-21T00:57:31.287553Z",
     "iopub.status.idle": "2022-12-21T00:57:31.294699Z",
     "shell.execute_reply": "2022-12-21T00:57:31.293143Z",
     "shell.execute_reply.started": "2022-12-21T00:57:31.287947Z"
    }
   },
   "outputs": [
    {
     "name": "stdout",
     "output_type": "stream",
     "text": [
      "loss [2.0245344638824463, 2.2765071392059326]\n",
      "accuracy [0.568493127822876, 0.568493127822876]\n",
      "val_loss [14.443524360656738, 15.127426147460938]\n",
      "val_accuracy [0.4390243887901306, 0.4390243887901306]\n"
     ]
    }
   ],
   "source": [
    "for k,v in hist.history.items():\n",
    "    print(k,v)"
   ]
  },
  {
   "cell_type": "code",
   "execution_count": null,
   "metadata": {},
   "outputs": [],
   "source": []
  },
  {
   "cell_type": "code",
   "execution_count": 27,
   "metadata": {
    "execution": {
     "iopub.execute_input": "2022-12-20T06:02:33.430354Z",
     "iopub.status.busy": "2022-12-20T06:02:33.429176Z",
     "iopub.status.idle": "2022-12-20T06:03:38.466165Z",
     "shell.execute_reply": "2022-12-20T06:03:38.465186Z",
     "shell.execute_reply.started": "2022-12-20T06:02:33.430307Z"
    }
   },
   "outputs": [
    {
     "name": "stdout",
     "output_type": "stream",
     "text": [
      "Epoch 1/50\n",
      "1/2 [==============>...............] - ETA: 0s - loss: 0.7775 - accuracy: 0.6774"
     ]
    },
    {
     "name": "stderr",
     "output_type": "stream",
     "text": [
      "2022-12-20 06:02:34.566141: I tensorflow/core/profiler/lib/profiler_session.cc:131] Profiler session initializing.\n",
      "2022-12-20 06:02:34.566185: I tensorflow/core/profiler/lib/profiler_session.cc:146] Profiler session started.\n"
     ]
    },
    {
     "name": "stdout",
     "output_type": "stream",
     "text": [
      "2/2 [==============================] - ETA: 0s - loss: 0.6767 - accuracy: 0.7302"
     ]
    },
    {
     "name": "stderr",
     "output_type": "stream",
     "text": [
      "2022-12-20 06:02:35.119473: I tensorflow/core/profiler/lib/profiler_session.cc:66] Profiler session collecting data.\n",
      "2022-12-20 06:02:35.119900: I tensorflow/core/profiler/internal/gpu/cupti_tracer.cc:1748] CUPTI activity buffer flushed\n",
      "2022-12-20 06:02:35.272225: I tensorflow/core/profiler/internal/gpu/cupti_collector.cc:673]  GpuTracer has collected 186 callback api events and 183 activity events. \n",
      "2022-12-20 06:02:35.279006: I tensorflow/core/profiler/lib/profiler_session.cc:164] Profiler session tear down.\n",
      "2022-12-20 06:02:35.285443: I tensorflow/core/profiler/rpc/client/save_profile.cc:136] Creating directory: logs/vgg16_1/train/plugins/profile/2022_12_20_06_02_35\n",
      "\n",
      "2022-12-20 06:02:35.289907: I tensorflow/core/profiler/rpc/client/save_profile.cc:142] Dumped gzipped tool data for trace.json.gz to logs/vgg16_1/train/plugins/profile/2022_12_20_06_02_35/3033e1dad95e.trace.json.gz\n",
      "2022-12-20 06:02:35.299210: I tensorflow/core/profiler/rpc/client/save_profile.cc:136] Creating directory: logs/vgg16_1/train/plugins/profile/2022_12_20_06_02_35\n",
      "\n",
      "2022-12-20 06:02:35.301424: I tensorflow/core/profiler/rpc/client/save_profile.cc:142] Dumped gzipped tool data for memory_profile.json.gz to logs/vgg16_1/train/plugins/profile/2022_12_20_06_02_35/3033e1dad95e.memory_profile.json.gz\n",
      "2022-12-20 06:02:35.302242: I tensorflow/core/profiler/rpc/client/capture_profile.cc:251] Creating directory: logs/vgg16_1/train/plugins/profile/2022_12_20_06_02_35\n",
      "Dumped tool data for xplane.pb to logs/vgg16_1/train/plugins/profile/2022_12_20_06_02_35/3033e1dad95e.xplane.pb\n",
      "Dumped tool data for overview_page.pb to logs/vgg16_1/train/plugins/profile/2022_12_20_06_02_35/3033e1dad95e.overview_page.pb\n",
      "Dumped tool data for input_pipeline.pb to logs/vgg16_1/train/plugins/profile/2022_12_20_06_02_35/3033e1dad95e.input_pipeline.pb\n",
      "Dumped tool data for tensorflow_stats.pb to logs/vgg16_1/train/plugins/profile/2022_12_20_06_02_35/3033e1dad95e.tensorflow_stats.pb\n",
      "Dumped tool data for kernel_stats.pb to logs/vgg16_1/train/plugins/profile/2022_12_20_06_02_35/3033e1dad95e.kernel_stats.pb\n",
      "\n"
     ]
    },
    {
     "name": "stdout",
     "output_type": "stream",
     "text": [
      "2/2 [==============================] - 2s 1s/step - loss: 0.6767 - accuracy: 0.7302 - val_loss: 1.0035 - val_accuracy: 0.5000\n",
      "\n",
      "Epoch 00001: val_accuracy did not improve from 0.75000\n",
      "Epoch 2/50\n",
      "2/2 [==============================] - 1s 596ms/step - loss: 1.1010 - accuracy: 0.6825 - val_loss: 1.2392 - val_accuracy: 0.5000\n",
      "\n",
      "Epoch 00002: val_accuracy did not improve from 0.75000\n",
      "Epoch 3/50\n",
      "2/2 [==============================] - 1s 591ms/step - loss: 0.9935 - accuracy: 0.6270 - val_loss: 1.1723 - val_accuracy: 0.5500\n",
      "\n",
      "Epoch 00003: val_accuracy did not improve from 0.75000\n",
      "Epoch 4/50\n",
      "2/2 [==============================] - 1s 783ms/step - loss: 0.9466 - accuracy: 0.6587 - val_loss: 0.7518 - val_accuracy: 0.5500\n",
      "\n",
      "Epoch 00004: val_accuracy did not improve from 0.75000\n",
      "Epoch 5/50\n",
      "2/2 [==============================] - 1s 587ms/step - loss: 1.2570 - accuracy: 0.5952 - val_loss: 0.5975 - val_accuracy: 0.6000\n",
      "\n",
      "Epoch 00005: val_accuracy did not improve from 0.75000\n",
      "Epoch 6/50\n",
      "2/2 [==============================] - 1s 551ms/step - loss: 1.2020 - accuracy: 0.5794 - val_loss: 0.6263 - val_accuracy: 0.6000\n",
      "\n",
      "Epoch 00006: val_accuracy did not improve from 0.75000\n",
      "Epoch 7/50\n",
      "2/2 [==============================] - 1s 588ms/step - loss: 1.0850 - accuracy: 0.6111 - val_loss: 1.4293 - val_accuracy: 0.5000\n",
      "\n",
      "Epoch 00007: val_accuracy did not improve from 0.75000\n",
      "Epoch 8/50\n",
      "2/2 [==============================] - 1s 589ms/step - loss: 1.0043 - accuracy: 0.6508 - val_loss: 0.7946 - val_accuracy: 0.5500\n",
      "\n",
      "Epoch 00008: val_accuracy did not improve from 0.75000\n",
      "Epoch 9/50\n",
      "2/2 [==============================] - 1s 562ms/step - loss: 0.8915 - accuracy: 0.6190 - val_loss: 0.6667 - val_accuracy: 0.6000\n",
      "\n",
      "Epoch 00009: val_accuracy did not improve from 0.75000\n",
      "Epoch 10/50\n",
      "2/2 [==============================] - 1s 578ms/step - loss: 0.8809 - accuracy: 0.6429 - val_loss: 0.7171 - val_accuracy: 0.5000\n",
      "\n",
      "Epoch 00010: val_accuracy did not improve from 0.75000\n",
      "Epoch 11/50\n",
      "2/2 [==============================] - 1s 584ms/step - loss: 0.8935 - accuracy: 0.6746 - val_loss: 1.1736 - val_accuracy: 0.5000\n",
      "\n",
      "Epoch 00011: val_accuracy did not improve from 0.75000\n",
      "Epoch 12/50\n",
      "2/2 [==============================] - 1s 575ms/step - loss: 0.9539 - accuracy: 0.6111 - val_loss: 1.1242 - val_accuracy: 0.3500\n",
      "\n",
      "Epoch 00012: val_accuracy did not improve from 0.75000\n",
      "Epoch 13/50\n",
      "2/2 [==============================] - 1s 684ms/step - loss: 0.8802 - accuracy: 0.6349 - val_loss: 1.3069 - val_accuracy: 0.6500\n",
      "\n",
      "Epoch 00013: val_accuracy did not improve from 0.75000\n",
      "Epoch 14/50\n",
      "2/2 [==============================] - 1s 552ms/step - loss: 0.8026 - accuracy: 0.6825 - val_loss: 0.9053 - val_accuracy: 0.5000\n",
      "\n",
      "Epoch 00014: val_accuracy did not improve from 0.75000\n",
      "Epoch 15/50\n",
      "2/2 [==============================] - 1s 593ms/step - loss: 0.6815 - accuracy: 0.6984 - val_loss: 0.6253 - val_accuracy: 0.6500\n",
      "\n",
      "Epoch 00015: val_accuracy did not improve from 0.75000\n",
      "Epoch 16/50\n",
      "2/2 [==============================] - 1s 567ms/step - loss: 0.9144 - accuracy: 0.6349 - val_loss: 0.9078 - val_accuracy: 0.4000\n",
      "\n",
      "Epoch 00016: val_accuracy did not improve from 0.75000\n",
      "Epoch 17/50\n",
      "2/2 [==============================] - 1s 541ms/step - loss: 0.7343 - accuracy: 0.6905 - val_loss: 0.5859 - val_accuracy: 0.5500\n",
      "\n",
      "Epoch 00017: val_accuracy did not improve from 0.75000\n",
      "Epoch 18/50\n",
      "2/2 [==============================] - 1s 572ms/step - loss: 0.9937 - accuracy: 0.6587 - val_loss: 0.9472 - val_accuracy: 0.5500\n",
      "\n",
      "Epoch 00018: val_accuracy did not improve from 0.75000\n",
      "Epoch 19/50\n",
      "2/2 [==============================] - 1s 610ms/step - loss: 0.8666 - accuracy: 0.6825 - val_loss: 1.1350 - val_accuracy: 0.5000\n",
      "\n",
      "Epoch 00019: val_accuracy did not improve from 0.75000\n",
      "Epoch 20/50\n",
      "2/2 [==============================] - 1s 661ms/step - loss: 0.6654 - accuracy: 0.6905 - val_loss: 0.6417 - val_accuracy: 0.6000\n",
      "\n",
      "Epoch 00020: val_accuracy did not improve from 0.75000\n",
      "Epoch 21/50\n",
      "2/2 [==============================] - 1s 688ms/step - loss: 1.1237 - accuracy: 0.5952 - val_loss: 1.1387 - val_accuracy: 0.5000\n",
      "\n",
      "Epoch 00021: val_accuracy did not improve from 0.75000\n",
      "Epoch 22/50\n",
      "2/2 [==============================] - 1s 619ms/step - loss: 0.7921 - accuracy: 0.6349 - val_loss: 0.9011 - val_accuracy: 0.6500\n",
      "\n",
      "Epoch 00022: val_accuracy did not improve from 0.75000\n",
      "Epoch 23/50\n",
      "2/2 [==============================] - 1s 592ms/step - loss: 0.7223 - accuracy: 0.6984 - val_loss: 0.8910 - val_accuracy: 0.5500\n",
      "\n",
      "Epoch 00023: val_accuracy did not improve from 0.75000\n",
      "Epoch 24/50\n",
      "2/2 [==============================] - 1s 559ms/step - loss: 0.7370 - accuracy: 0.7381 - val_loss: 0.7121 - val_accuracy: 0.7000\n",
      "\n",
      "Epoch 00024: val_accuracy did not improve from 0.75000\n",
      "Epoch 25/50\n",
      "2/2 [==============================] - 1s 607ms/step - loss: 0.7882 - accuracy: 0.6508 - val_loss: 0.7941 - val_accuracy: 0.5500\n",
      "\n",
      "Epoch 00025: val_accuracy did not improve from 0.75000\n",
      "Epoch 26/50\n",
      "2/2 [==============================] - 1s 553ms/step - loss: 1.0039 - accuracy: 0.6746 - val_loss: 0.8435 - val_accuracy: 0.4500\n",
      "\n",
      "Epoch 00026: val_accuracy did not improve from 0.75000\n",
      "Epoch 27/50\n",
      "2/2 [==============================] - 1s 583ms/step - loss: 0.8689 - accuracy: 0.6905 - val_loss: 0.5241 - val_accuracy: 0.6000\n",
      "\n",
      "Epoch 00027: val_accuracy did not improve from 0.75000\n",
      "Epoch 28/50\n",
      "2/2 [==============================] - 1s 715ms/step - loss: 0.8619 - accuracy: 0.6825 - val_loss: 0.7293 - val_accuracy: 0.6500\n",
      "\n",
      "Epoch 00028: val_accuracy did not improve from 0.75000\n",
      "Epoch 29/50\n",
      "2/2 [==============================] - 1s 552ms/step - loss: 0.6774 - accuracy: 0.7063 - val_loss: 1.4364 - val_accuracy: 0.5500\n",
      "\n",
      "Epoch 00029: val_accuracy did not improve from 0.75000\n",
      "Epoch 30/50\n",
      "2/2 [==============================] - 1s 681ms/step - loss: 0.6186 - accuracy: 0.7063 - val_loss: 0.8309 - val_accuracy: 0.5000\n",
      "\n",
      "Epoch 00030: val_accuracy did not improve from 0.75000\n",
      "Epoch 31/50\n",
      "2/2 [==============================] - 1s 570ms/step - loss: 0.7184 - accuracy: 0.7143 - val_loss: 0.5397 - val_accuracy: 0.6500\n",
      "\n",
      "Epoch 00031: val_accuracy did not improve from 0.75000\n",
      "Epoch 32/50\n",
      "2/2 [==============================] - 1s 535ms/step - loss: 0.8009 - accuracy: 0.6825 - val_loss: 0.8661 - val_accuracy: 0.6000\n",
      "\n",
      "Epoch 00032: val_accuracy did not improve from 0.75000\n",
      "Epoch 33/50\n",
      "2/2 [==============================] - 1s 574ms/step - loss: 0.7424 - accuracy: 0.7063 - val_loss: 0.9171 - val_accuracy: 0.5500\n",
      "\n",
      "Epoch 00033: val_accuracy did not improve from 0.75000\n",
      "Epoch 34/50\n",
      "2/2 [==============================] - 1s 586ms/step - loss: 0.8364 - accuracy: 0.7063 - val_loss: 0.5928 - val_accuracy: 0.6000\n",
      "\n",
      "Epoch 00034: val_accuracy did not improve from 0.75000\n",
      "Epoch 35/50\n",
      "2/2 [==============================] - 1s 575ms/step - loss: 0.7606 - accuracy: 0.7063 - val_loss: 1.1634 - val_accuracy: 0.6000\n",
      "\n",
      "Epoch 00035: val_accuracy did not improve from 0.75000\n",
      "Epoch 36/50\n",
      "2/2 [==============================] - 1s 556ms/step - loss: 0.8416 - accuracy: 0.6825 - val_loss: 0.7759 - val_accuracy: 0.6500\n",
      "\n",
      "Epoch 00036: val_accuracy did not improve from 0.75000\n",
      "Epoch 37/50\n",
      "2/2 [==============================] - 1s 590ms/step - loss: 0.8996 - accuracy: 0.6587 - val_loss: 0.7926 - val_accuracy: 0.5500\n",
      "\n",
      "Epoch 00037: val_accuracy did not improve from 0.75000\n",
      "Epoch 38/50\n",
      "2/2 [==============================] - 1s 574ms/step - loss: 0.4435 - accuracy: 0.7857 - val_loss: 1.5409 - val_accuracy: 0.4500\n",
      "\n",
      "Epoch 00038: val_accuracy did not improve from 0.75000\n",
      "Epoch 39/50\n",
      "2/2 [==============================] - 1s 569ms/step - loss: 0.7097 - accuracy: 0.6587 - val_loss: 1.0767 - val_accuracy: 0.5000\n",
      "\n",
      "Epoch 00039: val_accuracy did not improve from 0.75000\n",
      "Epoch 40/50\n",
      "2/2 [==============================] - 1s 799ms/step - loss: 0.7086 - accuracy: 0.6905 - val_loss: 0.8458 - val_accuracy: 0.5000\n",
      "\n",
      "Epoch 00040: val_accuracy did not improve from 0.75000\n",
      "Epoch 41/50\n",
      "2/2 [==============================] - 1s 582ms/step - loss: 0.7415 - accuracy: 0.6984 - val_loss: 0.6873 - val_accuracy: 0.5500\n",
      "\n",
      "Epoch 00041: val_accuracy did not improve from 0.75000\n",
      "Epoch 42/50\n",
      "2/2 [==============================] - 1s 745ms/step - loss: 0.9523 - accuracy: 0.6190 - val_loss: 1.0074 - val_accuracy: 0.6000\n",
      "\n",
      "Epoch 00042: val_accuracy did not improve from 0.75000\n",
      "Epoch 43/50\n",
      "2/2 [==============================] - 1s 583ms/step - loss: 0.6899 - accuracy: 0.7222 - val_loss: 1.0006 - val_accuracy: 0.4500\n",
      "\n",
      "Epoch 00043: val_accuracy did not improve from 0.75000\n",
      "Epoch 44/50\n",
      "2/2 [==============================] - 1s 583ms/step - loss: 0.9432 - accuracy: 0.6587 - val_loss: 0.6068 - val_accuracy: 0.5500\n",
      "\n",
      "Epoch 00044: val_accuracy did not improve from 0.75000\n",
      "Epoch 45/50\n",
      "2/2 [==============================] - 1s 769ms/step - loss: 0.6036 - accuracy: 0.7540 - val_loss: 1.0682 - val_accuracy: 0.4500\n",
      "\n",
      "Epoch 00045: val_accuracy did not improve from 0.75000\n",
      "Epoch 46/50\n",
      "2/2 [==============================] - 1s 711ms/step - loss: 0.7431 - accuracy: 0.6984 - val_loss: 0.8903 - val_accuracy: 0.6500\n",
      "\n",
      "Epoch 00046: val_accuracy did not improve from 0.75000\n",
      "Epoch 47/50\n",
      "2/2 [==============================] - 1s 682ms/step - loss: 0.5754 - accuracy: 0.7619 - val_loss: 1.0389 - val_accuracy: 0.6500\n",
      "\n",
      "Epoch 00047: val_accuracy did not improve from 0.75000\n",
      "Epoch 48/50\n",
      "2/2 [==============================] - 1s 562ms/step - loss: 0.7606 - accuracy: 0.6825 - val_loss: 0.6828 - val_accuracy: 0.5000\n",
      "\n",
      "Epoch 00048: val_accuracy did not improve from 0.75000\n",
      "Epoch 49/50\n",
      "2/2 [==============================] - 1s 580ms/step - loss: 0.8542 - accuracy: 0.6905 - val_loss: 0.7273 - val_accuracy: 0.6000\n",
      "\n",
      "Epoch 00049: val_accuracy did not improve from 0.75000\n",
      "Epoch 50/50\n",
      "2/2 [==============================] - 1s 560ms/step - loss: 0.9029 - accuracy: 0.6905 - val_loss: 1.0540 - val_accuracy: 0.5000\n",
      "\n",
      "Epoch 00050: val_accuracy did not improve from 0.75000\n"
     ]
    },
    {
     "data": {
      "image/png": "[encoded data removed]",
      "text/plain": [
       "<Figure size 432x288 with 1 Axes>"
      ]
     },
     "metadata": {
      "needs_background": "light"
     },
     "output_type": "display_data"
    }
   ],
   "source": [
    "hist = model.fit(train_generator,\n",
    "                steps_per_epoch = train_generator.samples // batch_size + 1,\n",
    "                validation_data = validation_generator,\n",
    "                validation_steps = validation_generator.samples // batch_size + 1,\n",
    "                verbose = 1,\n",
    "                epochs = 50,\n",
    "                callbacks=[tensorboard, checkpoint],\n",
    "                class_weight=class_weights)\n",
    "plot_history(hist)"
   ]
  },
  {
   "cell_type": "markdown",
   "metadata": {},
   "source": [
    "# Using VGGFace2 Pretrained Model"
   ]
  },
  {
   "cell_type": "code",
   "execution_count": 13,
   "metadata": {
    "execution": {
     "iopub.execute_input": "2022-12-20T09:04:16.133591Z",
     "iopub.status.busy": "2022-12-20T09:04:16.132605Z",
     "iopub.status.idle": "2022-12-20T09:04:41.673451Z",
     "shell.execute_reply": "2022-12-20T09:04:41.672209Z",
     "shell.execute_reply.started": "2022-12-20T09:04:16.133552Z"
    }
   },
   "outputs": [
    {
     "name": "stdout",
     "output_type": "stream",
     "text": [
      "\u001b[33mWARNING: Running pip as the 'root' user can result in broken permissions and conflicting behaviour with the system package manager. It is recommended to use a virtual environment instead: https://pip.pypa.io/warnings/venv\u001b[0m\u001b[33m\n",
      "\u001b[0mName: keras-vggface\n",
      "Version: 0.6\n",
      "Summary: VGGFace implementation with Keras framework\n",
      "Home-page: https://github.com/rcmalli/keras-vggface\n",
      "Author: Refik Can MALLI\n",
      "Author-email: mallir@itu.edu.tr\n",
      "License: MIT\n",
      "Location: /opt/conda/lib/python3.7/site-packages\n",
      "Requires: h5py, keras, numpy, pillow, pyyaml, scipy, six\n",
      "Required-by: \n"
     ]
    }
   ],
   "source": [
    "!pip install git+https://github.com/yaledhlab/vggface.git -q\n",
    "!pip show keras_vggface"
   ]
  },
  {
   "cell_type": "code",
   "execution_count": 14,
   "metadata": {
    "execution": {
     "iopub.execute_input": "2022-12-20T09:04:41.676848Z",
     "iopub.status.busy": "2022-12-20T09:04:41.676058Z",
     "iopub.status.idle": "2022-12-20T09:04:51.484000Z",
     "shell.execute_reply": "2022-12-20T09:04:51.482696Z",
     "shell.execute_reply.started": "2022-12-20T09:04:41.676803Z"
    }
   },
   "outputs": [
    {
     "name": "stdout",
     "output_type": "stream",
     "text": [
      "\u001b[33mWARNING: Running pip as the 'root' user can result in broken permissions and conflicting behaviour with the system package manager. It is recommended to use a virtual environment instead: https://pip.pypa.io/warnings/venv\u001b[0m\u001b[33m\n",
      "\u001b[0m"
     ]
    }
   ],
   "source": [
    "!pip install keras_applications -q"
   ]
  },
  {
   "cell_type": "code",
   "execution_count": 32,
   "metadata": {
    "execution": {
     "iopub.execute_input": "2022-12-20T09:13:26.493328Z",
     "iopub.status.busy": "2022-12-20T09:13:26.492923Z",
     "iopub.status.idle": "2022-12-20T09:13:26.709679Z",
     "shell.execute_reply": "2022-12-20T09:13:26.708702Z",
     "shell.execute_reply.started": "2022-12-20T09:13:26.493292Z"
    }
   },
   "outputs": [
    {
     "name": "stdout",
     "output_type": "stream",
     "text": [
      "Found 146 images belonging to 2 classes.\n",
      "Found 41 images belonging to 2 classes.\n"
     ]
    },
    {
     "data": {
      "text/plain": [
       "(146, 41)"
      ]
     },
     "execution_count": 32,
     "metadata": {},
     "output_type": "execute_result"
    }
   ],
   "source": [
    "data_generator = ImageDataGenerator(\n",
    "    horizontal_flip=True,\n",
    "    rescale=1.2,\n",
    "    rotation_range= 15, #-10 degree - 10 degree\n",
    "    width_shift_range = 0.2,\n",
    "    height_shift_range = 0.2,\n",
    "    brightness_range=[0.4,1.5],\n",
    "    zoom_range=0.2\n",
    "    \n",
    ")\n",
    "\n",
    "batch_size = 40\n",
    "\n",
    "train_generator = data_generator.flow_from_directory(\n",
    "    directory= TRAIN_DIR,\n",
    "    target_size=(224, 224),\n",
    "    color_mode=\"rgb\",\n",
    "    batch_size=batch_size,\n",
    "    class_mode=\"sparse\",\n",
    "    shuffle=True,\n",
    "    seed=42\n",
    ")\n",
    "\n",
    "\n",
    "\n",
    "validation_generator= data_generator.flow_from_directory(\n",
    "    directory= VAL_DIR,\n",
    "    target_size=(224, 224),\n",
    "    color_mode=\"rgb\",\n",
    "    batch_size=batch_size,\n",
    "    class_mode=\"sparse\",\n",
    "    shuffle=False,\n",
    "    seed=42\n",
    ")\n",
    "\n",
    "train_generator.samples, validation_generator.samples"
   ]
  },
  {
   "cell_type": "code",
   "execution_count": 36,
   "metadata": {
    "execution": {
     "iopub.execute_input": "2022-12-20T09:15:17.652804Z",
     "iopub.status.busy": "2022-12-20T09:15:17.652392Z",
     "iopub.status.idle": "2022-12-20T09:15:17.662992Z",
     "shell.execute_reply": "2022-12-20T09:15:17.661726Z",
     "shell.execute_reply.started": "2022-12-20T09:15:17.652768Z"
    }
   },
   "outputs": [],
   "source": [
    "from keras_vggface.vggface import VGGFace\n",
    "\n",
    "def VGGFace_Custome(model_n=\"resnet50\", fine_tune=0):\n",
    "    vggface = VGGFace(model=model_n, include_top=False, input_shape=(224, 224, 3), pooling='avg')\n",
    "    model = Sequential()\n",
    "\n",
    "    model.add(vggface)\n",
    "    \n",
    "    # freezing vgg16 layers\n",
    "    if fine_tune > 0:\n",
    "        for layer in model.layers[:-fine_tune]:\n",
    "            layer.trainable = False\n",
    "    else:\n",
    "        for layer in model.layers:\n",
    "            layer.trainable = False\n",
    "    \n",
    "    # building dense layer\n",
    "    model.add(Flatten())\n",
    "    model.add(Dense(500, activation='relu'))\n",
    "    model.add(Dropout(0.6))\n",
    "    \n",
    "    model.add(Dense(50, activation='relu'))\n",
    "    model.add(Dropout(0.4))\n",
    "\n",
    "    model.add(Dense(2,activation='softmax'))\n",
    "    \n",
    "#     lr_schedule = keras.optimizers.schedules.ExponentialDecay(\n",
    "#     initial_learning_rate=1e-2,\n",
    "#     decay_steps=10,\n",
    "#     decay_rate=0.1)\n",
    "\n",
    "#     opt = keras.optimizers.Adam(learning_rate=lr_schedule)\n",
    "    \n",
    "    model.compile(optimizer='Adam',loss='sparse_categorical_crossentropy',metrics=['accuracy'])\n",
    "    \n",
    "    return model\n",
    "\n"
   ]
  },
  {
   "cell_type": "code",
   "execution_count": 37,
   "metadata": {
    "execution": {
     "iopub.execute_input": "2022-12-20T09:15:18.586753Z",
     "iopub.status.busy": "2022-12-20T09:15:18.585687Z",
     "iopub.status.idle": "2022-12-20T09:15:19.995574Z",
     "shell.execute_reply": "2022-12-20T09:15:19.994507Z",
     "shell.execute_reply.started": "2022-12-20T09:15:18.586707Z"
    }
   },
   "outputs": [],
   "source": [
    "vggface_model = VGGFace_Custome()"
   ]
  },
  {
   "cell_type": "code",
   "execution_count": 44,
   "metadata": {
    "execution": {
     "iopub.execute_input": "2022-12-20T09:20:40.546358Z",
     "iopub.status.busy": "2022-12-20T09:20:40.545952Z",
     "iopub.status.idle": "2022-12-20T09:22:07.330407Z",
     "shell.execute_reply": "2022-12-20T09:22:07.329371Z",
     "shell.execute_reply.started": "2022-12-20T09:20:40.546323Z"
    }
   },
   "outputs": [
    {
     "name": "stderr",
     "output_type": "stream",
     "text": [
      "/opt/conda/lib/python3.7/site-packages/keras/utils/generic_utils.py:497: CustomMaskWarning: Custom mask layers require a config and must override get_config. When loading, the custom mask layer must be passed to the custom_objects argument.\n",
      "  category=CustomMaskWarning)\n"
     ]
    },
    {
     "name": "stdout",
     "output_type": "stream",
     "text": [
      "Epoch 1/25\n",
      "1/3 [=========>....................] - ETA: 1s - loss: 0.4364 - accuracy: 0.9000"
     ]
    },
    {
     "name": "stderr",
     "output_type": "stream",
     "text": [
      "2022-12-20 09:20:42.025526: I tensorflow/core/profiler/lib/profiler_session.cc:131] Profiler session initializing.\n",
      "2022-12-20 09:20:42.026295: I tensorflow/core/profiler/lib/profiler_session.cc:146] Profiler session started.\n"
     ]
    },
    {
     "name": "stdout",
     "output_type": "stream",
     "text": [
      "2/3 [===================>..........] - ETA: 0s - loss: 0.3242 - accuracy: 0.9125"
     ]
    },
    {
     "name": "stderr",
     "output_type": "stream",
     "text": [
      "2022-12-20 09:20:43.112963: I tensorflow/core/profiler/lib/profiler_session.cc:66] Profiler session collecting data.\n",
      "2022-12-20 09:20:43.114002: I tensorflow/core/profiler/internal/gpu/cupti_tracer.cc:1748] CUPTI activity buffer flushed\n",
      "2022-12-20 09:20:43.293260: I tensorflow/core/profiler/internal/gpu/cupti_collector.cc:673]  GpuTracer has collected 363 callback api events and 360 activity events. \n",
      "2022-12-20 09:20:43.310686: I tensorflow/core/profiler/lib/profiler_session.cc:164] Profiler session tear down.\n",
      "2022-12-20 09:20:43.331535: I tensorflow/core/profiler/rpc/client/save_profile.cc:136] Creating directory: logs/vgg16_1/train/plugins/profile/2022_12_20_09_20_43\n",
      "\n",
      "2022-12-20 09:20:43.342198: I tensorflow/core/profiler/rpc/client/save_profile.cc:142] Dumped gzipped tool data for trace.json.gz to logs/vgg16_1/train/plugins/profile/2022_12_20_09_20_43/3d0ef650bd6d.trace.json.gz\n",
      "2022-12-20 09:20:43.390632: I tensorflow/core/profiler/rpc/client/save_profile.cc:136] Creating directory: logs/vgg16_1/train/plugins/profile/2022_12_20_09_20_43\n",
      "\n",
      "2022-12-20 09:20:43.399135: I tensorflow/core/profiler/rpc/client/save_profile.cc:142] Dumped gzipped tool data for memory_profile.json.gz to logs/vgg16_1/train/plugins/profile/2022_12_20_09_20_43/3d0ef650bd6d.memory_profile.json.gz\n",
      "2022-12-20 09:20:43.400626: I tensorflow/core/profiler/rpc/client/capture_profile.cc:251] Creating directory: logs/vgg16_1/train/plugins/profile/2022_12_20_09_20_43\n",
      "Dumped tool data for xplane.pb to logs/vgg16_1/train/plugins/profile/2022_12_20_09_20_43/3d0ef650bd6d.xplane.pb\n",
      "Dumped tool data for overview_page.pb to logs/vgg16_1/train/plugins/profile/2022_12_20_09_20_43/3d0ef650bd6d.overview_page.pb\n",
      "Dumped tool data for input_pipeline.pb to logs/vgg16_1/train/plugins/profile/2022_12_20_09_20_43/3d0ef650bd6d.input_pipeline.pb\n",
      "Dumped tool data for tensorflow_stats.pb to logs/vgg16_1/train/plugins/profile/2022_12_20_09_20_43/3d0ef650bd6d.tensorflow_stats.pb\n",
      "Dumped tool data for kernel_stats.pb to logs/vgg16_1/train/plugins/profile/2022_12_20_09_20_43/3d0ef650bd6d.kernel_stats.pb\n",
      "\n"
     ]
    },
    {
     "name": "stdout",
     "output_type": "stream",
     "text": [
      "3/3 [==============================] - 4s 2s/step - loss: 0.3583 - accuracy: 0.9057 - val_loss: 0.6158 - val_accuracy: 0.6500\n",
      "\n",
      "Epoch 00001: val_accuracy did not improve from 0.85000\n",
      "Epoch 2/25\n",
      "3/3 [==============================] - 3s 1s/step - loss: 0.3053 - accuracy: 0.8750 - val_loss: 0.5340 - val_accuracy: 0.7000\n",
      "\n",
      "Epoch 00002: val_accuracy did not improve from 0.85000\n",
      "Epoch 3/25\n",
      "3/3 [==============================] - 3s 1s/step - loss: 0.3232 - accuracy: 0.8774 - val_loss: 0.5621 - val_accuracy: 0.7000\n",
      "\n",
      "Epoch 00003: val_accuracy did not improve from 0.85000\n",
      "Epoch 4/25\n",
      "3/3 [==============================] - 3s 1s/step - loss: 0.2135 - accuracy: 0.9340 - val_loss: 0.6413 - val_accuracy: 0.7000\n",
      "\n",
      "Epoch 00004: val_accuracy did not improve from 0.85000\n",
      "Epoch 5/25\n",
      "3/3 [==============================] - 3s 1s/step - loss: 0.4092 - accuracy: 0.8868 - val_loss: 0.5872 - val_accuracy: 0.6750\n",
      "\n",
      "Epoch 00005: val_accuracy did not improve from 0.85000\n",
      "Epoch 6/25\n",
      "3/3 [==============================] - 3s 1s/step - loss: 0.2453 - accuracy: 0.8962 - val_loss: 0.3379 - val_accuracy: 0.8000\n",
      "\n",
      "Epoch 00006: val_accuracy did not improve from 0.85000\n",
      "Epoch 7/25\n",
      "3/3 [==============================] - 3s 996ms/step - loss: 0.2746 - accuracy: 0.8774 - val_loss: 0.5194 - val_accuracy: 0.8000\n",
      "\n",
      "Epoch 00007: val_accuracy did not improve from 0.85000\n",
      "Epoch 8/25\n",
      "3/3 [==============================] - 3s 921ms/step - loss: 0.2460 - accuracy: 0.8962 - val_loss: 0.3983 - val_accuracy: 0.8000\n",
      "\n",
      "Epoch 00008: val_accuracy did not improve from 0.85000\n",
      "Epoch 9/25\n",
      "3/3 [==============================] - 3s 1s/step - loss: 0.2936 - accuracy: 0.9245 - val_loss: 0.5320 - val_accuracy: 0.8500\n",
      "\n",
      "Epoch 00009: val_accuracy did not improve from 0.85000\n",
      "Epoch 10/25\n",
      "3/3 [==============================] - 3s 1s/step - loss: 0.1570 - accuracy: 0.9340 - val_loss: 0.5724 - val_accuracy: 0.7250\n",
      "\n",
      "Epoch 00010: val_accuracy did not improve from 0.85000\n",
      "Epoch 11/25\n",
      "3/3 [==============================] - 3s 1s/step - loss: 0.0785 - accuracy: 0.9434 - val_loss: 0.4985 - val_accuracy: 0.7250\n",
      "\n",
      "Epoch 00011: val_accuracy did not improve from 0.85000\n",
      "Epoch 12/25\n",
      "3/3 [==============================] - 2s 917ms/step - loss: 0.2428 - accuracy: 0.9151 - val_loss: 0.4562 - val_accuracy: 0.8250\n",
      "\n",
      "Epoch 00012: val_accuracy did not improve from 0.85000\n",
      "Epoch 13/25\n",
      "3/3 [==============================] - 3s 1s/step - loss: 0.1643 - accuracy: 0.9717 - val_loss: 0.4282 - val_accuracy: 0.9000\n",
      "\n",
      "Epoch 00013: val_accuracy improved from 0.85000 to 0.90000, saving model to checkpoints/checkpoint_e13_Va0.90.h5\n",
      "Epoch 14/25\n",
      "3/3 [==============================] - 3s 1s/step - loss: 0.1525 - accuracy: 0.9528 - val_loss: 0.5106 - val_accuracy: 0.8000\n",
      "\n",
      "Epoch 00014: val_accuracy did not improve from 0.90000\n",
      "Epoch 15/25\n",
      "3/3 [==============================] - 3s 1s/step - loss: 0.1851 - accuracy: 0.9340 - val_loss: 0.3387 - val_accuracy: 0.8250\n",
      "\n",
      "Epoch 00015: val_accuracy did not improve from 0.90000\n",
      "Epoch 16/25\n",
      "3/3 [==============================] - 3s 1s/step - loss: 0.1544 - accuracy: 0.9623 - val_loss: 0.8381 - val_accuracy: 0.7500\n",
      "\n",
      "Epoch 00016: val_accuracy did not improve from 0.90000\n",
      "Epoch 17/25\n",
      "3/3 [==============================] - 3s 1s/step - loss: 0.3279 - accuracy: 0.9057 - val_loss: 0.7463 - val_accuracy: 0.6750\n",
      "\n",
      "Epoch 00017: val_accuracy did not improve from 0.90000\n",
      "Epoch 18/25\n",
      "3/3 [==============================] - 3s 1s/step - loss: 0.1331 - accuracy: 0.9500 - val_loss: 0.7476 - val_accuracy: 0.6500\n",
      "\n",
      "Epoch 00018: val_accuracy did not improve from 0.90000\n",
      "Epoch 19/25\n",
      "3/3 [==============================] - 3s 1s/step - loss: 0.2087 - accuracy: 0.9333 - val_loss: 0.7044 - val_accuracy: 0.8000\n",
      "\n",
      "Epoch 00019: val_accuracy did not improve from 0.90000\n",
      "Epoch 20/25\n",
      "3/3 [==============================] - 3s 944ms/step - loss: 0.3295 - accuracy: 0.9151 - val_loss: 0.7121 - val_accuracy: 0.7250\n",
      "\n",
      "Epoch 00020: val_accuracy did not improve from 0.90000\n",
      "Epoch 21/25\n",
      "3/3 [==============================] - 2s 919ms/step - loss: 0.1802 - accuracy: 0.9340 - val_loss: 0.5085 - val_accuracy: 0.8250\n",
      "\n",
      "Epoch 00021: val_accuracy did not improve from 0.90000\n",
      "Epoch 22/25\n",
      "3/3 [==============================] - 3s 1s/step - loss: 0.2017 - accuracy: 0.9340 - val_loss: 0.6477 - val_accuracy: 0.7750\n",
      "\n",
      "Epoch 00022: val_accuracy did not improve from 0.90000\n",
      "Epoch 23/25\n",
      "3/3 [==============================] - 3s 1s/step - loss: 0.0983 - accuracy: 0.9528 - val_loss: 0.6200 - val_accuracy: 0.8000\n",
      "\n",
      "Epoch 00023: val_accuracy did not improve from 0.90000\n",
      "Epoch 24/25\n",
      "3/3 [==============================] - 3s 1s/step - loss: 0.1837 - accuracy: 0.9340 - val_loss: 0.6840 - val_accuracy: 0.7250\n",
      "\n",
      "Epoch 00024: val_accuracy did not improve from 0.90000\n",
      "Epoch 25/25\n",
      "3/3 [==============================] - 3s 1s/step - loss: 0.1977 - accuracy: 0.9151 - val_loss: 0.5045 - val_accuracy: 0.7500\n",
      "\n",
      "Epoch 00025: val_accuracy did not improve from 0.90000\n"
     ]
    },
    {
     "data": {
      "image/png": "[encoded data removed]",
      "text/plain": [
       "<Figure size 432x288 with 1 Axes>"
      ]
     },
     "metadata": {
      "needs_background": "light"
     },
     "output_type": "display_data"
    }
   ],
   "source": [
    "hist = vggface_model.fit(train_generator,\n",
    "                steps_per_epoch = train_generator.samples // batch_size ,\n",
    "                validation_data = validation_generator, \n",
    "                validation_steps = validation_generator.samples // batch_size ,\n",
    "                verbose = 1,\n",
    "                epochs = 25,\n",
    "                callbacks=[tensorboard, checkpoint],\n",
    "#                 class_weight=class_weights\n",
    "                )\n",
    "plot_history(hist)"
   ]
  },
  {
   "cell_type": "code",
   "execution_count": 18,
   "metadata": {
    "execution": {
     "iopub.execute_input": "2022-12-20T08:45:27.647644Z",
     "iopub.status.busy": "2022-12-20T08:45:27.647264Z",
     "iopub.status.idle": "2022-12-20T08:46:17.528256Z",
     "shell.execute_reply": "2022-12-20T08:46:17.527255Z",
     "shell.execute_reply.started": "2022-12-20T08:45:27.647610Z"
    }
   },
   "outputs": [
    {
     "name": "stdout",
     "output_type": "stream",
     "text": [
      "Epoch 1/15\n",
      "1/5 [=====>........................] - ETA: 2s - loss: 0.4260 - accuracy: 0.7188"
     ]
    },
    {
     "name": "stderr",
     "output_type": "stream",
     "text": [
      "2022-12-20 08:45:28.862038: I tensorflow/core/profiler/lib/profiler_session.cc:131] Profiler session initializing.\n",
      "2022-12-20 08:45:28.862400: I tensorflow/core/profiler/lib/profiler_session.cc:146] Profiler session started.\n"
     ]
    },
    {
     "name": "stdout",
     "output_type": "stream",
     "text": [
      "2/5 [===========>..................] - ETA: 1s - loss: 0.4288 - accuracy: 0.7273"
     ]
    },
    {
     "name": "stderr",
     "output_type": "stream",
     "text": [
      "2022-12-20 08:45:29.242532: I tensorflow/core/profiler/lib/profiler_session.cc:66] Profiler session collecting data.\n",
      "2022-12-20 08:45:29.243152: I tensorflow/core/profiler/internal/gpu/cupti_tracer.cc:1748] CUPTI activity buffer flushed\n",
      "2022-12-20 08:45:29.420938: I tensorflow/core/profiler/internal/gpu/cupti_collector.cc:673]  GpuTracer has collected 364 callback api events and 361 activity events. \n",
      "2022-12-20 08:45:29.437382: I tensorflow/core/profiler/lib/profiler_session.cc:164] Profiler session tear down.\n"
     ]
    },
    {
     "name": "stdout",
     "output_type": "stream",
     "text": [
      "3/5 [=================>............] - ETA: 0s - loss: 0.4322 - accuracy: 0.6923"
     ]
    },
    {
     "name": "stderr",
     "output_type": "stream",
     "text": [
      "2022-12-20 08:45:29.456049: I tensorflow/core/profiler/rpc/client/save_profile.cc:136] Creating directory: logs/vgg16_1/train/plugins/profile/2022_12_20_08_45_29\n",
      "\n",
      "2022-12-20 08:45:29.466175: I tensorflow/core/profiler/rpc/client/save_profile.cc:142] Dumped gzipped tool data for trace.json.gz to logs/vgg16_1/train/plugins/profile/2022_12_20_08_45_29/afd87b3f4b39.trace.json.gz\n",
      "2022-12-20 08:45:29.517199: I tensorflow/core/profiler/rpc/client/save_profile.cc:136] Creating directory: logs/vgg16_1/train/plugins/profile/2022_12_20_08_45_29\n",
      "\n",
      "2022-12-20 08:45:29.525541: I tensorflow/core/profiler/rpc/client/save_profile.cc:142] Dumped gzipped tool data for memory_profile.json.gz to logs/vgg16_1/train/plugins/profile/2022_12_20_08_45_29/afd87b3f4b39.memory_profile.json.gz\n",
      "2022-12-20 08:45:29.526828: I tensorflow/core/profiler/rpc/client/capture_profile.cc:251] Creating directory: logs/vgg16_1/train/plugins/profile/2022_12_20_08_45_29\n",
      "Dumped tool data for xplane.pb to logs/vgg16_1/train/plugins/profile/2022_12_20_08_45_29/afd87b3f4b39.xplane.pb\n",
      "Dumped tool data for overview_page.pb to logs/vgg16_1/train/plugins/profile/2022_12_20_08_45_29/afd87b3f4b39.overview_page.pb\n",
      "Dumped tool data for input_pipeline.pb to logs/vgg16_1/train/plugins/profile/2022_12_20_08_45_29/afd87b3f4b39.input_pipeline.pb\n",
      "Dumped tool data for tensorflow_stats.pb to logs/vgg16_1/train/plugins/profile/2022_12_20_08_45_29/afd87b3f4b39.tensorflow_stats.pb\n",
      "Dumped tool data for kernel_stats.pb to logs/vgg16_1/train/plugins/profile/2022_12_20_08_45_29/afd87b3f4b39.kernel_stats.pb\n",
      "\n"
     ]
    },
    {
     "name": "stdout",
     "output_type": "stream",
     "text": [
      "5/5 [==============================] - 4s 764ms/step - loss: 0.4013 - accuracy: 0.7597 - val_loss: 0.9594 - val_accuracy: 0.5385\n",
      "\n",
      "Epoch 00001: val_accuracy did not improve from 0.84615\n",
      "Epoch 2/15\n",
      "5/5 [==============================] - 3s 626ms/step - loss: 0.3949 - accuracy: 0.7752 - val_loss: 0.5940 - val_accuracy: 0.7949\n",
      "\n",
      "Epoch 00002: val_accuracy did not improve from 0.84615\n",
      "Epoch 3/15\n",
      "5/5 [==============================] - 3s 517ms/step - loss: 0.3611 - accuracy: 0.7752 - val_loss: 0.8386 - val_accuracy: 0.7179\n",
      "\n",
      "Epoch 00003: val_accuracy did not improve from 0.84615\n",
      "Epoch 4/15\n",
      "5/5 [==============================] - 3s 496ms/step - loss: 0.4785 - accuracy: 0.7364 - val_loss: 0.5425 - val_accuracy: 0.7692\n",
      "\n",
      "Epoch 00004: val_accuracy did not improve from 0.84615\n",
      "Epoch 5/15\n",
      "5/5 [==============================] - 3s 498ms/step - loss: 0.3964 - accuracy: 0.7984 - val_loss: 0.7032 - val_accuracy: 0.6667\n",
      "\n",
      "Epoch 00005: val_accuracy did not improve from 0.84615\n",
      "Epoch 6/15\n",
      "5/5 [==============================] - 3s 661ms/step - loss: 0.4620 - accuracy: 0.6822 - val_loss: 0.5966 - val_accuracy: 0.6410\n",
      "\n",
      "Epoch 00006: val_accuracy did not improve from 0.84615\n",
      "Epoch 7/15\n",
      "5/5 [==============================] - 3s 546ms/step - loss: 0.3701 - accuracy: 0.7984 - val_loss: 0.4445 - val_accuracy: 0.7949\n",
      "\n",
      "Epoch 00007: val_accuracy did not improve from 0.84615\n",
      "Epoch 8/15\n",
      "5/5 [==============================] - 2s 492ms/step - loss: 0.3686 - accuracy: 0.7519 - val_loss: 1.0510 - val_accuracy: 0.7436\n",
      "\n",
      "Epoch 00008: val_accuracy did not improve from 0.84615\n",
      "Epoch 9/15\n",
      "5/5 [==============================] - 3s 498ms/step - loss: 0.3813 - accuracy: 0.7442 - val_loss: 0.5838 - val_accuracy: 0.7436\n",
      "\n",
      "Epoch 00009: val_accuracy did not improve from 0.84615\n",
      "Epoch 10/15\n",
      "5/5 [==============================] - 3s 500ms/step - loss: 0.3196 - accuracy: 0.7907 - val_loss: 1.7298 - val_accuracy: 0.7949\n",
      "\n",
      "Epoch 00010: val_accuracy did not improve from 0.84615\n",
      "Epoch 11/15\n",
      "5/5 [==============================] - 3s 562ms/step - loss: 0.3629 - accuracy: 0.7442 - val_loss: 1.5125 - val_accuracy: 0.7179\n",
      "\n",
      "Epoch 00011: val_accuracy did not improve from 0.84615\n",
      "Epoch 12/15\n",
      "5/5 [==============================] - 3s 509ms/step - loss: 0.3028 - accuracy: 0.7752 - val_loss: 1.9045 - val_accuracy: 0.7179\n",
      "\n",
      "Epoch 00012: val_accuracy did not improve from 0.84615\n",
      "Epoch 13/15\n",
      "5/5 [==============================] - 2s 486ms/step - loss: 0.3647 - accuracy: 0.7597 - val_loss: 3.1169 - val_accuracy: 0.6923\n",
      "\n",
      "Epoch 00013: val_accuracy did not improve from 0.84615\n",
      "Epoch 14/15\n",
      "5/5 [==============================] - 3s 681ms/step - loss: 0.3977 - accuracy: 0.7132 - val_loss: 1.5483 - val_accuracy: 0.7179\n",
      "\n",
      "Epoch 00014: val_accuracy did not improve from 0.84615\n",
      "Epoch 15/15\n",
      "5/5 [==============================] - 2s 492ms/step - loss: 0.2513 - accuracy: 0.8295 - val_loss: 1.5483 - val_accuracy: 0.6410\n",
      "\n",
      "Epoch 00015: val_accuracy did not improve from 0.84615\n"
     ]
    },
    {
     "data": {
      "image/png": "[encoded data removed]",
      "text/plain": [
       "<Figure size 432x288 with 1 Axes>"
      ]
     },
     "metadata": {
      "needs_background": "light"
     },
     "output_type": "display_data"
    }
   ],
   "source": [
    "hist = vggface_model.fit(train_generator,\n",
    "                steps_per_epoch = train_generator.samples // batch_size + 1,\n",
    "                validation_data = validation_generator, \n",
    "                validation_steps = validation_generator.samples // batch_size + 1,\n",
    "                verbose = 1,\n",
    "                epochs = 15,\n",
    "                callbacks=[tensorboard, checkpoint],\n",
    "                class_weight=class_weights)\n",
    "plot_history(hist)"
   ]
  },
  {
   "cell_type": "markdown",
   "metadata": {},
   "source": [
    "# Model Evaluation"
   ]
  },
  {
   "cell_type": "code",
   "execution_count": 39,
   "metadata": {
    "execution": {
     "iopub.execute_input": "2022-12-20T09:17:37.934354Z",
     "iopub.status.busy": "2022-12-20T09:17:37.933984Z",
     "iopub.status.idle": "2022-12-20T09:17:37.939264Z",
     "shell.execute_reply": "2022-12-20T09:17:37.938358Z",
     "shell.execute_reply.started": "2022-12-20T09:17:37.934324Z"
    }
   },
   "outputs": [],
   "source": [
    "from sklearn.metrics import classification_report, confusion_matrix, accuracy_score\n",
    "from sklearn import metrics"
   ]
  },
  {
   "cell_type": "code",
   "execution_count": 64,
   "metadata": {
    "execution": {
     "iopub.execute_input": "2022-12-20T09:44:22.460071Z",
     "iopub.status.busy": "2022-12-20T09:44:22.459700Z",
     "iopub.status.idle": "2022-12-20T09:44:23.980270Z",
     "shell.execute_reply": "2022-12-20T09:44:23.979267Z",
     "shell.execute_reply.started": "2022-12-20T09:44:22.460042Z"
    }
   },
   "outputs": [
    {
     "name": "stdout",
     "output_type": "stream",
     "text": [
      "2/2 [==============================] - 1s 20ms/step - loss: 0.3521 - accuracy: 0.8537\n",
      "['loss', 'accuracy']\n",
      "[0.3520660400390625, 0.8536585569381714]\n"
     ]
    }
   ],
   "source": [
    "evalu = vggface_model.evaluate(validation_generator)\n",
    "print(vggface_model.metrics_names)\n",
    "print(evalu)"
   ]
  },
  {
   "cell_type": "code",
   "execution_count": 65,
   "metadata": {
    "execution": {
     "iopub.execute_input": "2022-12-20T09:44:27.199622Z",
     "iopub.status.busy": "2022-12-20T09:44:27.198515Z",
     "iopub.status.idle": "2022-12-20T09:44:28.473505Z",
     "shell.execute_reply": "2022-12-20T09:44:28.471187Z",
     "shell.execute_reply.started": "2022-12-20T09:44:27.199581Z"
    }
   },
   "outputs": [
    {
     "name": "stderr",
     "output_type": "stream",
     "text": [
      "/opt/conda/lib/python3.7/site-packages/keras/engine/training.py:2035: UserWarning: `Model.predict_generator` is deprecated and will be removed in a future version. Please use `Model.predict`, which supports generators.\n",
      "  warnings.warn('`Model.predict_generator` is deprecated and '\n"
     ]
    },
    {
     "name": "stdout",
     "output_type": "stream",
     "text": [
      "Confusion Matrix: \n",
      "[[17  1]\n",
      " [ 4 19]]\n",
      "Classification Report\n",
      "              precision    recall  f1-score   support\n",
      "\n",
      "           0       0.81      0.94      0.87        18\n",
      "           1       0.95      0.83      0.88        23\n",
      "\n",
      "    accuracy                           0.88        41\n",
      "   macro avg       0.88      0.89      0.88        41\n",
      "weighted avg       0.89      0.88      0.88        41\n",
      "\n"
     ]
    }
   ],
   "source": [
    "Y_pred = vggface_model.predict_generator(validation_generator, validation_generator.samples // batch_size+1)\n",
    "y_pred = np.argmax(Y_pred, axis=1)\n",
    "print('Confusion Matrix: ')\n",
    "confusion_matrix_ = confusion_matrix(validation_generator.classes, y_pred)\n",
    "print(confusion_matrix_)\n",
    "\n",
    "print('Classification Report')\n",
    "target_names = ['0', '1']\n",
    "print(classification_report(validation_generator.classes, y_pred, target_names=target_names))"
   ]
  },
  {
   "cell_type": "code",
   "execution_count": 66,
   "metadata": {
    "execution": {
     "iopub.execute_input": "2022-12-20T09:44:32.450392Z",
     "iopub.status.busy": "2022-12-20T09:44:32.449587Z",
     "iopub.status.idle": "2022-12-20T09:44:32.721347Z",
     "shell.execute_reply": "2022-12-20T09:44:32.720275Z",
     "shell.execute_reply.started": "2022-12-20T09:44:32.450352Z"
    }
   },
   "outputs": [
    {
     "data": {
      "image/png": "[encoded data removed]",
      "text/plain": [
       "<Figure size 432x288 with 2 Axes>"
      ]
     },
     "metadata": {
      "needs_background": "light"
     },
     "output_type": "display_data"
    },
    {
     "data": {
      "text/plain": [
       "<Figure size 432x288 with 0 Axes>"
      ]
     },
     "metadata": {},
     "output_type": "display_data"
    }
   ],
   "source": [
    "cm_display = metrics.ConfusionMatrixDisplay(confusion_matrix = confusion_matrix_, display_labels = ['no pain', 'pain'])\n",
    "cm_display.plot()\n",
    "plt.show()\n",
    "plt.savefig(\"confusion matrix\")"
   ]
  },
  {
   "cell_type": "markdown",
   "metadata": {},
   "source": [
    "#  Fine Tunning"
   ]
  },
  {
   "cell_type": "code",
   "execution_count": 48,
   "metadata": {
    "execution": {
     "iopub.execute_input": "2022-12-20T09:26:26.271825Z",
     "iopub.status.busy": "2022-12-20T09:26:26.271101Z",
     "iopub.status.idle": "2022-12-20T09:26:26.286271Z",
     "shell.execute_reply": "2022-12-20T09:26:26.285206Z",
     "shell.execute_reply.started": "2022-12-20T09:26:26.271783Z"
    }
   },
   "outputs": [
    {
     "data": {
      "text/plain": [
       "<keras.engine.functional.Functional at 0x7efdba24b890>"
      ]
     },
     "execution_count": 48,
     "metadata": {},
     "output_type": "execute_result"
    }
   ],
   "source": [
    "vggface_model.trainable  = True\n",
    "assert vggface_model.layers[0].trainable == True\n",
    "vggface_model.layers[0]"
   ]
  },
  {
   "cell_type": "code",
   "execution_count": 51,
   "metadata": {
    "execution": {
     "iopub.execute_input": "2022-12-20T09:30:15.879255Z",
     "iopub.status.busy": "2022-12-20T09:30:15.878876Z",
     "iopub.status.idle": "2022-12-20T09:33:37.580617Z",
     "shell.execute_reply": "2022-12-20T09:33:37.579617Z",
     "shell.execute_reply.started": "2022-12-20T09:30:15.879224Z"
    }
   },
   "outputs": [
    {
     "name": "stdout",
     "output_type": "stream",
     "text": [
      "Epoch 1/50\n",
      "1/4 [======>.......................] - ETA: 2s - loss: 0.0483 - accuracy: 1.0000"
     ]
    },
    {
     "name": "stderr",
     "output_type": "stream",
     "text": [
      "2022-12-20 09:30:17.561255: I tensorflow/core/profiler/lib/profiler_session.cc:131] Profiler session initializing.\n",
      "2022-12-20 09:30:17.561307: I tensorflow/core/profiler/lib/profiler_session.cc:146] Profiler session started.\n"
     ]
    },
    {
     "name": "stdout",
     "output_type": "stream",
     "text": [
      "2/4 [==============>...............] - ETA: 1s - loss: 0.0371 - accuracy: 1.0000"
     ]
    },
    {
     "name": "stderr",
     "output_type": "stream",
     "text": [
      "2022-12-20 09:30:18.288959: I tensorflow/core/profiler/lib/profiler_session.cc:66] Profiler session collecting data.\n",
      "2022-12-20 09:30:18.289743: I tensorflow/core/profiler/internal/gpu/cupti_tracer.cc:1748] CUPTI activity buffer flushed\n",
      "2022-12-20 09:30:18.488105: I tensorflow/core/profiler/internal/gpu/cupti_collector.cc:673]  GpuTracer has collected 367 callback api events and 364 activity events. \n",
      "2022-12-20 09:30:18.506060: I tensorflow/core/profiler/lib/profiler_session.cc:164] Profiler session tear down.\n",
      "2022-12-20 09:30:18.526046: I tensorflow/core/profiler/rpc/client/save_profile.cc:136] Creating directory: logs/vgg16_1/train/plugins/profile/2022_12_20_09_30_18\n",
      "\n",
      "2022-12-20 09:30:18.536606: I tensorflow/core/profiler/rpc/client/save_profile.cc:142] Dumped gzipped tool data for trace.json.gz to logs/vgg16_1/train/plugins/profile/2022_12_20_09_30_18/3d0ef650bd6d.trace.json.gz\n",
      "2022-12-20 09:30:18.597767: I tensorflow/core/profiler/rpc/client/save_profile.cc:136] Creating directory: logs/vgg16_1/train/plugins/profile/2022_12_20_09_30_18\n",
      "\n",
      "2022-12-20 09:30:18.606835: I tensorflow/core/profiler/rpc/client/save_profile.cc:142] Dumped gzipped tool data for memory_profile.json.gz to logs/vgg16_1/train/plugins/profile/2022_12_20_09_30_18/3d0ef650bd6d.memory_profile.json.gz\n",
      "2022-12-20 09:30:18.608396: I tensorflow/core/profiler/rpc/client/capture_profile.cc:251] Creating directory: logs/vgg16_1/train/plugins/profile/2022_12_20_09_30_18\n",
      "Dumped tool data for xplane.pb to logs/vgg16_1/train/plugins/profile/2022_12_20_09_30_18/3d0ef650bd6d.xplane.pb\n",
      "Dumped tool data for overview_page.pb to logs/vgg16_1/train/plugins/profile/2022_12_20_09_30_18/3d0ef650bd6d.overview_page.pb\n",
      "Dumped tool data for input_pipeline.pb to logs/vgg16_1/train/plugins/profile/2022_12_20_09_30_18/3d0ef650bd6d.input_pipeline.pb\n",
      "Dumped tool data for tensorflow_stats.pb to logs/vgg16_1/train/plugins/profile/2022_12_20_09_30_18/3d0ef650bd6d.tensorflow_stats.pb\n",
      "Dumped tool data for kernel_stats.pb to logs/vgg16_1/train/plugins/profile/2022_12_20_09_30_18/3d0ef650bd6d.kernel_stats.pb\n",
      "\n"
     ]
    },
    {
     "name": "stdout",
     "output_type": "stream",
     "text": [
      "4/4 [==============================] - 4s 1s/step - loss: 0.0493 - accuracy: 0.9795 - val_loss: 1.3320 - val_accuracy: 0.7561\n",
      "\n",
      "Epoch 00001: val_accuracy did not improve from 0.90000\n",
      "Epoch 2/50\n",
      "4/4 [==============================] - 3s 757ms/step - loss: 0.0404 - accuracy: 0.9795 - val_loss: 1.1056 - val_accuracy: 0.7805\n",
      "\n",
      "Epoch 00002: val_accuracy did not improve from 0.90000\n",
      "Epoch 3/50\n",
      "4/4 [==============================] - 3s 780ms/step - loss: 0.0454 - accuracy: 0.9932 - val_loss: 1.2658 - val_accuracy: 0.7317\n",
      "\n",
      "Epoch 00003: val_accuracy did not improve from 0.90000\n",
      "Epoch 4/50\n",
      "4/4 [==============================] - 4s 1s/step - loss: 0.0463 - accuracy: 0.9863 - val_loss: 1.2409 - val_accuracy: 0.7561\n",
      "\n",
      "Epoch 00004: val_accuracy did not improve from 0.90000\n",
      "Epoch 5/50\n",
      "4/4 [==============================] - 3s 753ms/step - loss: 0.0736 - accuracy: 0.9589 - val_loss: 0.9676 - val_accuracy: 0.8293\n",
      "\n",
      "Epoch 00005: val_accuracy did not improve from 0.90000\n",
      "Epoch 6/50\n",
      "4/4 [==============================] - 4s 981ms/step - loss: 0.0992 - accuracy: 0.9795 - val_loss: 0.7079 - val_accuracy: 0.8293\n",
      "\n",
      "Epoch 00006: val_accuracy did not improve from 0.90000\n",
      "Epoch 7/50\n",
      "4/4 [==============================] - 3s 719ms/step - loss: 0.0915 - accuracy: 0.9521 - val_loss: 0.6532 - val_accuracy: 0.8537\n",
      "\n",
      "Epoch 00007: val_accuracy did not improve from 0.90000\n",
      "Epoch 8/50\n",
      "4/4 [==============================] - 3s 826ms/step - loss: 0.0742 - accuracy: 0.9589 - val_loss: 0.9297 - val_accuracy: 0.8293\n",
      "\n",
      "Epoch 00008: val_accuracy did not improve from 0.90000\n",
      "Epoch 9/50\n",
      "4/4 [==============================] - 3s 778ms/step - loss: 0.1204 - accuracy: 0.9589 - val_loss: 0.4028 - val_accuracy: 0.9268\n",
      "\n",
      "Epoch 00009: val_accuracy improved from 0.90000 to 0.92683, saving model to checkpoints/checkpoint_e09_Va0.93.h5\n",
      "Epoch 10/50\n",
      "4/4 [==============================] - 3s 746ms/step - loss: 0.1320 - accuracy: 0.9658 - val_loss: 0.7500 - val_accuracy: 0.8537\n",
      "\n",
      "Epoch 00010: val_accuracy did not improve from 0.92683\n",
      "Epoch 11/50\n",
      "4/4 [==============================] - 4s 823ms/step - loss: 0.0694 - accuracy: 0.9795 - val_loss: 0.6390 - val_accuracy: 0.8537\n",
      "\n",
      "Epoch 00011: val_accuracy did not improve from 0.92683\n",
      "Epoch 12/50\n",
      "4/4 [==============================] - 3s 744ms/step - loss: 0.0828 - accuracy: 0.9795 - val_loss: 0.8092 - val_accuracy: 0.8293\n",
      "\n",
      "Epoch 00012: val_accuracy did not improve from 0.92683\n",
      "Epoch 13/50\n",
      "4/4 [==============================] - 3s 812ms/step - loss: 0.0786 - accuracy: 0.9795 - val_loss: 0.5436 - val_accuracy: 0.8537\n",
      "\n",
      "Epoch 00013: val_accuracy did not improve from 0.92683\n",
      "Epoch 14/50\n",
      "4/4 [==============================] - 3s 799ms/step - loss: 0.0638 - accuracy: 0.9863 - val_loss: 0.9308 - val_accuracy: 0.8293\n",
      "\n",
      "Epoch 00014: val_accuracy did not improve from 0.92683\n",
      "Epoch 15/50\n",
      "4/4 [==============================] - 3s 805ms/step - loss: 0.0959 - accuracy: 0.9589 - val_loss: 0.6900 - val_accuracy: 0.8780\n",
      "\n",
      "Epoch 00015: val_accuracy did not improve from 0.92683\n",
      "Epoch 16/50\n",
      "4/4 [==============================] - 3s 767ms/step - loss: 0.1721 - accuracy: 0.9521 - val_loss: 0.8692 - val_accuracy: 0.7317\n",
      "\n",
      "Epoch 00016: val_accuracy did not improve from 0.92683\n",
      "Epoch 17/50\n",
      "4/4 [==============================] - 3s 877ms/step - loss: 0.0763 - accuracy: 0.9726 - val_loss: 0.7898 - val_accuracy: 0.7561\n",
      "\n",
      "Epoch 00017: val_accuracy did not improve from 0.92683\n",
      "Epoch 18/50\n",
      "4/4 [==============================] - 3s 818ms/step - loss: 0.0497 - accuracy: 0.9795 - val_loss: 0.7356 - val_accuracy: 0.8293\n",
      "\n",
      "Epoch 00018: val_accuracy did not improve from 0.92683\n",
      "Epoch 19/50\n",
      "4/4 [==============================] - 4s 1s/step - loss: 0.0670 - accuracy: 0.9589 - val_loss: 0.4424 - val_accuracy: 0.8537\n",
      "\n",
      "Epoch 00019: val_accuracy did not improve from 0.92683\n",
      "Epoch 20/50\n",
      "4/4 [==============================] - 3s 754ms/step - loss: 0.0244 - accuracy: 0.9932 - val_loss: 0.7952 - val_accuracy: 0.7805\n",
      "\n",
      "Epoch 00020: val_accuracy did not improve from 0.92683\n",
      "Epoch 21/50\n",
      "4/4 [==============================] - 3s 847ms/step - loss: 0.1180 - accuracy: 0.9452 - val_loss: 1.0811 - val_accuracy: 0.7805\n",
      "\n",
      "Epoch 00021: val_accuracy did not improve from 0.92683\n",
      "Epoch 22/50\n",
      "4/4 [==============================] - 3s 815ms/step - loss: 0.0415 - accuracy: 0.9863 - val_loss: 0.7094 - val_accuracy: 0.8780\n",
      "\n",
      "Epoch 00022: val_accuracy did not improve from 0.92683\n",
      "Epoch 23/50\n",
      "4/4 [==============================] - 3s 736ms/step - loss: 0.2323 - accuracy: 0.9521 - val_loss: 0.9205 - val_accuracy: 0.7561\n",
      "\n",
      "Epoch 00023: val_accuracy did not improve from 0.92683\n",
      "Epoch 24/50\n",
      "4/4 [==============================] - 3s 756ms/step - loss: 0.0815 - accuracy: 0.9658 - val_loss: 0.8367 - val_accuracy: 0.8049\n",
      "\n",
      "Epoch 00024: val_accuracy did not improve from 0.92683\n",
      "Epoch 25/50\n",
      "4/4 [==============================] - 3s 813ms/step - loss: 0.0477 - accuracy: 0.9795 - val_loss: 0.5374 - val_accuracy: 0.8537\n",
      "\n",
      "Epoch 00025: val_accuracy did not improve from 0.92683\n",
      "Epoch 26/50\n",
      "4/4 [==============================] - 3s 766ms/step - loss: 0.0585 - accuracy: 0.9521 - val_loss: 0.6804 - val_accuracy: 0.7805\n",
      "\n",
      "Epoch 00026: val_accuracy did not improve from 0.92683\n",
      "Epoch 27/50\n",
      "4/4 [==============================] - 3s 770ms/step - loss: 0.0534 - accuracy: 0.9932 - val_loss: 0.6913 - val_accuracy: 0.7561\n",
      "\n",
      "Epoch 00027: val_accuracy did not improve from 0.92683\n",
      "Epoch 28/50\n",
      "4/4 [==============================] - 3s 743ms/step - loss: 0.0736 - accuracy: 0.9726 - val_loss: 0.8000 - val_accuracy: 0.6829\n",
      "\n",
      "Epoch 00028: val_accuracy did not improve from 0.92683\n",
      "Epoch 29/50\n",
      "4/4 [==============================] - 3s 835ms/step - loss: 0.0944 - accuracy: 0.9795 - val_loss: 0.7465 - val_accuracy: 0.8049\n",
      "\n",
      "Epoch 00029: val_accuracy did not improve from 0.92683\n",
      "Epoch 30/50\n",
      "4/4 [==============================] - 4s 946ms/step - loss: 0.0733 - accuracy: 0.9726 - val_loss: 0.7543 - val_accuracy: 0.8293\n",
      "\n",
      "Epoch 00030: val_accuracy did not improve from 0.92683\n",
      "Epoch 31/50\n",
      "4/4 [==============================] - 3s 754ms/step - loss: 0.0602 - accuracy: 0.9726 - val_loss: 0.6433 - val_accuracy: 0.7561\n",
      "\n",
      "Epoch 00031: val_accuracy did not improve from 0.92683\n",
      "Epoch 32/50\n",
      "4/4 [==============================] - 3s 732ms/step - loss: 0.0655 - accuracy: 0.9658 - val_loss: 0.6449 - val_accuracy: 0.8293\n",
      "\n",
      "Epoch 00032: val_accuracy did not improve from 0.92683\n",
      "Epoch 33/50\n",
      "4/4 [==============================] - 4s 943ms/step - loss: 0.0384 - accuracy: 0.9863 - val_loss: 0.7376 - val_accuracy: 0.8537\n",
      "\n",
      "Epoch 00033: val_accuracy did not improve from 0.92683\n",
      "Epoch 34/50\n",
      "4/4 [==============================] - 3s 991ms/step - loss: 0.0314 - accuracy: 0.9863 - val_loss: 0.6985 - val_accuracy: 0.8049\n",
      "\n",
      "Epoch 00034: val_accuracy did not improve from 0.92683\n",
      "Epoch 35/50\n",
      "4/4 [==============================] - 3s 755ms/step - loss: 0.0306 - accuracy: 0.9863 - val_loss: 0.9319 - val_accuracy: 0.8293\n",
      "\n",
      "Epoch 00035: val_accuracy did not improve from 0.92683\n",
      "Epoch 36/50\n",
      "4/4 [==============================] - 3s 831ms/step - loss: 0.1031 - accuracy: 0.9795 - val_loss: 0.7830 - val_accuracy: 0.7805\n",
      "\n",
      "Epoch 00036: val_accuracy did not improve from 0.92683\n",
      "Epoch 37/50\n",
      "4/4 [==============================] - 3s 751ms/step - loss: 0.0630 - accuracy: 0.9658 - val_loss: 0.7077 - val_accuracy: 0.8780\n",
      "\n",
      "Epoch 00037: val_accuracy did not improve from 0.92683\n",
      "Epoch 38/50\n",
      "4/4 [==============================] - 4s 1s/step - loss: 0.1266 - accuracy: 0.9589 - val_loss: 0.5596 - val_accuracy: 0.8293\n",
      "\n",
      "Epoch 00038: val_accuracy did not improve from 0.92683\n",
      "Epoch 39/50\n",
      "4/4 [==============================] - 3s 732ms/step - loss: 0.0414 - accuracy: 0.9863 - val_loss: 0.5835 - val_accuracy: 0.9024\n",
      "\n",
      "Epoch 00039: val_accuracy did not improve from 0.92683\n",
      "Epoch 40/50\n",
      "4/4 [==============================] - 3s 936ms/step - loss: 0.0606 - accuracy: 0.9863 - val_loss: 0.9531 - val_accuracy: 0.8293\n",
      "\n",
      "Epoch 00040: val_accuracy did not improve from 0.92683\n",
      "Epoch 41/50\n",
      "4/4 [==============================] - 4s 957ms/step - loss: 0.0462 - accuracy: 0.9795 - val_loss: 0.7804 - val_accuracy: 0.8293\n",
      "\n",
      "Epoch 00041: val_accuracy did not improve from 0.92683\n",
      "Epoch 42/50\n",
      "4/4 [==============================] - 3s 996ms/step - loss: 0.0949 - accuracy: 0.9658 - val_loss: 0.5490 - val_accuracy: 0.8293\n",
      "\n",
      "Epoch 00042: val_accuracy did not improve from 0.92683\n",
      "Epoch 43/50\n",
      "4/4 [==============================] - 3s 761ms/step - loss: 0.0921 - accuracy: 0.9726 - val_loss: 0.7163 - val_accuracy: 0.8537\n",
      "\n",
      "Epoch 00043: val_accuracy did not improve from 0.92683\n",
      "Epoch 44/50\n",
      "4/4 [==============================] - 3s 905ms/step - loss: 0.0464 - accuracy: 0.9795 - val_loss: 0.7203 - val_accuracy: 0.7805\n",
      "\n",
      "Epoch 00044: val_accuracy did not improve from 0.92683\n",
      "Epoch 45/50\n",
      "4/4 [==============================] - 3s 723ms/step - loss: 0.0772 - accuracy: 0.9726 - val_loss: 0.6898 - val_accuracy: 0.8780\n",
      "\n",
      "Epoch 00045: val_accuracy did not improve from 0.92683\n",
      "Epoch 46/50\n",
      "4/4 [==============================] - 3s 814ms/step - loss: 0.0572 - accuracy: 0.9795 - val_loss: 0.6549 - val_accuracy: 0.7805\n",
      "\n",
      "Epoch 00046: val_accuracy did not improve from 0.92683\n",
      "Epoch 47/50\n",
      "4/4 [==============================] - 4s 992ms/step - loss: 0.0196 - accuracy: 0.9932 - val_loss: 1.0019 - val_accuracy: 0.7561\n",
      "\n",
      "Epoch 00047: val_accuracy did not improve from 0.92683\n",
      "Epoch 48/50\n",
      "4/4 [==============================] - 3s 814ms/step - loss: 0.0798 - accuracy: 0.9658 - val_loss: 0.8539 - val_accuracy: 0.7805\n",
      "\n",
      "Epoch 00048: val_accuracy did not improve from 0.92683\n",
      "Epoch 49/50\n",
      "4/4 [==============================] - 3s 755ms/step - loss: 0.0889 - accuracy: 0.9589 - val_loss: 0.7650 - val_accuracy: 0.8293\n",
      "\n",
      "Epoch 00049: val_accuracy did not improve from 0.92683\n",
      "Epoch 50/50\n",
      "4/4 [==============================] - 3s 875ms/step - loss: 0.0986 - accuracy: 0.9521 - val_loss: 0.5914 - val_accuracy: 0.8537\n",
      "\n",
      "Epoch 00050: val_accuracy did not improve from 0.92683\n"
     ]
    },
    {
     "data": {
      "image/png": "[encoded data removed]",
      "text/plain": [
       "<Figure size 432x288 with 1 Axes>"
      ]
     },
     "metadata": {
      "needs_background": "light"
     },
     "output_type": "display_data"
    }
   ],
   "source": [
    "hist = vggface_model.fit(train_generator,\n",
    "                steps_per_epoch = train_generator.samples // batch_size + 1,\n",
    "                validation_data = validation_generator, \n",
    "                validation_steps = validation_generator.samples // batch_size + 1, \n",
    "                verbose = 1,\n",
    "                epochs = 50,\n",
    "                callbacks=[tensorboard, checkpoint],\n",
    "                class_weight=class_weights)\n",
    "plot_history(hist)"
   ]
  },
  {
   "cell_type": "markdown",
   "metadata": {},
   "source": [
    "# Download Checkpoints"
   ]
  },
  {
   "cell_type": "code",
   "execution_count": 52,
   "metadata": {
    "execution": {
     "iopub.execute_input": "2022-12-20T09:33:59.784941Z",
     "iopub.status.busy": "2022-12-20T09:33:59.783777Z",
     "iopub.status.idle": "2022-12-20T09:34:51.075788Z",
     "shell.execute_reply": "2022-12-20T09:34:51.074249Z",
     "shell.execute_reply.started": "2022-12-20T09:33:59.784895Z"
    }
   },
   "outputs": [
    {
     "name": "stdout",
     "output_type": "stream",
     "text": [
      "updating: kaggle/working/checkpoints/ (stored 0%)\n",
      "updating: kaggle/working/checkpoints/checkpoint_e04_Va0.59.h5 (deflated 7%)\n",
      "updating: kaggle/working/checkpoints/checkpoint_e02_Va0.77.h5 (deflated 7%)\n",
      "updating: kaggle/working/checkpoints/checkpoint_e01_Va0.54.h5 (deflated 7%)\n",
      "updating: kaggle/working/checkpoints/checkpoint_e01_Va0.75.h5 (deflated 7%)\n",
      "updating: kaggle/working/checkpoints/checkpoint_e04_Va0.85.h5 (deflated 7%)\n",
      "updating: kaggle/working/checkpoints/checkpoint_e02_Va0.56.h5 (deflated 7%)\n",
      "updating: kaggle/working/checkpoints/checkpoint_e13_Va0.90.h5 (deflated 7%)\n",
      "  adding: kaggle/working/checkpoints/checkpoint_e09_Va0.93.h5 (deflated 7%)\n"
     ]
    }
   ],
   "source": [
    "!zip -r file_checkpoints.zip /kaggle/working/checkpoints"
   ]
  },
  {
   "cell_type": "code",
   "execution_count": 53,
   "metadata": {
    "execution": {
     "iopub.execute_input": "2022-12-20T09:34:51.088311Z",
     "iopub.status.busy": "2022-12-20T09:34:51.087914Z",
     "iopub.status.idle": "2022-12-20T09:34:51.706561Z",
     "shell.execute_reply": "2022-12-20T09:34:51.705404Z",
     "shell.execute_reply.started": "2022-12-20T09:34:51.088271Z"
    }
   },
   "outputs": [
    {
     "name": "stderr",
     "output_type": "stream",
     "text": [
      "/opt/conda/lib/python3.7/site-packages/keras/utils/generic_utils.py:497: CustomMaskWarning: Custom mask layers require a config and must override get_config. When loading, the custom mask layer must be passed to the custom_objects argument.\n",
      "  category=CustomMaskWarning)\n"
     ]
    }
   ],
   "source": [
    "vggface_model.save(\"vggface_acc_95_val_acc_85.h5\")"
   ]
  },
  {
   "cell_type": "markdown",
   "metadata": {},
   "source": [
    "# prediction"
   ]
  },
  {
   "cell_type": "code",
   "execution_count": 54,
   "metadata": {
    "execution": {
     "iopub.execute_input": "2022-12-20T09:37:38.621302Z",
     "iopub.status.busy": "2022-12-20T09:37:38.620579Z",
     "iopub.status.idle": "2022-12-20T09:37:40.145035Z",
     "shell.execute_reply": "2022-12-20T09:37:40.142303Z",
     "shell.execute_reply.started": "2022-12-20T09:37:38.621265Z"
    }
   },
   "outputs": [
    {
     "name": "stdout",
     "output_type": "stream",
     "text": [
      "--2022-12-20 09:37:39--  https://media.istockphoto.com/id/1273195457/photo/dealing-with-a-bit-of-tension.jpg?s=612x612&w=0&k=20&c=QSsovLTPUMwOOlnDSSPIGSgz9ZPeTF6SaFV-foKmdSg=\n",
      "Resolving media.istockphoto.com (media.istockphoto.com)... 18.165.116.109, 18.165.116.39, 18.165.116.17, ...\n",
      "Connecting to media.istockphoto.com (media.istockphoto.com)|18.165.116.109|:443... connected.\n",
      "HTTP request sent, awaiting response... 200 OK\n",
      "Length: 30141 (29K) [image/jpeg]\n",
      "Saving to: ‘dealing-with-a-bit-of-tension.jpg?s=612x612&w=0&k=20&c=QSsovLTPUMwOOlnDSSPIGSgz9ZPeTF6SaFV-foKmdSg=’\n",
      "\n",
      "dealing-with-a-bit- 100%[===================>]  29.43K  --.-KB/s    in 0.003s  \n",
      "\n",
      "2022-12-20 09:37:40 (9.38 MB/s) - ‘dealing-with-a-bit-of-tension.jpg?s=612x612&w=0&k=20&c=QSsovLTPUMwOOlnDSSPIGSgz9ZPeTF6SaFV-foKmdSg=’ saved [30141/30141]\n",
      "\n"
     ]
    }
   ],
   "source": [
    "!wget \"https://media.istockphoto.com/id/1273195457/photo/dealing-with-a-bit-of-tension.jpg?s=612x612&w=0&k=20&c=QSsovLTPUMwOOlnDSSPIGSgz9ZPeTF6SaFV-foKmdSg=\""
   ]
  },
  {
   "cell_type": "code",
   "execution_count": 57,
   "metadata": {
    "execution": {
     "iopub.execute_input": "2022-12-20T09:41:43.117613Z",
     "iopub.status.busy": "2022-12-20T09:41:43.117229Z",
     "iopub.status.idle": "2022-12-20T09:41:53.554985Z",
     "shell.execute_reply": "2022-12-20T09:41:53.553724Z",
     "shell.execute_reply.started": "2022-12-20T09:41:43.117581Z"
    }
   },
   "outputs": [
    {
     "name": "stdout",
     "output_type": "stream",
     "text": [
      "Requirement already satisfied: dlib in /opt/conda/lib/python3.7/site-packages (19.24.0)\n",
      "\u001b[33mWARNING: Running pip as the 'root' user can result in broken permissions and conflicting behaviour with the system package manager. It is recommended to use a virtual environment instead: https://pip.pypa.io/warnings/venv\u001b[0m\u001b[33m\n",
      "\u001b[0m"
     ]
    }
   ],
   "source": [
    "# !pip install dlib"
   ]
  },
  {
   "cell_type": "code",
   "execution_count": 60,
   "metadata": {
    "execution": {
     "iopub.execute_input": "2022-12-20T09:42:15.280029Z",
     "iopub.status.busy": "2022-12-20T09:42:15.279638Z",
     "iopub.status.idle": "2022-12-20T09:42:15.287124Z",
     "shell.execute_reply": "2022-12-20T09:42:15.286196Z",
     "shell.execute_reply.started": "2022-12-20T09:42:15.279992Z"
    }
   },
   "outputs": [],
   "source": [
    "import dlib\n",
    "\n",
    "def predict(image, model, image_shape=224):\n",
    "    IMG_SHAPE = image_shape\n",
    "    \n",
    "    # detect face in the image\n",
    "    face_detector = dlib.get_frontal_face_detector()\n",
    "    faces = face_detector(image, 1)\n",
    "                \n",
    "    if not len(faces):\n",
    "        c += 1\n",
    "        print(\"no face detected..\")\n",
    "        return -1\n",
    "                    \n",
    "    face = faces[0]\n",
    "    x = face.left()\n",
    "    y = face.top()\n",
    "    x1 = face.right()\n",
    "    y1 = face.bottom()\n",
    "\n",
    "    face_cropped = image[y: y1, x: x1]\n",
    "    img_data = cv2.resize(face_cropped, (IMG_SHAPE, IMG_SHAPE))\n",
    "    return np.argmax(model.predict(img_data.reshape(-1, IMG_SHAPE, IMG_SHAPE, 3)), axis=1)"
   ]
  },
  {
   "cell_type": "code",
   "execution_count": 61,
   "metadata": {
    "execution": {
     "iopub.execute_input": "2022-12-20T09:42:15.973389Z",
     "iopub.status.busy": "2022-12-20T09:42:15.973039Z",
     "iopub.status.idle": "2022-12-20T09:42:17.337329Z",
     "shell.execute_reply": "2022-12-20T09:42:17.336338Z",
     "shell.execute_reply.started": "2022-12-20T09:42:15.973359Z"
    }
   },
   "outputs": [
    {
     "data": {
      "text/plain": [
       "array([1])"
      ]
     },
     "execution_count": 61,
     "metadata": {},
     "output_type": "execute_result"
    }
   ],
   "source": [
    "image = cv2.imread(\"/kaggle/working/dealing-with-a-bit-of-tension.jpg?s=612x612&w=0&k=20&c=QSsovLTPUMwOOlnDSSPIGSgz9ZPeTF6SaFV-foKmdSg=\")\n",
    "predict(image, vggface_model)"
   ]
  },
  {
   "cell_type": "code",
   "execution_count": 62,
   "metadata": {
    "execution": {
     "iopub.execute_input": "2022-12-20T09:43:16.208713Z",
     "iopub.status.busy": "2022-12-20T09:43:16.207599Z",
     "iopub.status.idle": "2022-12-20T09:43:17.716119Z",
     "shell.execute_reply": "2022-12-20T09:43:17.714929Z",
     "shell.execute_reply.started": "2022-12-20T09:43:16.208644Z"
    }
   },
   "outputs": [
    {
     "name": "stdout",
     "output_type": "stream",
     "text": [
      "--2022-12-20 09:43:17--  https://chopra.brightspotcdn.com/b5/41/8aebe23d84a88f9a0a56b9924c37/guylaughing.jpg\n",
      "Resolving chopra.brightspotcdn.com (chopra.brightspotcdn.com)... 13.33.4.120, 13.33.4.117, 13.33.4.14, ...\n",
      "Connecting to chopra.brightspotcdn.com (chopra.brightspotcdn.com)|13.33.4.120|:443... connected.\n",
      "HTTP request sent, awaiting response... 200 OK\n",
      "Length: 50218 (49K) [image/jpeg]\n",
      "Saving to: ‘guylaughing.jpg’\n",
      "\n",
      "guylaughing.jpg     100%[===================>]  49.04K  --.-KB/s    in 0.04s   \n",
      "\n",
      "2022-12-20 09:43:17 (1.25 MB/s) - ‘guylaughing.jpg’ saved [50218/50218]\n",
      "\n"
     ]
    }
   ],
   "source": [
    "!wget \"https://chopra.brightspotcdn.com/b5/41/8aebe23d84a88f9a0a56b9924c37/guylaughing.jpg\""
   ]
  },
  {
   "cell_type": "code",
   "execution_count": 63,
   "metadata": {
    "execution": {
     "iopub.execute_input": "2022-12-20T09:44:00.523336Z",
     "iopub.status.busy": "2022-12-20T09:44:00.522209Z",
     "iopub.status.idle": "2022-12-20T09:44:01.116586Z",
     "shell.execute_reply": "2022-12-20T09:44:01.112629Z",
     "shell.execute_reply.started": "2022-12-20T09:44:00.523289Z"
    }
   },
   "outputs": [
    {
     "data": {
      "text/plain": [
       "array([0])"
      ]
     },
     "execution_count": 63,
     "metadata": {},
     "output_type": "execute_result"
    }
   ],
   "source": [
    "image = cv2.imread(\"/kaggle/working/guylaughing.jpg\")\n",
    "predict(image, vggface_model)"
   ]
  },
  {
   "cell_type": "code",
   "execution_count": null,
   "metadata": {},
   "outputs": [],
   "source": []
  },
  {
   "cell_type": "code",
   "execution_count": null,
   "metadata": {},
   "outputs": [],
   "source": []
  }
 ],
 "metadata": {
  "kernelspec": {
   "display_name": "Python 3 (ipykernel)",
   "language": "python",
   "name": "python3"
  },
  "language_info": {
   "codemirror_mode": {
    "name": "ipython",
    "version": 3
   },
   "file_extension": ".py",
   "mimetype": "text/x-python",
   "name": "python",
   "nbconvert_exporter": "python",
   "pygments_lexer": "ipython3",
   "version": "3.9.16"
  }
 },
 "nbformat": 4,
 "nbformat_minor": 4
}
